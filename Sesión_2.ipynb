{
  "nbformat": 4,
  "nbformat_minor": 0,
  "metadata": {
    "colab": {
      "name": "Sesión 2",
      "provenance": [],
      "collapsed_sections": [],
      "authorship_tag": "ABX9TyN8IfarWP59Jjkn3umUvgX4",
      "include_colab_link": true
    },
    "kernelspec": {
      "name": "python3",
      "display_name": "Python 3"
    }
  },
  "cells": [
    {
      "cell_type": "markdown",
      "metadata": {
        "id": "view-in-github",
        "colab_type": "text"
      },
      "source": [
        "<a href=\"https://colab.research.google.com/github/jotadram6/EACD-02-ESTADISTICA/blob/master/Sesi%C3%B3n_2.ipynb\" target=\"_parent\"><img src=\"https://colab.research.google.com/assets/colab-badge.svg\" alt=\"Open In Colab\"/></a>"
      ]
    },
    {
      "cell_type": "markdown",
      "metadata": {
        "id": "JLltq9Jzwl7g"
      },
      "source": [
        "# Curso Estadística y Análisis exploratorio\n",
        "Profesor: José David Ruiz Álvarez\n",
        "\n",
        "Correo: josed.ruiz@udea.edu.co\n",
        "\n",
        "## Sesión 2\n",
        "\n",
        "### Test estadísticos:\n",
        "\n",
        "\n",
        "1.   Distribuciones notables\n",
        "2.   Funciones de variables aleatorias\n",
        "3.   Covarianza\n",
        "4.   Propagación de errores\n",
        "5.   Test estadísticos\n",
        "6.   Test de $\\chi^{2}$\n",
        "7.   Verosimilitud\n"
      ]
    },
    {
      "cell_type": "code",
      "metadata": {
        "id": "VIOFpIynwY2L"
      },
      "source": [
        "import numpy as np\n",
        "import matplotlib.pyplot as plt"
      ],
      "execution_count": 1,
      "outputs": []
    },
    {
      "cell_type": "markdown",
      "metadata": {
        "id": "HlQ6WCaoISMB"
      },
      "source": [
        "# Distribuciones notables\n",
        "## Binomial: \n",
        "\n",
        "$$f(n;N,p) = \\frac{N!}{n!(N-n)!}p^{n}(1-p)^{N-n}$$\n",
        "\n",
        "n intentos exitosos, N intentos totales, p probabilidad de acierto.\n",
        "\n",
        "## Poisson\n",
        "\n",
        "$$f(n;\\nu)=\\frac{\\nu^{n}}{n!}e^{-\\nu}$$\n",
        "\n",
        "n observaciones de $\\nu$ espearados. \n",
        "\n",
        "## Uniforme\n",
        "\n",
        "$$f(x;\\alpha,\\beta)=\n",
        "\\left\\{\n",
        "\t\\begin{array}{ll}\n",
        "\t\t\\frac{1}{\\beta-\\alpha}  & \\mbox{si } \\alpha \\leq x \\leq \\beta \\\\\n",
        "\t\t0 & \\mbox{si } x < \\alpha\\; ;\\; x > \\beta\n",
        "\t\\end{array}\n",
        "\\right. $$\n",
        "\n",
        "$\\alpha$ límite inferior y $\\beta$ límite superior.\n",
        "\n",
        "## Exponencial\n",
        "\n",
        "$$f(x;\\tau)=\\frac{1}{\\tau}e^{-x/\\tau}$$\n",
        "\n",
        "## Gaussiana\n",
        "\n",
        "$$f(x;\\mu,\\sigma)=\\frac{1}{\\sqrt{2\\pi\\sigma^{2}}}e^{-\\frac{(x-\\mu)^{2}}{2\\sigma^{2}}}$$\n",
        "\n",
        "## Chi cuadrado\n",
        "\n",
        "$$f(z;n)=\\frac{1}{2^{n/2}\\Gamma(n/2)}z^{n/2-1}e^{-z/2}$$\n",
        "\n",
        "n grados de libertad."
      ]
    },
    {
      "cell_type": "markdown",
      "metadata": {
        "id": "KWg9dOpCPOQq"
      },
      "source": [
        "### Ejemplo con distribución uniforme"
      ]
    },
    {
      "cell_type": "code",
      "metadata": {
        "id": "3MddEbfmyW25"
      },
      "source": [
        "Uniforme = np.random.uniform(0,100,100000)"
      ],
      "execution_count": null,
      "outputs": []
    },
    {
      "cell_type": "code",
      "metadata": {
        "colab": {
          "base_uri": "https://localhost:8080/",
          "height": 265
        },
        "id": "FrtK9od39d2V",
        "outputId": "9e240b2f-569f-4c78-e929-6fd366d2a044"
      },
      "source": [
        "HistoUniforme = plt.hist(Uniforme)"
      ],
      "execution_count": null,
      "outputs": [
        {
          "output_type": "display_data",
          "data": {
            "image/png": "[encoded data removed]",
            "text/plain": [
              "<Figure size 432x288 with 1 Axes>"
            ]
          },
          "metadata": {
            "tags": [],
            "needs_background": "light"
          }
        }
      ]
    },
    {
      "cell_type": "code",
      "metadata": {
        "id": "RGgx2zDQ1na1"
      },
      "source": [
        "def SomeStats(MyArray,PrintIt=False):\n",
        "  Mediana=np.median(MyArray)\n",
        "  Media=np.mean(MyArray)\n",
        "  Varianza=np.var(MyArray)\n",
        "  STD=np.std(MyArray)\n",
        "  if PrintIt:\n",
        "    print(\"Mediana=\", Mediana)\n",
        "    print(\"Media=\", Media)\n",
        "    print(\"Varianza=\", Varianza, \"Raíz cuadrada de la varianza=\", np.sqrt(Varianza))\n",
        "    print(\"Desviación estándar\", STD)\n",
        "  return Mediana,Media,Varianza,STD"
      ],
      "execution_count": null,
      "outputs": []
    },
    {
      "cell_type": "code",
      "metadata": {
        "colab": {
          "base_uri": "https://localhost:8080/"
        },
        "id": "UcaHGM2BRNzF",
        "outputId": "0966ebc8-f660-49c2-d684-8881669f9e93"
      },
      "source": [
        "SomeStats(Uniforme,PrintIt=True)"
      ],
      "execution_count": null,
      "outputs": [
        {
          "output_type": "stream",
          "text": [
            "Mediana= 50.06508309396547\n",
            "Media= 49.96962838545906\n",
            "Varianza= 834.3264608783486 Raíz cuadrada de la varianza= 28.884709811219302\n",
            "Desviación estándar 28.884709811219302\n"
          ],
          "name": "stdout"
        },
        {
          "output_type": "execute_result",
          "data": {
            "text/plain": [
              "(50.06508309396547, 49.96962838545906, 834.3264608783486, 28.884709811219302)"
            ]
          },
          "metadata": {
            "tags": []
          },
          "execution_count": 59
        }
      ]
    },
    {
      "cell_type": "code",
      "metadata": {
        "id": "_mZFjbMe_FbZ"
      },
      "source": [
        "#Ejemplo de muestreo\n",
        "Sample1 = np.random.uniform(0,100,100)\n",
        "Sample2 = np.random.uniform(0,100,1000)\n",
        "Sample3 = np.random.uniform(0,100,10000)\n",
        "Sample4 = np.random.uniform(0,100,100000)\n",
        "Sample5 = np.random.uniform(0,100,1000000)"
      ],
      "execution_count": null,
      "outputs": []
    },
    {
      "cell_type": "code",
      "metadata": {
        "id": "oNvqFAoaRuiW"
      },
      "source": [
        "Medias=[SomeStats(Sample1)[1],\n",
        "        SomeStats(Sample2)[1],\n",
        "        SomeStats(Sample3)[1],\n",
        "        SomeStats(Sample4)[1],\n",
        "        SomeStats(Sample5)[1]]\n",
        "DesvStds=[SomeStats(Sample1)[3],\n",
        "          SomeStats(Sample2)[3],\n",
        "          SomeStats(Sample3)[3],\n",
        "          SomeStats(Sample4)[3],\n",
        "          SomeStats(Sample5)[3]]"
      ],
      "execution_count": null,
      "outputs": []
    },
    {
      "cell_type": "code",
      "metadata": {
        "colab": {
          "base_uri": "https://localhost:8080/",
          "height": 282
        },
        "id": "fTSdeqdOS4j4",
        "outputId": "eef04a9c-7a9b-44a1-91ae-c9fcb50ecd14"
      },
      "source": [
        "plt.plot(Medias)"
      ],
      "execution_count": null,
      "outputs": [
        {
          "output_type": "execute_result",
          "data": {
            "text/plain": [
              "[<matplotlib.lines.Line2D at 0x7fc15bdeb090>]"
            ]
          },
          "metadata": {
            "tags": []
          },
          "execution_count": 98
        },
        {
          "output_type": "display_data",
          "data": {
            "image/png": "[encoded data removed]",
            "text/plain": [
              "<Figure size 432x288 with 1 Axes>"
            ]
          },
          "metadata": {
            "tags": [],
            "needs_background": "light"
          }
        }
      ]
    },
    {
      "cell_type": "code",
      "metadata": {
        "colab": {
          "base_uri": "https://localhost:8080/",
          "height": 282
        },
        "id": "jc5AsVqzS6f3",
        "outputId": "e12a0416-5d1f-43cb-91d8-d7f5e1fba62a"
      },
      "source": [
        "plt.plot(DesvStds)"
      ],
      "execution_count": null,
      "outputs": [
        {
          "output_type": "execute_result",
          "data": {
            "text/plain": [
              "[<matplotlib.lines.Line2D at 0x7fc15bd58d90>]"
            ]
          },
          "metadata": {
            "tags": []
          },
          "execution_count": 99
        },
        {
          "output_type": "display_data",
          "data": {
            "image/png": "[encoded data removed]",
            "text/plain": [
              "<Figure size 432x288 with 1 Axes>"
            ]
          },
          "metadata": {
            "tags": [],
            "needs_background": "light"
          }
        }
      ]
    },
    {
      "cell_type": "markdown",
      "metadata": {
        "id": "YzlxN7G3YX3w"
      },
      "source": [
        "### Otros ejemplos: Exponencial, chi2, normal, poisson"
      ]
    },
    {
      "cell_type": "code",
      "metadata": {
        "colab": {
          "base_uri": "https://localhost:8080/",
          "height": 265
        },
        "id": "ENmMg_SEYq7d",
        "outputId": "1e8cdd5d-9cdc-4bac-d499-92f2d3b2347c"
      },
      "source": [
        "Expo = np.random.exponential(100,100000)\n",
        "HistoExpo = plt.hist(Expo)"
      ],
      "execution_count": null,
      "outputs": [
        {
          "output_type": "display_data",
          "data": {
            "image/png": "[encoded data removed]",
            "text/plain": [
              "<Figure size 432x288 with 1 Axes>"
            ]
          },
          "metadata": {
            "tags": [],
            "needs_background": "light"
          }
        }
      ]
    },
    {
      "cell_type": "code",
      "metadata": {
        "colab": {
          "base_uri": "https://localhost:8080/",
          "height": 265
        },
        "id": "F_c2llfOY8nj",
        "outputId": "0a61684a-8106-40f3-c1a3-d46a172da16f"
      },
      "source": [
        "Chi2 = np.random.chisquare(10,1000)\n",
        "HistoChi2 = plt.hist(Chi2)"
      ],
      "execution_count": null,
      "outputs": [
        {
          "output_type": "display_data",
          "data": {
            "image/png": "[encoded data removed]",
            "text/plain": [
              "<Figure size 432x288 with 1 Axes>"
            ]
          },
          "metadata": {
            "tags": [],
            "needs_background": "light"
          }
        }
      ]
    },
    {
      "cell_type": "code",
      "metadata": {
        "colab": {
          "base_uri": "https://localhost:8080/",
          "height": 265
        },
        "id": "aYzKYMZWZLdi",
        "outputId": "3bd643d0-6b98-4216-e22a-3912e8b73751"
      },
      "source": [
        "Norm = np.random.normal(50,10,100000)\n",
        "HistoNorm = plt.hist(Norm)"
      ],
      "execution_count": null,
      "outputs": [
        {
          "output_type": "display_data",
          "data": {
            "image/png": "[encoded data removed]",
            "text/plain": [
              "<Figure size 432x288 with 1 Axes>"
            ]
          },
          "metadata": {
            "tags": [],
            "needs_background": "light"
          }
        }
      ]
    },
    {
      "cell_type": "code",
      "metadata": {
        "colab": {
          "base_uri": "https://localhost:8080/",
          "height": 265
        },
        "id": "R14rxeqEbiGV",
        "outputId": "c00d6ef4-110f-4193-8c86-fdd44ed9ba3d"
      },
      "source": [
        "Poi = np.random.poisson(10,1000)\n",
        "HistoPoi = plt.hist(Poi)"
      ],
      "execution_count": null,
      "outputs": [
        {
          "output_type": "display_data",
          "data": {
            "image/png": "[encoded data removed]",
            "text/plain": [
              "<Figure size 432x288 with 1 Axes>"
            ]
          },
          "metadata": {
            "tags": [],
            "needs_background": "light"
          }
        }
      ]
    },
    {
      "cell_type": "markdown",
      "metadata": {
        "id": "XO0SaZb0B8uA"
      },
      "source": [
        "## Ejercicio 1\n",
        "\n",
        "Utilice el ejemplo de muestreo para encontrar la mediana, media y varianza de las distribuciones:\n",
        "\n",
        "1. Exponencial: $\\tau=100$\n",
        "2. Chi2: $n=8$\n",
        "3. Normal: $\\mu=50$, $\\sigma=15$\n",
        "4. Poisson: $\\nu=123$"
      ]
    },
    {
      "cell_type": "markdown",
      "metadata": {
        "id": "zg3Gbg_T_WRX"
      },
      "source": [
        "### Teorema del límite central\n",
        "La suma de n variables aleatorias independientes $x_{i}$ con $\\sigma_{i}^{2}$ y $\\mu_{i}$ es una variable aleatoria de distribución normal."
      ]
    },
    {
      "cell_type": "markdown",
      "metadata": {
        "id": "SpCKVu64daTB"
      },
      "source": [
        "## Ejercicio 2\n",
        "\n",
        "Tome n = 10, 20, 100, 200 variables aleatorias. Todas ellas distribuidas con una distribución distinta a la normal. Demuestre que la suma de todas ellas para cada n se ajusta al teorema del límite central."
      ]
    },
    {
      "cell_type": "markdown",
      "metadata": {
        "id": "THEFG-mPhECM"
      },
      "source": [
        "## Funciones de variables aleatorias"
      ]
    },
    {
      "cell_type": "code",
      "metadata": {
        "colab": {
          "base_uri": "https://localhost:8080/",
          "height": 267
        },
        "id": "PrD95EuzhQAG",
        "outputId": "b45119fa-c109-499c-be87-d4f2ccec730c"
      },
      "source": [
        "Uni = np.random.uniform(0,10,100000)\n",
        "HistoExpdeUni = plt.hist(np.exp(Uni))"
      ],
      "execution_count": null,
      "outputs": [
        {
          "output_type": "display_data",
          "data": {
            "image/png": "[encoded data removed]",
            "text/plain": [
              "<Figure size 432x288 with 1 Axes>"
            ]
          },
          "metadata": {
            "tags": [],
            "needs_background": "light"
          }
        }
      ]
    },
    {
      "cell_type": "code",
      "metadata": {
        "colab": {
          "base_uri": "https://localhost:8080/",
          "height": 265
        },
        "id": "jjZvruwiXnWh",
        "outputId": "6edea204-6f1a-4acc-b113-fb04209ec513"
      },
      "source": [
        "Norm1 = np.random.normal(1,0.1,10000)\n",
        "HistoExpdeNorm = plt.hist(Norm1)"
      ],
      "execution_count": null,
      "outputs": [
        {
          "output_type": "display_data",
          "data": {
            "image/png": "[encoded data removed]",
            "text/plain": [
              "<Figure size 432x288 with 1 Axes>"
            ]
          },
          "metadata": {
            "tags": [],
            "needs_background": "light"
          }
        }
      ]
    },
    {
      "cell_type": "code",
      "metadata": {
        "colab": {
          "base_uri": "https://localhost:8080/",
          "height": 265
        },
        "id": "0iY8WRrTZGpL",
        "outputId": "7d09afec-473a-4b17-be93-05abd8ba412f"
      },
      "source": [
        "HistoExpdeNorm = plt.hist(np.exp(Norm1))"
      ],
      "execution_count": null,
      "outputs": [
        {
          "output_type": "display_data",
          "data": {
            "image/png": "[encoded data removed]",
            "text/plain": [
              "<Figure size 432x288 with 1 Axes>"
            ]
          },
          "metadata": {
            "tags": [],
            "needs_background": "light"
          }
        }
      ]
    },
    {
      "cell_type": "markdown",
      "metadata": {
        "id": "atFYhvGKi5Ux"
      },
      "source": [
        "## Ejercicio 3\n",
        "\n",
        "Utilice el ejemplo de muestreo para encontrar la media y varianza de la exponencial de una variable distribuída de forma uniforme, como en la celda anterior."
      ]
    },
    {
      "cell_type": "markdown",
      "metadata": {
        "id": "HwtyrGnKg_oZ"
      },
      "source": [
        "## Covarianza"
      ]
    },
    {
      "cell_type": "code",
      "metadata": {
        "colab": {
          "base_uri": "https://localhost:8080/",
          "height": 265
        },
        "id": "_MgK9gPFeszM",
        "outputId": "7d435ae4-6aaa-4350-aac9-bb1976dc959f"
      },
      "source": [
        "mean = (10, 25)\n",
        "cov = [[2, -3], [-3, 5]]\n",
        "Norm2D = np.random.multivariate_normal(mean, cov, 1000000)\n",
        "HistoNorm = plt.hist2d(Norm2D.take(indices=0,axis=1),Norm2D.take(indices=1,axis=1))"
      ],
      "execution_count": null,
      "outputs": [
        {
          "output_type": "display_data",
          "data": {
            "image/png": "[encoded data removed]",
            "text/plain": [
              "<Figure size 432x288 with 1 Axes>"
            ]
          },
          "metadata": {
            "tags": [],
            "needs_background": "light"
          }
        }
      ]
    },
    {
      "cell_type": "code",
      "metadata": {
        "colab": {
          "base_uri": "https://localhost:8080/"
        },
        "id": "l1RmIUcYcmHw",
        "outputId": "7f9480df-d20b-45ae-c2f9-114062637947"
      },
      "source": [
        "Norm2D"
      ],
      "execution_count": null,
      "outputs": [
        {
          "output_type": "execute_result",
          "data": {
            "text/plain": [
              "array([[10.10825812, 24.50585781],\n",
              "       [ 9.71517683, 23.41088226],\n",
              "       [10.28900234, 24.68452222],\n",
              "       ...,\n",
              "       [10.12256655, 26.38153366],\n",
              "       [10.23495789, 23.12253789],\n",
              "       [ 9.96656244, 27.94807019]])"
            ]
          },
          "metadata": {
            "tags": []
          },
          "execution_count": 124
        }
      ]
    },
    {
      "cell_type": "code",
      "metadata": {
        "colab": {
          "base_uri": "https://localhost:8080/"
        },
        "id": "AFaEECYreOE9",
        "outputId": "d39f64a4-a8a0-4acd-9665-de3be4979c6a"
      },
      "source": [
        "Norm2D.take(indices=0,axis=1)"
      ],
      "execution_count": null,
      "outputs": [
        {
          "output_type": "execute_result",
          "data": {
            "text/plain": [
              "array([10.10825812,  9.71517683, 10.28900234, ..., 10.12256655,\n",
              "       10.23495789,  9.96656244])"
            ]
          },
          "metadata": {
            "tags": []
          },
          "execution_count": 125
        }
      ]
    },
    {
      "cell_type": "code",
      "metadata": {
        "colab": {
          "base_uri": "https://localhost:8080/"
        },
        "id": "SPKqYjnkepfU",
        "outputId": "ae151ad2-0356-4290-d4bc-77ce71803187"
      },
      "source": [
        "Norm2D.take(indices=1,axis=1)"
      ],
      "execution_count": null,
      "outputs": [
        {
          "output_type": "execute_result",
          "data": {
            "text/plain": [
              "array([24.50585781, 23.41088226, 24.68452222, ..., 26.38153366,\n",
              "       23.12253789, 27.94807019])"
            ]
          },
          "metadata": {
            "tags": []
          },
          "execution_count": 126
        }
      ]
    },
    {
      "cell_type": "markdown",
      "metadata": {
        "id": "7zvXToof7NmQ"
      },
      "source": [
        "#Test de $\\chi^{2}$ de Pearson\n",
        "\n",
        "Si tenemos un histograma de n bines:\n",
        "$$\\chi^{2}=\\sum_{i=1}^{n}\\frac{(N_{i}-\\nu_{i})^{2}}{\\nu_{i}}$$\n",
        "\n",
        "Con $N_{i}$ cuentas obserb=vadas y $\\nu_{i}$ esperadas en el bin i.\n",
        "\n",
        "Si se tienen n datos no bineados:\n",
        "$$\\chi^{2}=\\sum_{i=1}^{n}\\frac{(O_{i}-\\nu_{i})^{2}}{\\nu_{i}}$$\n",
        "\n",
        "con $O_{i}$ y $\\nu_{i}$ el valor i observado y esperado respectivamente. "
      ]
    },
    {
      "cell_type": "code",
      "metadata": {
        "colab": {
          "base_uri": "https://localhost:8080/",
          "height": 268
        },
        "id": "IwL60gCNeruI",
        "outputId": "a00711da-887d-4d26-fa0c-c84847253cdb"
      },
      "source": [
        "Media=np.random.uniform(60,70)\n",
        "STD=1\n",
        "Nbins=np.linspace(50,80,30)\n",
        "GaussianaRandom = np.random.normal(Media,STD,100000)\n",
        "HistoGaussRandom = plt.hist(GaussianaRandom,bins=Nbins)"
      ],
      "execution_count": null,
      "outputs": [
        {
          "output_type": "display_data",
          "data": {
            "image/png": "[encoded data removed]",
            "text/plain": [
              "<Figure size 432x288 with 1 Axes>"
            ]
          },
          "metadata": {
            "tags": [],
            "needs_background": "light"
          }
        }
      ]
    },
    {
      "cell_type": "code",
      "metadata": {
        "id": "rZQjK0Lk75vk"
      },
      "source": [
        "def chi2test(Obs,Exp):\n",
        "  if len(Obs)!=len(Exp):\n",
        "    print(\"El histograma observado como esperado deben tener la misma cantidad de bines\")\n",
        "    return\n",
        "  Chi2=0.\n",
        "  for i in range(len(Obs)):\n",
        "    if Exp[i]==0.0: continue\n",
        "    Chi2+=((Obs[i]-Exp[i])**2)/Exp[i]\n",
        "  return Chi2"
      ],
      "execution_count": null,
      "outputs": []
    },
    {
      "cell_type": "code",
      "metadata": {
        "colab": {
          "base_uri": "https://localhost:8080/",
          "height": 265
        },
        "id": "FFaGJmRm-ycN",
        "outputId": "1f29f127-d8a5-4aa6-e40d-401315b7f185"
      },
      "source": [
        "HipotesisMean=np.linspace(55,65,5)\n",
        "MuestrasHipotesis=[]\n",
        "HistogramasHipotesis=[]\n",
        "for i in range(len(HipotesisMean)):\n",
        "  MuestrasHipotesis.append(np.random.normal(HipotesisMean[i],STD,100000))\n",
        "  HistogramasHipotesis.append(plt.hist(MuestrasHipotesis[-1],bins=Nbins, alpha = 0.5)[0])"
      ],
      "execution_count": null,
      "outputs": [
        {
          "output_type": "display_data",
          "data": {
            "image/png": "[encoded data removed]",
            "text/plain": [
              "<Figure size 432x288 with 1 Axes>"
            ]
          },
          "metadata": {
            "tags": [],
            "needs_background": "light"
          }
        }
      ]
    },
    {
      "cell_type": "code",
      "metadata": {
        "id": "LUK4IsZK_RCj"
      },
      "source": [
        "AnalizandoChi2=[]\n",
        "for i in range(len(HipotesisMean)):\n",
        "  AnalizandoChi2.append(chi2test(HistoGaussRandom[0],HistogramasHipotesis[i]))"
      ],
      "execution_count": null,
      "outputs": []
    },
    {
      "cell_type": "code",
      "metadata": {
        "colab": {
          "base_uri": "https://localhost:8080/",
          "height": 293
        },
        "id": "vFNYeGpqBNHJ",
        "outputId": "a8741dfd-9f86-42ee-b5b1-3c0e7045e892"
      },
      "source": [
        "plt.plot(HipotesisMean,np.array(AnalizandoChi2))"
      ],
      "execution_count": null,
      "outputs": [
        {
          "output_type": "execute_result",
          "data": {
            "text/plain": [
              "[<matplotlib.lines.Line2D at 0x7fc152db4610>]"
            ]
          },
          "metadata": {
            "tags": []
          },
          "execution_count": 264
        },
        {
          "output_type": "display_data",
          "data": {
            "image/png": "[encoded data removed]",
            "text/plain": [
              "<Figure size 432x288 with 1 Axes>"
            ]
          },
          "metadata": {
            "tags": [],
            "needs_background": "light"
          }
        }
      ]
    },
    {
      "cell_type": "code",
      "metadata": {
        "colab": {
          "base_uri": "https://localhost:8080/",
          "height": 293
        },
        "id": "bUnA0R8fBXSS",
        "outputId": "92de5a74-13b7-4c9d-c453-56f17a467efb"
      },
      "source": [
        "plt.plot(np.array(AnalizandoChi2)/(len(Nbins)-1))"
      ],
      "execution_count": null,
      "outputs": [
        {
          "output_type": "execute_result",
          "data": {
            "text/plain": [
              "[<matplotlib.lines.Line2D at 0x7fc152a9f4d0>]"
            ]
          },
          "metadata": {
            "tags": []
          },
          "execution_count": 265
        },
        {
          "output_type": "display_data",
          "data": {
            "image/png": "[encoded data removed]",
            "text/plain": [
              "<Figure size 432x288 with 1 Axes>"
            ]
          },
          "metadata": {
            "tags": [],
            "needs_background": "light"
          }
        }
      ]
    },
    {
      "cell_type": "markdown",
      "metadata": {
        "id": "2UuH2i_1gToM"
      },
      "source": [
        "##Parametrización explícita\n",
        "\n",
        "Podemos escribir el $\\chi^{2}$ como función de parámetros:\n",
        "$$\\chi^{2}(\\vec{\\theta})=\\sum_{i=1}^{n}\\frac{(N_{i}-\\nu_{i}(\\vec{\\theta}))^{2}}{\\nu_{i}(\\vec{\\theta})}$$\n",
        "\n",
        "Con $\\vec{\\theta}=(\\theta_{1},\\theta_{2},\\ldots,\\theta_{m})$ los m parámetros necesarios para determinar completamente una prdeicción.\n",
        "\n",
        "Por ejemplo, en el caso de una gaussiana se necesitan dos parámetros funcionales la media $\\mu$ y la desviación estándar $\\sigma$"
      ]
    },
    {
      "cell_type": "markdown",
      "metadata": {
        "id": "GrWYWIzebniI"
      },
      "source": [
        "## Ejercicio 4\n",
        "1. Siguiendo el ejemplo dado encuentre la media que minimiza el $\\chi^{2}$.\n",
        "2. Basándose en el ejemplo, haga el caso para una distribución exponencial. Genere aleatoriamente el parámetro $\\tau$ y por medio del método de minimización de $\\chi^{2}$ encuentre dicho parámetro.\n",
        "3. Repita el ejemplo de la Gaussiana generada aleatoriamente pero ahora genere también de forma aleatoria la desviación estándar. Haga un scan en dos dimensiones para encontrar de forma simultánea la desviación estándar y la media."
      ]
    },
    {
      "cell_type": "markdown",
      "metadata": {
        "id": "oQDhJzqYf0eG"
      },
      "source": [
        "#Función de Verosimilitud (Likelihood)\n",
        "\n",
        "Si tenemos n realizaciones (datos) de una variable aleatoria x:\n",
        "$$L(\\vec{\\theta})=\\prod_{i=1}^{n}f(x_{i};\\vec{\\theta})$$\n",
        "\n",
        "o podemos sacar el logaritmo para un manejo numérico más conveniente:\n",
        "$$lnL(\\vec{\\theta})=\\sum_{i=1}^{n}lnf(x_{i};\\vec{\\theta})$$\n",
        "\n",
        "La hipótesis con que describimos el fenómeno, materializada en la pdf utilizada, maximiza la verosimilitud a medida que mejor describe los datos."
      ]
    },
    {
      "cell_type": "code",
      "metadata": {
        "id": "QQk4Aq0OSCCg"
      },
      "source": [
        "def GaussianFunc(x,mu,sigma):\n",
        "  return (1./np.sqrt(2*np.pi*sigma**2))*(np.exp(-1*((x-mu)**2)/(2*sigma**2)))"
      ],
      "execution_count": 5,
      "outputs": []
    },
    {
      "cell_type": "code",
      "metadata": {
        "id": "VDDfX2sOCHl6"
      },
      "source": [
        "def LnLikeTest(X,mu,sigma):\n",
        "  LnLike=0.\n",
        "  for i in range(len(X)):\n",
        "    LnLike+=np.log(GaussianFunc(X[i],mu,sigma))\n",
        "  return LnLike"
      ],
      "execution_count": 6,
      "outputs": []
    },
    {
      "cell_type": "code",
      "metadata": {
        "id": "xv5ZNj6RSsox"
      },
      "source": [
        "Media=np.random.uniform(60,70)\n",
        "STD=1\n",
        "GaussianaRandom = np.random.normal(Media,STD,100)"
      ],
      "execution_count": 7,
      "outputs": []
    },
    {
      "cell_type": "code",
      "metadata": {
        "id": "MtkztbasS3sj"
      },
      "source": [
        "HipotesisMean=np.linspace(55,65,10)\n",
        "LnLikeHipotesis=[]\n",
        "for i in range(len(HipotesisMean)):\n",
        "  LnLikeHipotesis.append(LnLikeTest(GaussianaRandom,HipotesisMean[i],STD))"
      ],
      "execution_count": 14,
      "outputs": []
    },
    {
      "cell_type": "code",
      "metadata": {
        "colab": {
          "base_uri": "https://localhost:8080/",
          "height": 282
        },
        "id": "GTivoKXaT8lO",
        "outputId": "e2c4033c-74df-4e63-9d1e-21d1a3a6cf14"
      },
      "source": [
        "plt.plot(HipotesisMean,LnLikeHipotesis)\n",
        "plt.vlines(Media,min(LnLikeHipotesis),max(LnLikeHipotesis))"
      ],
      "execution_count": 15,
      "outputs": [
        {
          "output_type": "execute_result",
          "data": {
            "text/plain": [
              "<matplotlib.collections.LineCollection at 0x7fddb1f69c50>"
            ]
          },
          "metadata": {
            "tags": []
          },
          "execution_count": 15
        },
        {
          "output_type": "display_data",
          "data": {
            "image/png": "[encoded data removed]",
            "text/plain": [
              "<Figure size 432x288 with 1 Axes>"
            ]
          },
          "metadata": {
            "tags": [],
            "needs_background": "light"
          }
        }
      ]
    },
    {
      "cell_type": "markdown",
      "metadata": {
        "id": "kGWPaTTCU3HX"
      },
      "source": [
        "## Ejercicio 5\n",
        "1. Vectorice el procedimiento realizado para calcular el $ln(L)$.\n",
        "2. Basándose en el ejemplo, generalícelo para la estimación simultánea de la media y la desviación estándar de la guassiana."
      ]
    }
  ]
}