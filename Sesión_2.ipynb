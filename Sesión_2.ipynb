{
  "nbformat": 4,
  "nbformat_minor": 0,
  "metadata": {
    "colab": {
      "name": "Sesión 2",
      "provenance": [],
      "collapsed_sections": [],
      "authorship_tag": "ABX9TyOjrIk/hnQKNuLEGjSiyDQY",
      "include_colab_link": true
    },
    "kernelspec": {
      "name": "python3",
      "display_name": "Python 3"
    }
  },
  "cells": [
    {
      "cell_type": "markdown",
      "metadata": {
        "id": "view-in-github",
        "colab_type": "text"
      },
      "source": [
        "<a href=\"https://colab.research.google.com/github/jotadram6/EACD-02-ESTADISTICA/blob/master/Sesi%C3%B3n_2.ipynb\" target=\"_parent\"><img src=\"https://colab.research.google.com/assets/colab-badge.svg\" alt=\"Open In Colab\"/></a>"
      ]
    },
    {
      "cell_type": "markdown",
      "metadata": {
        "id": "JLltq9Jzwl7g"
      },
      "source": [
        "# Curso Estadística y Análisis exploratorio\n",
        "Profesor: José David Ruiz Álvarez\n",
        "\n",
        "Correo: josed.ruiz@udea.edu.co\n",
        "\n",
        "## Sesión 2\n",
        "\n",
        "### Test estadísticos:\n",
        "\n",
        "\n",
        "1.   Distribuciones notables\n",
        "2.   Funciones de variables aleatorias\n",
        "3.   Covarianza\n",
        "4.   Propagación de errores\n",
        "5.   Test estadísticos\n",
        "6.   Test de $\\chi^{2}$\n",
        "7.   Verosimilitud\n"
      ]
    },
    {
      "cell_type": "code",
      "metadata": {
        "id": "VIOFpIynwY2L"
      },
      "source": [
        "import numpy as np\n",
        "import matplotlib.pyplot as plt"
      ],
      "execution_count": 1,
      "outputs": []
    },
    {
      "cell_type": "markdown",
      "metadata": {
        "id": "HlQ6WCaoISMB"
      },
      "source": [
        "# Distribuciones notables\n",
        "## Binomial: \n",
        "\n",
        "$$f(n;N,p) = \\frac{N!}{n!(N-n)!}p^{n}(1-p)^{N-n}$$\n",
        "\n",
        "n intentos exitosos, N intentos totales, p probabilidad de acierto.\n",
        "\n",
        "## Poisson\n",
        "\n",
        "$$f(n;\\nu)=\\frac{\\nu^{n}}{n!}e^{-\\nu}$$\n",
        "\n",
        "n observaciones de $\\nu$ espearados. \n",
        "\n",
        "## Uniforme\n",
        "\n",
        "$$f(x;\\alpha,\\beta)=\n",
        "\\left\\{\n",
        "\t\\begin{array}{ll}\n",
        "\t\t\\frac{1}{\\beta-\\alpha}  & \\mbox{si } \\alpha \\leq x \\leq \\beta \\\\\n",
        "\t\t0 & \\mbox{si } x < \\alpha\\; ;\\; x > \\beta\n",
        "\t\\end{array}\n",
        "\\right. $$\n",
        "\n",
        "$\\alpha$ límite inferior y $\\beta$ límite superior.\n",
        "\n",
        "## Exponencial\n",
        "\n",
        "$$f(x;\\tau)=\\frac{1}{\\tau}e^{-x/\\tau}$$\n",
        "\n",
        "## Gaussiana\n",
        "\n",
        "$$f(x;\\mu,\\sigma)=\\frac{1}{\\sqrt{2\\pi\\sigma^{2}}}e^{-\\frac{(x-\\mu)^{2}}{2\\sigma^{2}}}$$\n",
        "\n",
        "## Chi cuadrado\n",
        "\n",
        "$$f(z;n)=\\frac{1}{2^{n/2}\\Gamma(n/2)}z^{n/2-1}e^{-z/2}$$\n",
        "\n",
        "n grados de libertad."
      ]
    },
    {
      "cell_type": "markdown",
      "metadata": {
        "id": "KWg9dOpCPOQq"
      },
      "source": [
        "### Ejemplo con distribución uniforme"
      ]
    },
    {
      "cell_type": "code",
      "metadata": {
        "id": "3MddEbfmyW25"
      },
      "source": [
        "Uniforme = np.random.uniform(0,100,100000)"
      ],
      "execution_count": 2,
      "outputs": []
    },
    {
      "cell_type": "code",
      "metadata": {
        "colab": {
          "base_uri": "https://localhost:8080/",
          "height": 265
        },
        "id": "FrtK9od39d2V",
        "outputId": "aa07f39c-6cff-4fed-e9a1-5dc079559192"
      },
      "source": [
        "HistoUniforme = plt.hist(Uniforme)"
      ],
      "execution_count": 3,
      "outputs": [
        {
          "output_type": "display_data",
          "data": {
            "image/png": "[encoded data removed]",
            "text/plain": [
              "<Figure size 432x288 with 1 Axes>"
            ]
          },
          "metadata": {
            "tags": [],
            "needs_background": "light"
          }
        }
      ]
    },
    {
      "cell_type": "code",
      "metadata": {
        "id": "RGgx2zDQ1na1"
      },
      "source": [
        "def SomeStats(MyArray,PrintIt=False):\n",
        "  Mediana=np.median(MyArray)\n",
        "  Media=np.mean(MyArray)\n",
        "  Varianza=np.var(MyArray)\n",
        "  STD=np.std(MyArray)\n",
        "  if PrintIt:\n",
        "    print(\"Mediana=\", Mediana)\n",
        "    print(\"Media=\", Media)\n",
        "    print(\"Varianza=\", Varianza, \"Raíz cuadrada de la varianza=\", np.sqrt(Varianza))\n",
        "    print(\"Desviación estándar\", STD)\n",
        "  return Mediana,Media,Varianza,STD"
      ],
      "execution_count": 10,
      "outputs": []
    },
    {
      "cell_type": "code",
      "metadata": {
        "colab": {
          "base_uri": "https://localhost:8080/"
        },
        "id": "UcaHGM2BRNzF",
        "outputId": "1c852ca0-e631-40bc-c8c3-9964e35ee30c"
      },
      "source": [
        "SomeStats(Uniforme,PrintIt=True)"
      ],
      "execution_count": 11,
      "outputs": [
        {
          "output_type": "stream",
          "text": [
            "Mediana= 50.21533751518241\n",
            "Media= 50.03964129121106\n",
            "Varianza= 828.2662469592926 Raíz cuadrada de la varianza= 28.779615128755502\n",
            "Desviación estándar 28.779615128755502\n"
          ],
          "name": "stdout"
        },
        {
          "output_type": "execute_result",
          "data": {
            "text/plain": [
              "(50.21533751518241, 50.03964129121106, 828.2662469592926, 28.779615128755502)"
            ]
          },
          "metadata": {
            "tags": []
          },
          "execution_count": 11
        }
      ]
    },
    {
      "cell_type": "code",
      "metadata": {
        "id": "_mZFjbMe_FbZ"
      },
      "source": [
        "#Ejemplo de muestreo\n",
        "Sample1 = np.random.uniform(0,100,100)\n",
        "Sample2 = np.random.uniform(0,100,1000)\n",
        "Sample3 = np.random.uniform(0,100,10000)\n",
        "Sample4 = np.random.uniform(0,100,100000)\n",
        "Sample5 = np.random.uniform(0,100,1000000)"
      ],
      "execution_count": 12,
      "outputs": []
    },
    {
      "cell_type": "code",
      "metadata": {
        "id": "oNvqFAoaRuiW"
      },
      "source": [
        "Medias=[SomeStats(Sample1)[1],SomeStats(Sample2)[1],SomeStats(Sample3)[1],SomeStats(Sample4)[1],SomeStats(Sample5)[1]]\n",
        "DesvStds=[SomeStats(Sample1)[3],SomeStats(Sample2)[3],SomeStats(Sample3)[3],SomeStats(Sample4)[3],SomeStats(Sample5)[3]]"
      ],
      "execution_count": 16,
      "outputs": []
    },
    {
      "cell_type": "code",
      "metadata": {
        "colab": {
          "base_uri": "https://localhost:8080/",
          "height": 282
        },
        "id": "fTSdeqdOS4j4",
        "outputId": "5929a2eb-5964-4056-cde3-18e6505e3212"
      },
      "source": [
        "plt.plot(Medias)"
      ],
      "execution_count": 17,
      "outputs": [
        {
          "output_type": "execute_result",
          "data": {
            "text/plain": [
              "[<matplotlib.lines.Line2D at 0x7fc15cc54a50>]"
            ]
          },
          "metadata": {
            "tags": []
          },
          "execution_count": 17
        },
        {
          "output_type": "display_data",
          "data": {
            "image/png": "[encoded data removed]",
            "text/plain": [
              "<Figure size 432x288 with 1 Axes>"
            ]
          },
          "metadata": {
            "tags": [],
            "needs_background": "light"
          }
        }
      ]
    },
    {
      "cell_type": "code",
      "metadata": {
        "colab": {
          "base_uri": "https://localhost:8080/",
          "height": 282
        },
        "id": "jc5AsVqzS6f3",
        "outputId": "e6e9255b-437b-41d1-efae-becc2ef560c8"
      },
      "source": [
        "plt.plot(DesvStds)"
      ],
      "execution_count": 18,
      "outputs": [
        {
          "output_type": "execute_result",
          "data": {
            "text/plain": [
              "[<matplotlib.lines.Line2D at 0x7fc15cbca090>]"
            ]
          },
          "metadata": {
            "tags": []
          },
          "execution_count": 18
        },
        {
          "output_type": "display_data",
          "data": {
            "image/png": "[encoded data removed]",
            "text/plain": [
              "<Figure size 432x288 with 1 Axes>"
            ]
          },
          "metadata": {
            "tags": [],
            "needs_background": "light"
          }
        }
      ]
    },
    {
      "cell_type": "markdown",
      "metadata": {
        "id": "YzlxN7G3YX3w"
      },
      "source": [
        "### Otros ejemplos: Exponencial, chi2, normal, poisson"
      ]
    },
    {
      "cell_type": "code",
      "metadata": {
        "colab": {
          "base_uri": "https://localhost:8080/",
          "height": 268
        },
        "id": "ENmMg_SEYq7d",
        "outputId": "ab0ad4c6-1ca2-45a2-8ed4-236d1f05a40f"
      },
      "source": [
        "Expo = np.random.exponential(100,100000)\n",
        "HistoExpo = plt.hist(Expo)"
      ],
      "execution_count": 19,
      "outputs": [
        {
          "output_type": "display_data",
          "data": {
            "image/png": "[encoded data removed]",
            "text/plain": [
              "<Figure size 432x288 with 1 Axes>"
            ]
          },
          "metadata": {
            "tags": [],
            "needs_background": "light"
          }
        }
      ]
    },
    {
      "cell_type": "code",
      "metadata": {
        "colab": {
          "base_uri": "https://localhost:8080/",
          "height": 265
        },
        "id": "F_c2llfOY8nj",
        "outputId": "0a61684a-8106-40f3-c1a3-d46a172da16f"
      },
      "source": [
        "Chi2 = np.random.chisquare(10,1000)\n",
        "HistoChi2 = plt.hist(Chi2)"
      ],
      "execution_count": 22,
      "outputs": [
        {
          "output_type": "display_data",
          "data": {
            "image/png": "[encoded data removed]",
            "text/plain": [
              "<Figure size 432x288 with 1 Axes>"
            ]
          },
          "metadata": {
            "tags": [],
            "needs_background": "light"
          }
        }
      ]
    },
    {
      "cell_type": "code",
      "metadata": {
        "colab": {
          "base_uri": "https://localhost:8080/",
          "height": 265
        },
        "id": "aYzKYMZWZLdi",
        "outputId": "3bd643d0-6b98-4216-e22a-3912e8b73751"
      },
      "source": [
        "Norm = np.random.normal(50,10,100000)\n",
        "HistoNorm = plt.hist(Norm)"
      ],
      "execution_count": 23,
      "outputs": [
        {
          "output_type": "display_data",
          "data": {
            "image/png": "[encoded data removed]",
            "text/plain": [
              "<Figure size 432x288 with 1 Axes>"
            ]
          },
          "metadata": {
            "tags": [],
            "needs_background": "light"
          }
        }
      ]
    },
    {
      "cell_type": "code",
      "metadata": {
        "colab": {
          "base_uri": "https://localhost:8080/",
          "height": 265
        },
        "id": "R14rxeqEbiGV",
        "outputId": "fc0de7e7-9760-42b7-dc34-c166fb27f42f"
      },
      "source": [
        "Poi = np.random.poisson(10,20)\n",
        "HistoPoi = plt.hist(Poi)"
      ],
      "execution_count": 26,
      "outputs": [
        {
          "output_type": "display_data",
          "data": {
            "image/png": "[encoded data removed]",
            "text/plain": [
              "<Figure size 432x288 with 1 Axes>"
            ]
          },
          "metadata": {
            "tags": [],
            "needs_background": "light"
          }
        }
      ]
    },
    {
      "cell_type": "markdown",
      "metadata": {
        "id": "XO0SaZb0B8uA"
      },
      "source": [
        "## Ejercicio 1\n",
        "\n",
        "Utilice el ejemplo de muestreo para encontrar la mediana, media y varianza de las distribuciones:\n",
        "\n",
        "1. Esponencial: $\\tau=100$\n",
        "2. Chi2: $n=8$\n",
        "3. Normal: $\\mu=50$, $\\sigma=15$\n",
        "4. Poisson: $\\nu=123$"
      ]
    },
    {
      "cell_type": "markdown",
      "metadata": {
        "id": "zg3Gbg_T_WRX"
      },
      "source": [
        "### Teorema del límite central\n",
        "La suma de n variables aleatorias independientes $x_{i}$ con $\\sigma_{i}^{2}$ y $\\mu_{i}$ es una variable aleatoria de distribución normal."
      ]
    },
    {
      "cell_type": "markdown",
      "metadata": {
        "id": "SpCKVu64daTB"
      },
      "source": [
        "## Ejercicio 2\n",
        "\n",
        "Tome n=10,20,100,200 variables aleatorias. Todas ellas distribuidas con una distribución distinta a la normal. Demuestre que la suma de todas ellas para cada n se ajusta al teorema del límite central."
      ]
    },
    {
      "cell_type": "markdown",
      "metadata": {
        "id": "THEFG-mPhECM"
      },
      "source": [
        "## Funciones de variables aleatorias"
      ]
    },
    {
      "cell_type": "code",
      "metadata": {
        "colab": {
          "base_uri": "https://localhost:8080/",
          "height": 268
        },
        "id": "PrD95EuzhQAG",
        "outputId": "cb99da8b-51fa-4a2d-8343-5b7edae23487"
      },
      "source": [
        "Uni = np.random.uniform(0,10,100000)\n",
        "HistoExpdeUni = plt.hist(np.exp(Uni))"
      ],
      "execution_count": 52,
      "outputs": [
        {
          "output_type": "display_data",
          "data": {
            "image/png": "[encoded data removed]",
            "text/plain": [
              "<Figure size 432x288 with 1 Axes>"
            ]
          },
          "metadata": {
            "tags": [],
            "needs_background": "light"
          }
        }
      ]
    },
    {
      "cell_type": "markdown",
      "metadata": {
        "id": "atFYhvGKi5Ux"
      },
      "source": [
        "## Ejercicio 3\n",
        "\n",
        "Utilice el ejemplo de muestreo para encontrar la media y varianza de la exponencial de una variable distribuída de forma uniforme, como en la celda anterior."
      ]
    },
    {
      "cell_type": "markdown",
      "metadata": {
        "id": "HwtyrGnKg_oZ"
      },
      "source": [
        "## Covarianza"
      ]
    },
    {
      "cell_type": "code",
      "metadata": {
        "colab": {
          "base_uri": "https://localhost:8080/",
          "height": 298
        },
        "id": "_MgK9gPFeszM",
        "outputId": "24964b43-dac1-4648-a092-8331a147c7f4"
      },
      "source": [
        "mean = (10, 25)\n",
        "cov = [[2, 0], [0, 5]]\n",
        "Norm2D = np.random.multivariate_normal(mean, cov, 100)\n",
        "HistoNorm = plt.hist2d(Norm2D.take(indices=0,axis=1),Norm2D.take(indices=1,axis=1))"
      ],
      "execution_count": 49,
      "outputs": [
        {
          "output_type": "stream",
          "text": [
            "/usr/local/lib/python3.7/dist-packages/ipykernel_launcher.py:3: RuntimeWarning: covariance is not positive-semidefinite.\n",
            "  This is separate from the ipykernel package so we can avoid doing imports until\n"
          ],
          "name": "stderr"
        },
        {
          "output_type": "display_data",
          "data": {
            "image/png": "[encoded data removed]",
            "text/plain": [
              "<Figure size 432x288 with 1 Axes>"
            ]
          },
          "metadata": {
            "tags": [],
            "needs_background": "light"
          }
        }
      ]
    }
  ]
}