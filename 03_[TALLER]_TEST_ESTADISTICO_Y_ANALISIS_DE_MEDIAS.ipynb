{
  "nbformat": 4,
  "nbformat_minor": 0,
  "metadata": {
    "colab": {
      "name": "03_[TALLER]_TEST_ESTADISTICO_Y_ANALISIS_DE_MEDIAS.ipynb",
      "provenance": [],
      "toc_visible": true,
      "authorship_tag": "ABX9TyNtAPayj+XzoEIn3HJEmqfR",
      "include_colab_link": true
    },
    "kernelspec": {
      "name": "python3",
      "display_name": "Python 3"
    }
  },
  "cells": [
    {
      "cell_type": "markdown",
      "metadata": {
        "id": "view-in-github",
        "colab_type": "text"
      },
      "source": [
        "<a href=\"https://colab.research.google.com/github/UDEA-Esp-Analitica-y-Ciencia-de-Datos/EACD-02-ESTADISTICA/blob/master/03_%5BTALLER%5D_TEST_ESTADISTICO_Y_ANALISIS_DE_MEDIAS.ipynb\" target=\"_parent\"><img src=\"https://colab.research.google.com/assets/colab-badge.svg\" alt=\"Open In Colab\"/></a>"
      ]
    },
    {
      "cell_type": "code",
      "metadata": {
        "id": "-6n4PzcXWHPx",
        "colab_type": "code",
        "colab": {
          "base_uri": "https://localhost:8080/",
          "height": 34
        },
        "outputId": "d16cdc58-ec94-4f00-9ba9-5075537244fa"
      },
      "source": [
        "!wget --no-cache -O init.py -q https://raw.githubusercontent.com/UDEA-Esp-Analitica-y-Ciencia-de-Datos/EACD-02-ESTADISTICA/master/init.py\n",
        "import init; init.init(force_download=False); \n",
        "from IPython.display import Image"
      ],
      "execution_count": null,
      "outputs": [
        {
          "output_type": "stream",
          "text": [
            "replicating local resources\n"
          ],
          "name": "stdout"
        }
      ]
    },
    {
      "cell_type": "code",
      "metadata": {
        "id": "OtRTTV7ZZapl",
        "colab_type": "code",
        "colab": {
          "base_uri": "https://localhost:8080/",
          "height": 251
        },
        "outputId": "d49fd348-909d-4adf-bad0-dccab95afbec"
      },
      "source": [
        "Image(\"local/imgs/udea-datascience.png\")"
      ],
      "execution_count": null,
      "outputs": [
        {
          "output_type": "execute_result",
          "data": {
            "image/png": "[encoded data removed]",
            "text/plain": [
              "<IPython.core.display.Image object>"
            ]
          },
          "metadata": {
            "tags": []
          },
          "execution_count": 2
        }
      ]
    },
    {
      "cell_type": "markdown",
      "metadata": {
        "id": "t6PyHEGKZonu",
        "colab_type": "text"
      },
      "source": [
        "# **TALLER 3: Test Estadístico y Análisis de Medias**\n",
        "## Desarrollado por: Ph.D. Javier Fernando Botía Valderrama\n",
        "## Universidad de Antioquia"
      ]
    },
    {
      "cell_type": "markdown",
      "metadata": {
        "id": "OJGXAV_tZyMA",
        "colab_type": "text"
      },
      "source": [
        "Por favor, ingrese la siguiente información:\n",
        "\n",
        "**Nombre Completo:**\n",
        "\n",
        "**Cédula:**\n",
        "\n",
        "**Correo Institucional:**"
      ]
    },
    {
      "cell_type": "markdown",
      "metadata": {
        "id": "a_mTNHjAZ1Wm",
        "colab_type": "text"
      },
      "source": [
        "#**PARTE A: Matrices de Covarianza y Correlación y Coeficiente de Correlación de Pearson**"
      ]
    },
    {
      "cell_type": "markdown",
      "metadata": {
        "id": "k1bzxzmU_QbA",
        "colab_type": "text"
      },
      "source": [
        "Considere el siguiente problema:\n",
        "\n",
        "En una simulación de estabilidad de la red eléctrica en Alemania, se generó una base de datos representativo con las siguientes características o variables:\n",
        "\n",
        "*   tau[x]: tiempo de reacción del generador de energía en orden de segundos.\n",
        "*   p[x]: consumo de potencia nominal negativo / consumo de potencia producido real.\n",
        "*   g[x]: coeficiente proporcional para estimar la elasticidad del precio de consumo de energía por hora.\n",
        "*   stab: La parte real máxima de estabilidad o inestabilidad de consumo.\n",
        "*   stabf: Etiqueta del consumo."
      ]
    },
    {
      "cell_type": "code",
      "metadata": {
        "id": "dOx4rc4v_PuY",
        "colab_type": "code",
        "colab": {
          "base_uri": "https://localhost:8080/",
          "height": 406
        },
        "outputId": "b13125e6-6223-4a70-deae-fc49b0986c3c"
      },
      "source": [
        "import pandas as pd\n",
        "\n",
        "Consumo = pd.read_csv(\"local/data/Electrical.csv\", sep = \",\", names = None)\n",
        "display(Consumo)"
      ],
      "execution_count": null,
      "outputs": [
        {
          "output_type": "display_data",
          "data": {
            "text/html": [
              "<div>\n",
              "<style scoped>\n",
              "    .dataframe tbody tr th:only-of-type {\n",
              "        vertical-align: middle;\n",
              "    }\n",
              "\n",
              "    .dataframe tbody tr th {\n",
              "        vertical-align: top;\n",
              "    }\n",
              "\n",
              "    .dataframe thead th {\n",
              "        text-align: right;\n",
              "    }\n",
              "</style>\n",
              "<table border=\"1\" class=\"dataframe\">\n",
              "  <thead>\n",
              "    <tr style=\"text-align: right;\">\n",
              "      <th></th>\n",
              "      <th>tau1</th>\n",
              "      <th>tau2</th>\n",
              "      <th>tau3</th>\n",
              "      <th>tau4</th>\n",
              "      <th>p1</th>\n",
              "      <th>p2</th>\n",
              "      <th>p3</th>\n",
              "      <th>p4</th>\n",
              "      <th>g1</th>\n",
              "      <th>g2</th>\n",
              "      <th>g3</th>\n",
              "      <th>g4</th>\n",
              "      <th>stab</th>\n",
              "      <th>stabf</th>\n",
              "    </tr>\n",
              "  </thead>\n",
              "  <tbody>\n",
              "    <tr>\n",
              "      <th>0</th>\n",
              "      <td>2.959060</td>\n",
              "      <td>3.079885</td>\n",
              "      <td>8.381025</td>\n",
              "      <td>9.780754</td>\n",
              "      <td>3.763085</td>\n",
              "      <td>-0.782604</td>\n",
              "      <td>-1.257395</td>\n",
              "      <td>-1.723086</td>\n",
              "      <td>0.650456</td>\n",
              "      <td>0.859578</td>\n",
              "      <td>0.887445</td>\n",
              "      <td>0.958034</td>\n",
              "      <td>0.055347</td>\n",
              "      <td>unstable</td>\n",
              "    </tr>\n",
              "    <tr>\n",
              "      <th>1</th>\n",
              "      <td>9.304097</td>\n",
              "      <td>4.902524</td>\n",
              "      <td>3.047541</td>\n",
              "      <td>1.369357</td>\n",
              "      <td>5.067812</td>\n",
              "      <td>-1.940058</td>\n",
              "      <td>-1.872742</td>\n",
              "      <td>-1.255012</td>\n",
              "      <td>0.413441</td>\n",
              "      <td>0.862414</td>\n",
              "      <td>0.562139</td>\n",
              "      <td>0.781760</td>\n",
              "      <td>-0.005957</td>\n",
              "      <td>stable</td>\n",
              "    </tr>\n",
              "    <tr>\n",
              "      <th>2</th>\n",
              "      <td>8.971707</td>\n",
              "      <td>8.848428</td>\n",
              "      <td>3.046479</td>\n",
              "      <td>1.214518</td>\n",
              "      <td>3.405158</td>\n",
              "      <td>-1.207456</td>\n",
              "      <td>-1.277210</td>\n",
              "      <td>-0.920492</td>\n",
              "      <td>0.163041</td>\n",
              "      <td>0.766689</td>\n",
              "      <td>0.839444</td>\n",
              "      <td>0.109853</td>\n",
              "      <td>0.003471</td>\n",
              "      <td>unstable</td>\n",
              "    </tr>\n",
              "    <tr>\n",
              "      <th>3</th>\n",
              "      <td>0.716415</td>\n",
              "      <td>7.669600</td>\n",
              "      <td>4.486641</td>\n",
              "      <td>2.340563</td>\n",
              "      <td>3.963791</td>\n",
              "      <td>-1.027473</td>\n",
              "      <td>-1.938944</td>\n",
              "      <td>-0.997374</td>\n",
              "      <td>0.446209</td>\n",
              "      <td>0.976744</td>\n",
              "      <td>0.929381</td>\n",
              "      <td>0.362718</td>\n",
              "      <td>0.028871</td>\n",
              "      <td>unstable</td>\n",
              "    </tr>\n",
              "    <tr>\n",
              "      <th>4</th>\n",
              "      <td>3.134112</td>\n",
              "      <td>7.608772</td>\n",
              "      <td>4.943759</td>\n",
              "      <td>9.857573</td>\n",
              "      <td>3.525811</td>\n",
              "      <td>-1.125531</td>\n",
              "      <td>-1.845975</td>\n",
              "      <td>-0.554305</td>\n",
              "      <td>0.797110</td>\n",
              "      <td>0.455450</td>\n",
              "      <td>0.656947</td>\n",
              "      <td>0.820923</td>\n",
              "      <td>0.049860</td>\n",
              "      <td>unstable</td>\n",
              "    </tr>\n",
              "    <tr>\n",
              "      <th>...</th>\n",
              "      <td>...</td>\n",
              "      <td>...</td>\n",
              "      <td>...</td>\n",
              "      <td>...</td>\n",
              "      <td>...</td>\n",
              "      <td>...</td>\n",
              "      <td>...</td>\n",
              "      <td>...</td>\n",
              "      <td>...</td>\n",
              "      <td>...</td>\n",
              "      <td>...</td>\n",
              "      <td>...</td>\n",
              "      <td>...</td>\n",
              "      <td>...</td>\n",
              "    </tr>\n",
              "    <tr>\n",
              "      <th>9995</th>\n",
              "      <td>2.930406</td>\n",
              "      <td>9.487627</td>\n",
              "      <td>2.376523</td>\n",
              "      <td>6.187797</td>\n",
              "      <td>3.343416</td>\n",
              "      <td>-0.658054</td>\n",
              "      <td>-1.449106</td>\n",
              "      <td>-1.236256</td>\n",
              "      <td>0.601709</td>\n",
              "      <td>0.779642</td>\n",
              "      <td>0.813512</td>\n",
              "      <td>0.608385</td>\n",
              "      <td>0.023892</td>\n",
              "      <td>unstable</td>\n",
              "    </tr>\n",
              "    <tr>\n",
              "      <th>9996</th>\n",
              "      <td>3.392299</td>\n",
              "      <td>1.274827</td>\n",
              "      <td>2.954947</td>\n",
              "      <td>6.894759</td>\n",
              "      <td>4.349512</td>\n",
              "      <td>-1.663661</td>\n",
              "      <td>-0.952437</td>\n",
              "      <td>-1.733414</td>\n",
              "      <td>0.502079</td>\n",
              "      <td>0.567242</td>\n",
              "      <td>0.285880</td>\n",
              "      <td>0.366120</td>\n",
              "      <td>-0.025803</td>\n",
              "      <td>stable</td>\n",
              "    </tr>\n",
              "    <tr>\n",
              "      <th>9997</th>\n",
              "      <td>2.364034</td>\n",
              "      <td>2.842030</td>\n",
              "      <td>8.776391</td>\n",
              "      <td>1.008906</td>\n",
              "      <td>4.299976</td>\n",
              "      <td>-1.380719</td>\n",
              "      <td>-0.943884</td>\n",
              "      <td>-1.975373</td>\n",
              "      <td>0.487838</td>\n",
              "      <td>0.986505</td>\n",
              "      <td>0.149286</td>\n",
              "      <td>0.145984</td>\n",
              "      <td>-0.031810</td>\n",
              "      <td>stable</td>\n",
              "    </tr>\n",
              "    <tr>\n",
              "      <th>9998</th>\n",
              "      <td>9.631511</td>\n",
              "      <td>3.994398</td>\n",
              "      <td>2.757071</td>\n",
              "      <td>7.821347</td>\n",
              "      <td>2.514755</td>\n",
              "      <td>-0.966330</td>\n",
              "      <td>-0.649915</td>\n",
              "      <td>-0.898510</td>\n",
              "      <td>0.365246</td>\n",
              "      <td>0.587558</td>\n",
              "      <td>0.889118</td>\n",
              "      <td>0.818391</td>\n",
              "      <td>0.037789</td>\n",
              "      <td>unstable</td>\n",
              "    </tr>\n",
              "    <tr>\n",
              "      <th>9999</th>\n",
              "      <td>6.530527</td>\n",
              "      <td>6.781790</td>\n",
              "      <td>4.349695</td>\n",
              "      <td>8.673138</td>\n",
              "      <td>3.492807</td>\n",
              "      <td>-1.390285</td>\n",
              "      <td>-1.532193</td>\n",
              "      <td>-0.570329</td>\n",
              "      <td>0.073056</td>\n",
              "      <td>0.505441</td>\n",
              "      <td>0.378761</td>\n",
              "      <td>0.942631</td>\n",
              "      <td>0.045263</td>\n",
              "      <td>unstable</td>\n",
              "    </tr>\n",
              "  </tbody>\n",
              "</table>\n",
              "<p>10000 rows × 14 columns</p>\n",
              "</div>"
            ],
            "text/plain": [
              "          tau1      tau2      tau3  ...        g4      stab     stabf\n",
              "0     2.959060  3.079885  8.381025  ...  0.958034  0.055347  unstable\n",
              "1     9.304097  4.902524  3.047541  ...  0.781760 -0.005957    stable\n",
              "2     8.971707  8.848428  3.046479  ...  0.109853  0.003471  unstable\n",
              "3     0.716415  7.669600  4.486641  ...  0.362718  0.028871  unstable\n",
              "4     3.134112  7.608772  4.943759  ...  0.820923  0.049860  unstable\n",
              "...        ...       ...       ...  ...       ...       ...       ...\n",
              "9995  2.930406  9.487627  2.376523  ...  0.608385  0.023892  unstable\n",
              "9996  3.392299  1.274827  2.954947  ...  0.366120 -0.025803    stable\n",
              "9997  2.364034  2.842030  8.776391  ...  0.145984 -0.031810    stable\n",
              "9998  9.631511  3.994398  2.757071  ...  0.818391  0.037789  unstable\n",
              "9999  6.530527  6.781790  4.349695  ...  0.942631  0.045263  unstable\n",
              "\n",
              "[10000 rows x 14 columns]"
            ]
          },
          "metadata": {
            "tags": []
          }
        }
      ]
    },
    {
      "cell_type": "markdown",
      "metadata": {
        "id": "LhqYCjKT8eha",
        "colab_type": "text"
      },
      "source": [
        "A partir de la anterior base de datos, realizar los siguientes procedimientos:\n",
        "\n",
        "1.   Crear una nueva base de datos con las características tau1, tau2, tau3, tau4, p1, p2, p3, p4, g1, g2, g3 y g4\n",
        "2.   A partir del item 1), calcular las matrices de covarianza y correlación que relacione las variables o características:\n",
        "3.   Determine cuáles son las variables o características que tienen mayor correlación y mayor similaridad entre sí."
      ]
    },
    {
      "cell_type": "code",
      "metadata": {
        "id": "y-xjXM5_GekU",
        "colab_type": "code",
        "colab": {}
      },
      "source": [
        ""
      ],
      "execution_count": null,
      "outputs": []
    },
    {
      "cell_type": "markdown",
      "metadata": {
        "id": "oJ8WtG9PGe8l",
        "colab_type": "text"
      },
      "source": [
        "*Ingrese aquí las conclusiones*"
      ]
    },
    {
      "cell_type": "markdown",
      "metadata": {
        "id": "kb63PIZQGmzW",
        "colab_type": "text"
      },
      "source": [
        "#**PARTE B: Distribución t vs Distribución normal y test t con datos de crédito**"
      ]
    },
    {
      "cell_type": "markdown",
      "metadata": {
        "id": "lpUirHcnJe0r",
        "colab_type": "text"
      },
      "source": [
        "Considere el siguiente problema:\n",
        "\n",
        "En una base de datos de acceso abierto del banco alemán Statlog, en noviembre de 2019, se presentaron varios errores en la códificación de la información y no se sabe con seguridad si las cantidades asignadas a un conjunto de clientes son válidas o no. Un estadístico del banco sugiere que la distribución t y el test t podría dar ideas acerca de los posibles errores de la codificación. Los datos son los siguientes:"
      ]
    },
    {
      "cell_type": "code",
      "metadata": {
        "id": "hK1eiDLXPDR9",
        "colab_type": "code",
        "colab": {
          "base_uri": "https://localhost:8080/",
          "height": 406
        },
        "outputId": "2a9051a7-b7e4-4e9e-a107-0ab13e20d3a8"
      },
      "source": [
        "import pandas as pd\n",
        "\n",
        "banco = pd.read_excel(\"local/data/Aleman1.xlsx\", sep = \",\", names = None)\n",
        "display(banco)\n",
        "\n",
        "# hoehe = cantidad en Euros\n",
        "# kredit = crédito, donde 0 significa crédito mal asignado y 1 significa crédito bien asignado"
      ],
      "execution_count": null,
      "outputs": [
        {
          "output_type": "display_data",
          "data": {
            "text/html": [
              "<div>\n",
              "<style scoped>\n",
              "    .dataframe tbody tr th:only-of-type {\n",
              "        vertical-align: middle;\n",
              "    }\n",
              "\n",
              "    .dataframe tbody tr th {\n",
              "        vertical-align: top;\n",
              "    }\n",
              "\n",
              "    .dataframe thead th {\n",
              "        text-align: right;\n",
              "    }\n",
              "</style>\n",
              "<table border=\"1\" class=\"dataframe\">\n",
              "  <thead>\n",
              "    <tr style=\"text-align: right;\">\n",
              "      <th></th>\n",
              "      <th>hoehe</th>\n",
              "      <th>kredit</th>\n",
              "    </tr>\n",
              "  </thead>\n",
              "  <tbody>\n",
              "    <tr>\n",
              "      <th>0</th>\n",
              "      <td>1049</td>\n",
              "      <td>1</td>\n",
              "    </tr>\n",
              "    <tr>\n",
              "      <th>1</th>\n",
              "      <td>2799</td>\n",
              "      <td>1</td>\n",
              "    </tr>\n",
              "    <tr>\n",
              "      <th>2</th>\n",
              "      <td>841</td>\n",
              "      <td>1</td>\n",
              "    </tr>\n",
              "    <tr>\n",
              "      <th>3</th>\n",
              "      <td>2122</td>\n",
              "      <td>1</td>\n",
              "    </tr>\n",
              "    <tr>\n",
              "      <th>4</th>\n",
              "      <td>2171</td>\n",
              "      <td>1</td>\n",
              "    </tr>\n",
              "    <tr>\n",
              "      <th>...</th>\n",
              "      <td>...</td>\n",
              "      <td>...</td>\n",
              "    </tr>\n",
              "    <tr>\n",
              "      <th>995</th>\n",
              "      <td>1987</td>\n",
              "      <td>0</td>\n",
              "    </tr>\n",
              "    <tr>\n",
              "      <th>996</th>\n",
              "      <td>2303</td>\n",
              "      <td>0</td>\n",
              "    </tr>\n",
              "    <tr>\n",
              "      <th>997</th>\n",
              "      <td>12680</td>\n",
              "      <td>0</td>\n",
              "    </tr>\n",
              "    <tr>\n",
              "      <th>998</th>\n",
              "      <td>6468</td>\n",
              "      <td>0</td>\n",
              "    </tr>\n",
              "    <tr>\n",
              "      <th>999</th>\n",
              "      <td>6350</td>\n",
              "      <td>0</td>\n",
              "    </tr>\n",
              "  </tbody>\n",
              "</table>\n",
              "<p>1000 rows × 2 columns</p>\n",
              "</div>"
            ],
            "text/plain": [
              "     hoehe  kredit\n",
              "0     1049       1\n",
              "1     2799       1\n",
              "2      841       1\n",
              "3     2122       1\n",
              "4     2171       1\n",
              "..     ...     ...\n",
              "995   1987       0\n",
              "996   2303       0\n",
              "997  12680       0\n",
              "998   6468       0\n",
              "999   6350       0\n",
              "\n",
              "[1000 rows x 2 columns]"
            ]
          },
          "metadata": {
            "tags": []
          }
        }
      ]
    },
    {
      "cell_type": "markdown",
      "metadata": {
        "id": "VF9XrVyMRbzi",
        "colab_type": "text"
      },
      "source": [
        "A partir de la anterior base de datos, determine:\n",
        "\n",
        "1.   Realice un gráfico de la función de densidad de probabilidad con la distribución t que relacione la variable *hoehe*. Para estimar el parámetro $\\nu$, se recomienda:\n",
        "\n",
        "```\n",
        "nu,media_data,var_data = t.fit(data)\n",
        "```\n",
        "Se recomienda:\n",
        "\n",
        "```\n",
        "t.pdf(x, nu, loc = media_data, scale = var_data)\n",
        "```\n",
        "\n",
        "2.   Realice un gráfico de la función de densidad de probabilidad con la distribución normal que relacione la variable *hoehe*.\n",
        "3.   Compare los resultados de los items anteriores.\n",
        "4.   Realizar el test t con las medias del item 1) y del item 2), usando el test t de una muestra. Luego, realizar el test t de una muestra con las dos medias y finalmente, el test t de muestras independientes con la base de datos banco. "
      ]
    },
    {
      "cell_type": "code",
      "metadata": {
        "id": "6LLorgtdOUoi",
        "colab_type": "code",
        "colab": {}
      },
      "source": [
        ""
      ],
      "execution_count": null,
      "outputs": []
    },
    {
      "cell_type": "markdown",
      "metadata": {
        "id": "DEzg-YOeEfcH",
        "colab_type": "text"
      },
      "source": [
        "*Ingrese aquí las conclusiones*"
      ]
    },
    {
      "cell_type": "markdown",
      "metadata": {
        "id": "p8ot9gmrOaAT",
        "colab_type": "text"
      },
      "source": [
        "#**PARTE C: Test Exacto de Fisher vs Test Chi-Cuadrada con datos bancarios**"
      ]
    },
    {
      "cell_type": "markdown",
      "metadata": {
        "id": "u5TOw9e9PySJ",
        "colab_type": "text"
      },
      "source": [
        "Considere el siguiente problema:\n",
        "\n",
        "Regresamos de nuevo al caso del banco alemán Statlog. Aunque se propuso la idea del test t de la parte B, el gerente del banco desea una tabla de contingencia que permita aplicar otros test para determinar el impacto de los errores de codificación. Para esto, el gerente considera la siguiente base de datos:"
      ]
    },
    {
      "cell_type": "code",
      "metadata": {
        "id": "Bje5asRjR07u",
        "colab_type": "code",
        "colab": {
          "base_uri": "https://localhost:8080/",
          "height": 406
        },
        "outputId": "8b172dd3-d84e-4709-d2c7-63447a11993f"
      },
      "source": [
        "import pandas as pd\n",
        "\n",
        "banco_datos = pd.read_excel(\"local/data/Aleman2.xlsx\", sep = \",\", names = None)\n",
        "display(banco_datos)"
      ],
      "execution_count": null,
      "outputs": [
        {
          "output_type": "display_data",
          "data": {
            "text/html": [
              "<div>\n",
              "<style scoped>\n",
              "    .dataframe tbody tr th:only-of-type {\n",
              "        vertical-align: middle;\n",
              "    }\n",
              "\n",
              "    .dataframe tbody tr th {\n",
              "        vertical-align: top;\n",
              "    }\n",
              "\n",
              "    .dataframe thead th {\n",
              "        text-align: right;\n",
              "    }\n",
              "</style>\n",
              "<table border=\"1\" class=\"dataframe\">\n",
              "  <thead>\n",
              "    <tr style=\"text-align: right;\">\n",
              "      <th></th>\n",
              "      <th>moral</th>\n",
              "      <th>verw</th>\n",
              "      <th>kredit</th>\n",
              "    </tr>\n",
              "  </thead>\n",
              "  <tbody>\n",
              "    <tr>\n",
              "      <th>0</th>\n",
              "      <td>4</td>\n",
              "      <td>2</td>\n",
              "      <td>1</td>\n",
              "    </tr>\n",
              "    <tr>\n",
              "      <th>1</th>\n",
              "      <td>4</td>\n",
              "      <td>0</td>\n",
              "      <td>1</td>\n",
              "    </tr>\n",
              "    <tr>\n",
              "      <th>2</th>\n",
              "      <td>2</td>\n",
              "      <td>9</td>\n",
              "      <td>1</td>\n",
              "    </tr>\n",
              "    <tr>\n",
              "      <th>3</th>\n",
              "      <td>4</td>\n",
              "      <td>0</td>\n",
              "      <td>1</td>\n",
              "    </tr>\n",
              "    <tr>\n",
              "      <th>4</th>\n",
              "      <td>4</td>\n",
              "      <td>0</td>\n",
              "      <td>1</td>\n",
              "    </tr>\n",
              "    <tr>\n",
              "      <th>...</th>\n",
              "      <td>...</td>\n",
              "      <td>...</td>\n",
              "      <td>...</td>\n",
              "    </tr>\n",
              "    <tr>\n",
              "      <th>995</th>\n",
              "      <td>2</td>\n",
              "      <td>3</td>\n",
              "      <td>0</td>\n",
              "    </tr>\n",
              "    <tr>\n",
              "      <th>996</th>\n",
              "      <td>2</td>\n",
              "      <td>0</td>\n",
              "      <td>0</td>\n",
              "    </tr>\n",
              "    <tr>\n",
              "      <th>997</th>\n",
              "      <td>4</td>\n",
              "      <td>0</td>\n",
              "      <td>0</td>\n",
              "    </tr>\n",
              "    <tr>\n",
              "      <th>998</th>\n",
              "      <td>2</td>\n",
              "      <td>3</td>\n",
              "      <td>0</td>\n",
              "    </tr>\n",
              "    <tr>\n",
              "      <th>999</th>\n",
              "      <td>2</td>\n",
              "      <td>2</td>\n",
              "      <td>0</td>\n",
              "    </tr>\n",
              "  </tbody>\n",
              "</table>\n",
              "<p>1000 rows × 3 columns</p>\n",
              "</div>"
            ],
            "text/plain": [
              "     moral  verw  kredit\n",
              "0        4     2       1\n",
              "1        4     0       1\n",
              "2        2     9       1\n",
              "3        4     0       1\n",
              "4        4     0       1\n",
              "..     ...   ...     ...\n",
              "995      2     3       0\n",
              "996      2     0       0\n",
              "997      4     0       0\n",
              "998      2     3       0\n",
              "999      2     2       0\n",
              "\n",
              "[1000 rows x 3 columns]"
            ]
          },
          "metadata": {
            "tags": []
          }
        }
      ]
    },
    {
      "cell_type": "markdown",
      "metadata": {
        "id": "ZeZn_kA0R1b-",
        "colab_type": "text"
      },
      "source": [
        "donde *moral* significa historia crediticia y *verw* significa *propósito*. El significado de cada característica son:\n",
        "\n",
        "**moral**:\n",
        "\n",
        "*   0: retraso en el pago en el pasado.\n",
        "*   1: cuenta crítica/otros créditos en otra parte.\n",
        "*   2: no se toman créditos/se devuelven todos los créditos debidamente.\n",
        "*   3: créditos existentes devueltos debidamente hasta ahora.\n",
        "*   4: todos los créditos en este banco pagados debidamente.\n",
        "\n",
        "**verw**:\n",
        "\n",
        "*   0: otros.\n",
        "*   1: carro nuevo.\n",
        "*   2: carro usado.\n",
        "*   3: equipos.\n",
        "*   4: radio/tv.\n",
        "*   5: aparatos domésticos.\n",
        "*   6: reparaciones.\n",
        "*   7: educación.\n",
        "*   8: vacaciones.\n",
        "*   9: reentrenamiento.\n",
        "*   10: negocios.\n",
        "\n",
        "A partir de la anterior base de datos, construir una tabla de contingencia de la variable **moral** con respecto a **kredit** y otra tabla de contingencia de la variable **verw** con respecto a **kredit**. A partir de las tablas de contingencia, realizar el test exacto de Fisher y el test Chi-Cuadrada. Luego,compare los resultados obtenidos.\n",
        "\n",
        "**Pista:** Se recomienda usar la libreria:\n",
        "\n",
        "import statsmodels.api as sm\n",
        "\n",
        "table = sm.stats.Table.from_data(DATA)\n",
        "\n",
        "contigencia = table.table_orig\n"
      ]
    },
    {
      "cell_type": "code",
      "metadata": {
        "id": "CZR-_K2ub60x",
        "colab_type": "code",
        "colab": {}
      },
      "source": [
        ""
      ],
      "execution_count": null,
      "outputs": []
    },
    {
      "cell_type": "markdown",
      "metadata": {
        "id": "DvtoKvGIb7Nc",
        "colab_type": "text"
      },
      "source": [
        "*Ingrese aquí las conclusiones*"
      ]
    },
    {
      "cell_type": "markdown",
      "metadata": {
        "id": "B676mM1dLOpC",
        "colab_type": "text"
      },
      "source": [
        "#**PARTE D: KS test para datos de una empresa cementera**"
      ]
    },
    {
      "cell_type": "markdown",
      "metadata": {
        "id": "QSdlbSGxeahn",
        "colab_type": "text"
      },
      "source": [
        "Considere el siguiente problema:\n",
        "\n",
        "Una empresa cementera está produciendo lotes de cemento para enviarlos a una obra de un tunel en una región montañosa colombiana. Durante la producción de dicho lotes, la empresa cementera está realizando unas pruebas de calidad para crear la mezcla que utilizarán en la obra del tunel. Tales ingredientes son: cemento, cenizas de alto horno, cenizas volantes, agua, superplastificante, agregado grueso y agregado fino. Además de los ingredientes, un ingeniero civil sugiere la adición de otra variable: la edad en días de los ingredientes. A partir de tales variables, los ingenieros midieron la resistencia a la compresión del hormigón, que permite hacer una análisis de la calidad de la mezcla con el cemento que produce la empresa. \n",
        "\n",
        "Durante las pruebas realizadas, los ingenieros obtuvieron la siguiente base de datos representativa con los nombres de las variables en inglés:"
      ]
    },
    {
      "cell_type": "code",
      "metadata": {
        "id": "VOtIAcz4gdaY",
        "colab_type": "code",
        "colab": {
          "base_uri": "https://localhost:8080/",
          "height": 406
        },
        "outputId": "19e89a44-cf86-4d3e-a158-7e71a5c1c390"
      },
      "source": [
        "import pandas as pd\n",
        "\n",
        "empresa_cementera = pd.read_table(\"local/data/concrete.dat\", sep = \",\", names = None)\n",
        "display(empresa_cementera)"
      ],
      "execution_count": null,
      "outputs": [
        {
          "output_type": "display_data",
          "data": {
            "text/html": [
              "<div>\n",
              "<style scoped>\n",
              "    .dataframe tbody tr th:only-of-type {\n",
              "        vertical-align: middle;\n",
              "    }\n",
              "\n",
              "    .dataframe tbody tr th {\n",
              "        vertical-align: top;\n",
              "    }\n",
              "\n",
              "    .dataframe thead th {\n",
              "        text-align: right;\n",
              "    }\n",
              "</style>\n",
              "<table border=\"1\" class=\"dataframe\">\n",
              "  <thead>\n",
              "    <tr style=\"text-align: right;\">\n",
              "      <th></th>\n",
              "      <th>Cement</th>\n",
              "      <th>BlastFurnaceSlag</th>\n",
              "      <th>FlyAsh</th>\n",
              "      <th>Water</th>\n",
              "      <th>Superplasticizer</th>\n",
              "      <th>CoarseAggregate</th>\n",
              "      <th>FineAggregate</th>\n",
              "      <th>Age</th>\n",
              "      <th>ConcreteCompressiveStrength</th>\n",
              "    </tr>\n",
              "  </thead>\n",
              "  <tbody>\n",
              "    <tr>\n",
              "      <th>0</th>\n",
              "      <td>252.000000</td>\n",
              "      <td>0.000000</td>\n",
              "      <td>0.000000</td>\n",
              "      <td>185.000000</td>\n",
              "      <td>0.0</td>\n",
              "      <td>1111.000000</td>\n",
              "      <td>784.000000</td>\n",
              "      <td>7.0</td>\n",
              "      <td>13.710000</td>\n",
              "    </tr>\n",
              "    <tr>\n",
              "      <th>1</th>\n",
              "      <td>295.799988</td>\n",
              "      <td>0.000000</td>\n",
              "      <td>0.000000</td>\n",
              "      <td>185.699997</td>\n",
              "      <td>0.0</td>\n",
              "      <td>1091.400024</td>\n",
              "      <td>769.299988</td>\n",
              "      <td>7.0</td>\n",
              "      <td>14.840000</td>\n",
              "    </tr>\n",
              "    <tr>\n",
              "      <th>2</th>\n",
              "      <td>252.300003</td>\n",
              "      <td>0.000000</td>\n",
              "      <td>98.800003</td>\n",
              "      <td>146.300003</td>\n",
              "      <td>14.2</td>\n",
              "      <td>987.799988</td>\n",
              "      <td>889.000000</td>\n",
              "      <td>3.0</td>\n",
              "      <td>21.780001</td>\n",
              "    </tr>\n",
              "    <tr>\n",
              "      <th>3</th>\n",
              "      <td>172.399994</td>\n",
              "      <td>13.600000</td>\n",
              "      <td>172.399994</td>\n",
              "      <td>156.800003</td>\n",
              "      <td>4.1</td>\n",
              "      <td>1006.299988</td>\n",
              "      <td>856.400024</td>\n",
              "      <td>28.0</td>\n",
              "      <td>33.689999</td>\n",
              "    </tr>\n",
              "    <tr>\n",
              "      <th>4</th>\n",
              "      <td>162.000000</td>\n",
              "      <td>214.000000</td>\n",
              "      <td>164.000000</td>\n",
              "      <td>202.000000</td>\n",
              "      <td>10.0</td>\n",
              "      <td>820.000000</td>\n",
              "      <td>680.000000</td>\n",
              "      <td>28.0</td>\n",
              "      <td>30.650000</td>\n",
              "    </tr>\n",
              "    <tr>\n",
              "      <th>...</th>\n",
              "      <td>...</td>\n",
              "      <td>...</td>\n",
              "      <td>...</td>\n",
              "      <td>...</td>\n",
              "      <td>...</td>\n",
              "      <td>...</td>\n",
              "      <td>...</td>\n",
              "      <td>...</td>\n",
              "      <td>...</td>\n",
              "    </tr>\n",
              "    <tr>\n",
              "      <th>1025</th>\n",
              "      <td>210.699997</td>\n",
              "      <td>316.100006</td>\n",
              "      <td>0.000000</td>\n",
              "      <td>185.699997</td>\n",
              "      <td>0.0</td>\n",
              "      <td>977.000000</td>\n",
              "      <td>689.299988</td>\n",
              "      <td>28.0</td>\n",
              "      <td>37.810001</td>\n",
              "    </tr>\n",
              "    <tr>\n",
              "      <th>1026</th>\n",
              "      <td>136.000000</td>\n",
              "      <td>196.000000</td>\n",
              "      <td>98.000000</td>\n",
              "      <td>199.000000</td>\n",
              "      <td>6.0</td>\n",
              "      <td>847.000000</td>\n",
              "      <td>783.000000</td>\n",
              "      <td>28.0</td>\n",
              "      <td>26.969999</td>\n",
              "    </tr>\n",
              "    <tr>\n",
              "      <th>1027</th>\n",
              "      <td>145.000000</td>\n",
              "      <td>0.000000</td>\n",
              "      <td>134.000000</td>\n",
              "      <td>181.000000</td>\n",
              "      <td>11.0</td>\n",
              "      <td>979.000000</td>\n",
              "      <td>812.000000</td>\n",
              "      <td>28.0</td>\n",
              "      <td>13.200000</td>\n",
              "    </tr>\n",
              "    <tr>\n",
              "      <th>1028</th>\n",
              "      <td>376.000000</td>\n",
              "      <td>0.000000</td>\n",
              "      <td>0.000000</td>\n",
              "      <td>214.600006</td>\n",
              "      <td>0.0</td>\n",
              "      <td>1003.500000</td>\n",
              "      <td>762.400024</td>\n",
              "      <td>56.0</td>\n",
              "      <td>36.299999</td>\n",
              "    </tr>\n",
              "    <tr>\n",
              "      <th>1029</th>\n",
              "      <td>152.600006</td>\n",
              "      <td>238.699997</td>\n",
              "      <td>0.000000</td>\n",
              "      <td>200.000000</td>\n",
              "      <td>6.3</td>\n",
              "      <td>1001.799988</td>\n",
              "      <td>683.900024</td>\n",
              "      <td>28.0</td>\n",
              "      <td>26.860001</td>\n",
              "    </tr>\n",
              "  </tbody>\n",
              "</table>\n",
              "<p>1030 rows × 9 columns</p>\n",
              "</div>"
            ],
            "text/plain": [
              "          Cement   BlastFurnaceSlag  ...   Age   ConcreteCompressiveStrength\n",
              "0     252.000000           0.000000  ...   7.0                     13.710000\n",
              "1     295.799988           0.000000  ...   7.0                     14.840000\n",
              "2     252.300003           0.000000  ...   3.0                     21.780001\n",
              "3     172.399994          13.600000  ...  28.0                     33.689999\n",
              "4     162.000000         214.000000  ...  28.0                     30.650000\n",
              "...          ...                ...  ...   ...                           ...\n",
              "1025  210.699997         316.100006  ...  28.0                     37.810001\n",
              "1026  136.000000         196.000000  ...  28.0                     26.969999\n",
              "1027  145.000000           0.000000  ...  28.0                     13.200000\n",
              "1028  376.000000           0.000000  ...  56.0                     36.299999\n",
              "1029  152.600006         238.699997  ...  28.0                     26.860001\n",
              "\n",
              "[1030 rows x 9 columns]"
            ]
          },
          "metadata": {
            "tags": []
          }
        }
      ]
    },
    {
      "cell_type": "markdown",
      "metadata": {
        "id": "4-y3AoF4hakP",
        "colab_type": "text"
      },
      "source": [
        "A partir de la anterior base de datos, los ingenieros necesitan conocer bajo que distribución de probabilidad se acercan más cada una de las variables. Uno de los ingenieros se le ocurrio la idea del KS test que estudio en una especialización en analítica y ciencia de datos. Los demás ingenieros decidieron aceptar la sugerencia. Por consiguiente, el reto que se propusieron es el siguiente:\n",
        "\n",
        "1.   Realizar el KS test de una muestra con cada una de las variables, considerando funciones de distribución de probabilidad continuas, obteniendo el valor KS y el valor p.\n",
        "2.   Tomar una decisión de la distribución de probabilidad más apropiado para cada variable.\n",
        "3.   A partir del item 3), calcular la media y la varianza de cada variable, que permitira a los ingenieros tener una idea de la cantidad de ingredientes promedio que se requiere para la mezcla. Estos datos son útiles para la obra del tunel, evitando posibles sobrecostos de la obra.\n",
        "4.   El contratista de la obra del tunel escucho un rumor acerca de las bondades de la regresión para hacer predicciones a partir de un modelo que se construye con los datos. Para el contratista, la variable más importante de la base de datos es la resistencia a la compresión del hormigón y desea conocer cuál es el modelo de regresión más apropiado para predecir esta variable. Para lo anterior, los ingenieros sugieren los siguientes algoritmos para encontrar el mejor modelo posible:\n",
        "\n",
        "*   Regresión lineal múltiple\n",
        "*   Caracterrísticas Polinómicas\n",
        "\n",
        "A partir de lo anterior, considere las variables cemento, cenizas de alto horno, cenizas volantes, agua, superplastificante, agregado grueso, agregado fino y edad como variables de entrada y la resistencia a la compresión del hormigón como variable de salida. Construya el modelo de regresión y calcule su puntaje.\n",
        "\n",
        "Para usar la regresión polinómica, se sugiere la siguiente librería:\n",
        "\n",
        "```\n",
        "from sklearn.preprocessing import PolynomialFeatures\n",
        "from sklearn.linear_model import LinearRegression\n",
        "\n",
        "Modelo_Polinomico = PolynomialFeatures(degree = 5, interaction_only=True) \n",
        "                                                   \n",
        "x_pred_Poli = Modelo_Polinomico.fit_transform(data)\n",
        "```\n",
        "Luego utilice el código visto en la unidad 2 para separar los datos en entrenamiento (70%) y prueba (30%), usando los datos de las caracteristicas x_pred_Poli y la salida y que es la resistencia a la compresión del hormigón (ConcreteCompressiveStrength). A partir de lo anterior, construya el modelo de regresión lineal y evalue su desempeño con los datos de prueba."
      ]
    },
    {
      "cell_type": "code",
      "metadata": {
        "id": "wVo_-I6bnWw5",
        "colab_type": "code",
        "colab": {}
      },
      "source": [
        ""
      ],
      "execution_count": null,
      "outputs": []
    },
    {
      "cell_type": "markdown",
      "metadata": {
        "id": "JYfyJMIqEwC8",
        "colab_type": "text"
      },
      "source": [
        "*Ingrese aquí las conclusiones*"
      ]
    }
  ]
}