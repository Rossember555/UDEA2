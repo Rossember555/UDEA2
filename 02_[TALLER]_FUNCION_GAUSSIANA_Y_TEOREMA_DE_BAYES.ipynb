{
  "nbformat": 4,
  "nbformat_minor": 0,
  "metadata": {
    "colab": {
      "name": "02-[TALLER]-FUNCION_GAUSSIANA_Y_TEOREMA_DE_BAYES.ipynb",
      "provenance": [],
      "toc_visible": true,
      "authorship_tag": "ABX9TyNip6xRFzO/hnGtCAqimADg",
      "include_colab_link": true
    },
    "kernelspec": {
      "name": "python3",
      "display_name": "Python 3"
    }
  },
  "cells": [
    {
      "cell_type": "markdown",
      "metadata": {
        "id": "view-in-github",
        "colab_type": "text"
      },
      "source": [
        "<a href=\"https://colab.research.google.com/github/UDEA-Esp-Analitica-y-Ciencia-de-Datos/EACD-02-ESTADISTICA/blob/master/02_%5BTALLER%5D_FUNCION_GAUSSIANA_Y_TEOREMA_DE_BAYES.ipynb\" target=\"_parent\"><img src=\"https://colab.research.google.com/assets/colab-badge.svg\" alt=\"Open In Colab\"/></a>"
      ]
    },
    {
      "cell_type": "code",
      "metadata": {
        "id": "KWyLo57RhpNm",
        "colab_type": "code",
        "colab": {
          "base_uri": "https://localhost:8080/",
          "height": 35
        },
        "outputId": "cce53cb0-b2fa-4271-ef32-ccbc0da277fc"
      },
      "source": [
        "!wget --no-cache -O init.py -q https://raw.githubusercontent.com/UDEA-Esp-Analitica-y-Ciencia-de-Datos/EACD-02-ESTADISTICA/master/init.py\n",
        "import init; init.init(force_download=False); \n",
        "from IPython.display import Image"
      ],
      "execution_count": null,
      "outputs": [
        {
          "output_type": "stream",
          "text": [
            "replicating local resources\n"
          ],
          "name": "stdout"
        }
      ]
    },
    {
      "cell_type": "code",
      "metadata": {
        "id": "GeDXqMkjLRgK",
        "colab_type": "code",
        "colab": {
          "base_uri": "https://localhost:8080/",
          "height": 251
        },
        "outputId": "f5f640a0-42bd-43e0-8cf0-bf4ee364911d"
      },
      "source": [
        "Image(\"local/imgs/udea-datascience.png\")"
      ],
      "execution_count": null,
      "outputs": [
        {
          "output_type": "execute_result",
          "data": {
            "image/png": "[encoded data removed]",
            "text/plain": [
              "<IPython.core.display.Image object>"
            ]
          },
          "metadata": {
            "tags": []
          },
          "execution_count": 2
        }
      ]
    },
    {
      "cell_type": "markdown",
      "metadata": {
        "id": "TtahwAIxLVvg",
        "colab_type": "text"
      },
      "source": [
        "# **TALLER 2: Función Gaussiana y Teorema de Bayes**\n",
        "## Desarrollado por: Ph.D. Javier Fernando Botía Valderrama\n",
        "## Universidad de Antioquia"
      ]
    },
    {
      "cell_type": "markdown",
      "metadata": {
        "id": "HsQDH4cYLcje",
        "colab_type": "text"
      },
      "source": [
        "Por favor, ingrese la siguiente información:\n",
        "\n",
        "**Nombre Completo:**\n",
        "\n",
        "**Cédula:**\n",
        "\n",
        "**Correo Institucional:**"
      ]
    },
    {
      "cell_type": "markdown",
      "metadata": {
        "id": "_bTLk51DLiJU",
        "colab_type": "text"
      },
      "source": [
        "#**PARTE A: Clasificación de datos con Análisis Discriminante Lineal**"
      ]
    },
    {
      "cell_type": "markdown",
      "metadata": {
        "id": "SUPorf-gOWio",
        "colab_type": "text"
      },
      "source": [
        "Considere el siguiente problema:\n",
        "\n",
        "En una base de datos, hay 20 características o variables y 7400 muestras u observaciones que se obtuvieron de un experimento de laboratorio. Los datos representan dos distribuciones Gaussianas multivariables, clasificados en 2 clases, etiquetados como $0$ y $1$. "
      ]
    },
    {
      "cell_type": "code",
      "metadata": {
        "id": "MfxlIh-lacMK",
        "colab_type": "code",
        "colab": {
          "base_uri": "https://localhost:8080/",
          "height": 427
        },
        "outputId": "8fd72bd6-a9df-4621-ac41-d998a8adedec"
      },
      "source": [
        "import pandas as pd\n",
        "\n",
        "datos = pd.read_table(\"local/data/twonorm.txt\", sep = \",\", names = None) # Lee los datos con separación con coma entre datos\n",
        "display(datos)"
      ],
      "execution_count": null,
      "outputs": [
        {
          "output_type": "display_data",
          "data": {
            "text/html": [
              "<div>\n",
              "<style scoped>\n",
              "    .dataframe tbody tr th:only-of-type {\n",
              "        vertical-align: middle;\n",
              "    }\n",
              "\n",
              "    .dataframe tbody tr th {\n",
              "        vertical-align: top;\n",
              "    }\n",
              "\n",
              "    .dataframe thead th {\n",
              "        text-align: right;\n",
              "    }\n",
              "</style>\n",
              "<table border=\"1\" class=\"dataframe\">\n",
              "  <thead>\n",
              "    <tr style=\"text-align: right;\">\n",
              "      <th></th>\n",
              "      <th>A1</th>\n",
              "      <th>A2</th>\n",
              "      <th>A3</th>\n",
              "      <th>A4</th>\n",
              "      <th>A5</th>\n",
              "      <th>A6</th>\n",
              "      <th>A7</th>\n",
              "      <th>A8</th>\n",
              "      <th>A9</th>\n",
              "      <th>A10</th>\n",
              "      <th>A11</th>\n",
              "      <th>A12</th>\n",
              "      <th>A13</th>\n",
              "      <th>A14</th>\n",
              "      <th>A15</th>\n",
              "      <th>A16</th>\n",
              "      <th>A17</th>\n",
              "      <th>A18</th>\n",
              "      <th>A19</th>\n",
              "      <th>A20</th>\n",
              "      <th>Clases</th>\n",
              "    </tr>\n",
              "  </thead>\n",
              "  <tbody>\n",
              "    <tr>\n",
              "      <th>0</th>\n",
              "      <td>-1.2036</td>\n",
              "      <td>-2.6240</td>\n",
              "      <td>0.5963</td>\n",
              "      <td>1.3859</td>\n",
              "      <td>-1.3597</td>\n",
              "      <td>0.6758</td>\n",
              "      <td>1.0008</td>\n",
              "      <td>-0.9589</td>\n",
              "      <td>-1.3487</td>\n",
              "      <td>-0.5572</td>\n",
              "      <td>-0.4398</td>\n",
              "      <td>-1.1223</td>\n",
              "      <td>-0.1817</td>\n",
              "      <td>-1.3170</td>\n",
              "      <td>-0.3551</td>\n",
              "      <td>-1.4220</td>\n",
              "      <td>0.1983</td>\n",
              "      <td>-3.0514</td>\n",
              "      <td>-1.0650</td>\n",
              "      <td>-0.8541</td>\n",
              "      <td>1</td>\n",
              "    </tr>\n",
              "    <tr>\n",
              "      <th>1</th>\n",
              "      <td>0.1713</td>\n",
              "      <td>-0.1669</td>\n",
              "      <td>-0.4155</td>\n",
              "      <td>-0.9974</td>\n",
              "      <td>-0.9459</td>\n",
              "      <td>-1.2382</td>\n",
              "      <td>-1.4933</td>\n",
              "      <td>-0.3869</td>\n",
              "      <td>0.6450</td>\n",
              "      <td>-0.6253</td>\n",
              "      <td>-0.9652</td>\n",
              "      <td>-2.4557</td>\n",
              "      <td>-0.5912</td>\n",
              "      <td>-0.9731</td>\n",
              "      <td>-1.6570</td>\n",
              "      <td>-2.0039</td>\n",
              "      <td>-1.3395</td>\n",
              "      <td>-1.1801</td>\n",
              "      <td>1.3244</td>\n",
              "      <td>0.0202</td>\n",
              "      <td>1</td>\n",
              "    </tr>\n",
              "    <tr>\n",
              "      <th>2</th>\n",
              "      <td>0.7743</td>\n",
              "      <td>-0.6060</td>\n",
              "      <td>-1.9338</td>\n",
              "      <td>-0.3614</td>\n",
              "      <td>0.3864</td>\n",
              "      <td>-1.8636</td>\n",
              "      <td>-1.4551</td>\n",
              "      <td>-1.2079</td>\n",
              "      <td>-0.5478</td>\n",
              "      <td>-1.1045</td>\n",
              "      <td>-0.3664</td>\n",
              "      <td>0.5462</td>\n",
              "      <td>-0.2295</td>\n",
              "      <td>-1.6227</td>\n",
              "      <td>0.6551</td>\n",
              "      <td>-1.1460</td>\n",
              "      <td>0.9491</td>\n",
              "      <td>-2.7570</td>\n",
              "      <td>-1.1497</td>\n",
              "      <td>0.0191</td>\n",
              "      <td>1</td>\n",
              "    </tr>\n",
              "    <tr>\n",
              "      <th>3</th>\n",
              "      <td>-1.2444</td>\n",
              "      <td>1.0990</td>\n",
              "      <td>-1.4684</td>\n",
              "      <td>-1.7003</td>\n",
              "      <td>0.4510</td>\n",
              "      <td>-0.9695</td>\n",
              "      <td>-0.5761</td>\n",
              "      <td>0.0877</td>\n",
              "      <td>0.1058</td>\n",
              "      <td>-1.9614</td>\n",
              "      <td>1.8583</td>\n",
              "      <td>-0.8800</td>\n",
              "      <td>1.0000</td>\n",
              "      <td>-1.7560</td>\n",
              "      <td>-0.6727</td>\n",
              "      <td>0.6034</td>\n",
              "      <td>-0.6858</td>\n",
              "      <td>-0.9101</td>\n",
              "      <td>0.0747</td>\n",
              "      <td>1.1082</td>\n",
              "      <td>1</td>\n",
              "    </tr>\n",
              "    <tr>\n",
              "      <th>4</th>\n",
              "      <td>-0.5520</td>\n",
              "      <td>0.3249</td>\n",
              "      <td>0.7253</td>\n",
              "      <td>0.2089</td>\n",
              "      <td>0.3148</td>\n",
              "      <td>-0.2104</td>\n",
              "      <td>0.8060</td>\n",
              "      <td>-0.3111</td>\n",
              "      <td>-2.3584</td>\n",
              "      <td>1.4880</td>\n",
              "      <td>0.2229</td>\n",
              "      <td>0.9096</td>\n",
              "      <td>-0.0908</td>\n",
              "      <td>-0.4096</td>\n",
              "      <td>1.5287</td>\n",
              "      <td>-0.1960</td>\n",
              "      <td>0.3843</td>\n",
              "      <td>0.1541</td>\n",
              "      <td>-0.2981</td>\n",
              "      <td>0.5216</td>\n",
              "      <td>1</td>\n",
              "    </tr>\n",
              "    <tr>\n",
              "      <th>...</th>\n",
              "      <td>...</td>\n",
              "      <td>...</td>\n",
              "      <td>...</td>\n",
              "      <td>...</td>\n",
              "      <td>...</td>\n",
              "      <td>...</td>\n",
              "      <td>...</td>\n",
              "      <td>...</td>\n",
              "      <td>...</td>\n",
              "      <td>...</td>\n",
              "      <td>...</td>\n",
              "      <td>...</td>\n",
              "      <td>...</td>\n",
              "      <td>...</td>\n",
              "      <td>...</td>\n",
              "      <td>...</td>\n",
              "      <td>...</td>\n",
              "      <td>...</td>\n",
              "      <td>...</td>\n",
              "      <td>...</td>\n",
              "      <td>...</td>\n",
              "    </tr>\n",
              "    <tr>\n",
              "      <th>7395</th>\n",
              "      <td>0.3646</td>\n",
              "      <td>1.7552</td>\n",
              "      <td>-1.1186</td>\n",
              "      <td>0.2591</td>\n",
              "      <td>0.5301</td>\n",
              "      <td>0.8219</td>\n",
              "      <td>1.0014</td>\n",
              "      <td>1.9476</td>\n",
              "      <td>1.4983</td>\n",
              "      <td>-0.7610</td>\n",
              "      <td>0.0767</td>\n",
              "      <td>0.4183</td>\n",
              "      <td>0.0755</td>\n",
              "      <td>-0.6089</td>\n",
              "      <td>0.5854</td>\n",
              "      <td>0.1725</td>\n",
              "      <td>-0.7414</td>\n",
              "      <td>0.0802</td>\n",
              "      <td>0.9636</td>\n",
              "      <td>0.9932</td>\n",
              "      <td>0</td>\n",
              "    </tr>\n",
              "    <tr>\n",
              "      <th>7396</th>\n",
              "      <td>1.3475</td>\n",
              "      <td>2.5553</td>\n",
              "      <td>0.3640</td>\n",
              "      <td>0.9307</td>\n",
              "      <td>1.4395</td>\n",
              "      <td>-1.9669</td>\n",
              "      <td>1.9143</td>\n",
              "      <td>1.7501</td>\n",
              "      <td>0.3328</td>\n",
              "      <td>0.7871</td>\n",
              "      <td>0.1160</td>\n",
              "      <td>0.4447</td>\n",
              "      <td>-0.3880</td>\n",
              "      <td>2.0851</td>\n",
              "      <td>-0.3460</td>\n",
              "      <td>1.6952</td>\n",
              "      <td>0.3306</td>\n",
              "      <td>1.2921</td>\n",
              "      <td>0.5883</td>\n",
              "      <td>1.8063</td>\n",
              "      <td>0</td>\n",
              "    </tr>\n",
              "    <tr>\n",
              "      <th>7397</th>\n",
              "      <td>0.4542</td>\n",
              "      <td>-0.8451</td>\n",
              "      <td>-0.3094</td>\n",
              "      <td>0.1490</td>\n",
              "      <td>-1.0911</td>\n",
              "      <td>-1.7557</td>\n",
              "      <td>1.0651</td>\n",
              "      <td>1.2630</td>\n",
              "      <td>-0.2029</td>\n",
              "      <td>-0.0195</td>\n",
              "      <td>0.2166</td>\n",
              "      <td>-1.5008</td>\n",
              "      <td>-1.9589</td>\n",
              "      <td>-0.5932</td>\n",
              "      <td>-0.5702</td>\n",
              "      <td>-0.3481</td>\n",
              "      <td>-1.1364</td>\n",
              "      <td>0.3362</td>\n",
              "      <td>-0.9813</td>\n",
              "      <td>-2.0456</td>\n",
              "      <td>1</td>\n",
              "    </tr>\n",
              "    <tr>\n",
              "      <th>7398</th>\n",
              "      <td>-0.2055</td>\n",
              "      <td>0.6028</td>\n",
              "      <td>-0.3689</td>\n",
              "      <td>0.4060</td>\n",
              "      <td>-0.9010</td>\n",
              "      <td>-1.1915</td>\n",
              "      <td>-1.8269</td>\n",
              "      <td>-1.5495</td>\n",
              "      <td>0.2959</td>\n",
              "      <td>0.1064</td>\n",
              "      <td>-0.7332</td>\n",
              "      <td>0.1925</td>\n",
              "      <td>-0.5102</td>\n",
              "      <td>0.7233</td>\n",
              "      <td>-0.6501</td>\n",
              "      <td>-1.4555</td>\n",
              "      <td>-2.1765</td>\n",
              "      <td>-1.6509</td>\n",
              "      <td>0.5711</td>\n",
              "      <td>0.5972</td>\n",
              "      <td>1</td>\n",
              "    </tr>\n",
              "    <tr>\n",
              "      <th>7399</th>\n",
              "      <td>1.9430</td>\n",
              "      <td>1.7931</td>\n",
              "      <td>1.6335</td>\n",
              "      <td>-0.4527</td>\n",
              "      <td>1.7833</td>\n",
              "      <td>0.3341</td>\n",
              "      <td>-0.3258</td>\n",
              "      <td>0.9942</td>\n",
              "      <td>0.4597</td>\n",
              "      <td>0.7841</td>\n",
              "      <td>1.6609</td>\n",
              "      <td>0.4624</td>\n",
              "      <td>1.4161</td>\n",
              "      <td>1.7842</td>\n",
              "      <td>0.3624</td>\n",
              "      <td>-1.2188</td>\n",
              "      <td>0.3178</td>\n",
              "      <td>1.5867</td>\n",
              "      <td>1.0505</td>\n",
              "      <td>0.7328</td>\n",
              "      <td>0</td>\n",
              "    </tr>\n",
              "  </tbody>\n",
              "</table>\n",
              "<p>7400 rows × 21 columns</p>\n",
              "</div>"
            ],
            "text/plain": [
              "          A1      A2      A3      A4  ...     A18     A19     A20   Clases\n",
              "0    -1.2036 -2.6240  0.5963  1.3859  ... -3.0514 -1.0650 -0.8541        1\n",
              "1     0.1713 -0.1669 -0.4155 -0.9974  ... -1.1801  1.3244  0.0202        1\n",
              "2     0.7743 -0.6060 -1.9338 -0.3614  ... -2.7570 -1.1497  0.0191        1\n",
              "3    -1.2444  1.0990 -1.4684 -1.7003  ... -0.9101  0.0747  1.1082        1\n",
              "4    -0.5520  0.3249  0.7253  0.2089  ...  0.1541 -0.2981  0.5216        1\n",
              "...      ...     ...     ...     ...  ...     ...     ...     ...      ...\n",
              "7395  0.3646  1.7552 -1.1186  0.2591  ...  0.0802  0.9636  0.9932        0\n",
              "7396  1.3475  2.5553  0.3640  0.9307  ...  1.2921  0.5883  1.8063        0\n",
              "7397  0.4542 -0.8451 -0.3094  0.1490  ...  0.3362 -0.9813 -2.0456        1\n",
              "7398 -0.2055  0.6028 -0.3689  0.4060  ... -1.6509  0.5711  0.5972        1\n",
              "7399  1.9430  1.7931  1.6335 -0.4527  ...  1.5867  1.0505  0.7328        0\n",
              "\n",
              "[7400 rows x 21 columns]"
            ]
          },
          "metadata": {
            "tags": []
          }
        }
      ]
    },
    {
      "cell_type": "code",
      "metadata": {
        "id": "ovI4ul6DkQjf",
        "colab_type": "code",
        "colab": {}
      },
      "source": [
        "data = datos.values # Extraer valores de la base de datos, generando un array multidimensional de 7400 x 21\n",
        "X = data[:,0:20] # Datos\n",
        "Y = data[:,20:21] # Clases"
      ],
      "execution_count": null,
      "outputs": []
    },
    {
      "cell_type": "markdown",
      "metadata": {
        "id": "GQ1jUIdIlJrs",
        "colab_type": "text"
      },
      "source": [
        "A partir de los datos $X$ y el vector de clases $Y$, separar en $70\\%$ en datos de entrenamiento y $30\\%$ en datos de prueba. Una vez separado los datos, obtener un modelo basado en análisis discriminante lineal capaz de clasificar los datos de prueba con la menor cantidad de datos incorrectos posible. "
      ]
    },
    {
      "cell_type": "code",
      "metadata": {
        "id": "Yg3TnNGGl2OO",
        "colab_type": "code",
        "colab": {}
      },
      "source": [
        ""
      ],
      "execution_count": null,
      "outputs": []
    },
    {
      "cell_type": "markdown",
      "metadata": {
        "id": "RtV3Zd02l2ud",
        "colab_type": "text"
      },
      "source": [
        "*Ingrese aquí las conclusiones*"
      ]
    },
    {
      "cell_type": "markdown",
      "metadata": {
        "id": "wkb62k7Rl9RO",
        "colab_type": "text"
      },
      "source": [
        "#**PARTE B: Estimación Bayesiana de una cirugía de un implante de cadera**"
      ]
    },
    {
      "cell_type": "markdown",
      "metadata": {
        "id": "fMe_dEJ6ehYf",
        "colab_type": "text"
      },
      "source": [
        "Considere el siguiente problema:\n",
        "\n",
        "Una EPS se contacta con una empresa especializada en implantes y le solicita crear implantes de cadera con una media de 1 mm de grosor y con una varianza de más o menos 0.25 $mm^2$, el cual se puede modelar mediante una distribución Gaussiana (esta sería la distribución aposteriori Gaussiana que se desea encontrar). \n",
        "\n",
        "Considerando lo anterior, un paciente va a la EPS con una orden médica para solicitar la aprobación de la cirugía de la cadera pero la EPS dice que debe esperar dos semanas hasta que la empresa de implantes cumpla con los requisitos para proceder a la cirugia. A partir de lo anterior, la empresa especializada en implantes de cadera considera como punto de partida una distribución apriori Gaussiana con una media de 0.9 mm y una varianza de 0.2 $mm^2$. Para este caso, se considera un espacio muestral de 0 a 2 mm para representar la distribución apriori, como se indica a continuación:"
      ]
    },
    {
      "cell_type": "code",
      "metadata": {
        "id": "87Hjjmn_BtYI",
        "colab_type": "code",
        "colab": {}
      },
      "source": [
        "import numpy as np\n",
        "\n",
        "media_conocida_apriori = 0.9\n",
        "varianza_conocida_apriori = 0.2\n",
        "\n",
        "N = 5000 # número de valores\n",
        "x = np.linspace(0,2,N, endpoint=False)\n",
        "\n",
        "# Se debe generar la distribución apriori Gaussiana a partir de lo anterior\n",
        "# Coloque el código restante en este espacio\n"
      ],
      "execution_count": 21,
      "outputs": []
    },
    {
      "cell_type": "markdown",
      "metadata": {
        "id": "g8_qDjdNLc72",
        "colab_type": "text"
      },
      "source": [
        "Por otra parte, la empresa especializada en implantes de cadera considera que la distribución que regulariza los cálculos también es una distribución Gaussiana. Para encontrar tal distribución, se recomienda aplicar la máxima verosimilitud de la distribución Gaussiana o a través de la función condicional Gaussiana, que permita estimar los valores de la media y la varianza que permita ajustarse al modelo que se desea encontrar. Para este caso, consideren el siguiente código:"
      ]
    },
    {
      "cell_type": "markdown",
      "metadata": {
        "id": "JaRu1sdrM8Nn",
        "colab_type": "text"
      },
      "source": [
        "Si se selecciona con la máxima verosimilitud de la distribución Gaussiana"
      ]
    },
    {
      "cell_type": "code",
      "metadata": {
        "id": "lk3pY0TaM7gn",
        "colab_type": "code",
        "colab": {}
      },
      "source": [
        "def MLE_G(X):  # Máxima verosimilitud de la distribución Gaussiana                                                                                                                                                                             \n",
        "    MU = X.mean(axis=0)                                                                                                                                                                            \n",
        "    VAR = ((X - MU).T @ (X - MU)) / (X.shape[0] - 1) \n",
        "    return MU, VAR"
      ],
      "execution_count": 22,
      "outputs": []
    },
    {
      "cell_type": "code",
      "metadata": {
        "id": "HFiV_swreg02",
        "colab_type": "code",
        "colab": {}
      },
      "source": [
        "import numpy as np\n",
        "from scipy.stats import multivariate_normal, norm\n",
        "\n",
        "media_inicial = [0.9, 0.9] # Estimado por la empresa                                                                                                                                                                                \n",
        "cov_inicial = [[1, 0.2], [0.2, 1]] # Estimado por la empresa\n",
        "\n",
        "X_aleatorio = np.random.multivariate_normal(media_inicial, cov_inicial, N) # Se genera un conjunto de valores aleatorios con una distribución normal\n",
        "\n",
        "media_mv, cov_mv = MLE_G(X_aleatorio)\n",
        "media_elegida = media_mv[0]\n",
        "varianza_elegida = cov_mv[0,1] \n",
        "\n",
        "Prob_regulariza = multivariate_normal.pdf(x, mean = media_elegida, cov = varianza_elegida)"
      ],
      "execution_count": 46,
      "outputs": []
    },
    {
      "cell_type": "markdown",
      "metadata": {
        "id": "xSAbSwOpUYQO",
        "colab_type": "text"
      },
      "source": [
        "Si se selecciona con la función de probabilidad condicional Gaussiana"
      ]
    },
    {
      "cell_type": "code",
      "metadata": {
        "id": "pTI4FdnrU0f9",
        "colab_type": "code",
        "colab": {}
      },
      "source": [
        "def Gaussians(X, Media, Varianza):\n",
        "    return ((1. / np.sqrt(2 * np.pi * Varianza)) * np.exp(-(X - Media)**2 / (2 * Varianza)))"
      ],
      "execution_count": 47,
      "outputs": []
    },
    {
      "cell_type": "code",
      "metadata": {
        "id": "9vz_NTOMUXfC",
        "colab_type": "code",
        "colab": {}
      },
      "source": [
        "media_inicial = np.matrix([0.9, 0.9]) # Estimado por la empresa                                                                                                                                                                                \n",
        "cov_inicial = np.matrix([[1, 0.2], [0.2, 1]]) # Estimado por la empresa\n",
        "\n",
        "media_1 = media_inicial[0,0]\n",
        "media_2 = media_inicial[0,1]\n",
        "\n",
        "Sigma_AA = cov_inicial[0,0]\n",
        "Sigma_BB = cov_inicial[1,1]\n",
        "Sigma_AB = cov_inicial[0,1]\n",
        "Sigma_BA = cov_inicial[1,0]\n",
        "\n",
        "x_b = 1 # Valor de referencia (1 mm)\n",
        "\n",
        "media_ab = media_1 + (Sigma_AB*(1/Sigma_BB)*(x_b - media_2))\n",
        "covarianza_ab = Sigma_AA - (Sigma_AB*(1/Sigma_BB)*Sigma_BA)\n",
        "\n",
        "Prob_regulariza = Gaussians(x, media_ab, covarianza_ab)"
      ],
      "execution_count": 49,
      "outputs": []
    },
    {
      "cell_type": "markdown",
      "metadata": {
        "id": "skq4H8nnMkZ2",
        "colab_type": "text"
      },
      "source": [
        "Teniendo en cuenta la distribución apriori así como la función de probabilidad que regulariza (ya sea que seleccionó con la máxima versimilitud de la distribución Gaussiana o con la función de probabilidad condicional Gaussiana), determine la distribución aposteriori Gaussiana que genere un valor de la media de 1 mm y una varianza menor o igual a 0.25 $mm^2$ (se debe calcular la media y la varianza de la distribución aposteriori Gaussiana que estimen). \n",
        "\n",
        "Luego de encontrar lo anterior, calcule la pérdida cuadrática entre la media de 1 mm (lo que se desea alcanzar) y la media de la distribución aposteriori Gaussiana. Además, calcule la pérdida cuadrática de la varianza."
      ]
    },
    {
      "cell_type": "code",
      "metadata": {
        "id": "24mD24y5MfwJ",
        "colab_type": "code",
        "colab": {}
      },
      "source": [
        ""
      ],
      "execution_count": null,
      "outputs": []
    },
    {
      "cell_type": "markdown",
      "metadata": {
        "id": "E9OBSsaWvneB",
        "colab_type": "text"
      },
      "source": [
        "*Ingrese aquí las conclusiones*"
      ]
    },
    {
      "cell_type": "markdown",
      "metadata": {
        "id": "GpAcusn6vsF1",
        "colab_type": "text"
      },
      "source": [
        "#**PARTE C: Clasificador Bayes Ingenuo para resolver el problema de las bananas**"
      ]
    },
    {
      "cell_type": "markdown",
      "metadata": {
        "id": "B2RnlSCAwmpw",
        "colab_type": "text"
      },
      "source": [
        "Considere el siguiente problema:\n",
        "\n",
        "En el Uraba Antioqueño, se esta desarrollando un sistema de visión artificial para clasificar bananas para exportación y para el mercado nacional. Debido a que los países Europeos exigen bananas con ciertas características de tamaño y forma, se requiere que el sistema de visión artificial tenga el menor margen de error a la hora de tomar una decisión de las características de la banana. Entonces, uno de los ingenieros que desarrolla el sistema propone crear modelos de clasificación Naive Bayes para facilitar la clasificación pero no esta seguro del desempeño que generará el sistema en las pruebas. Para lo anterior, se crea una base de datos de dos tipos de banana representativos que permitirá crear el modelo deseado. \n",
        "\n",
        "A partir de la anterior descripción, se debe probar diferentes propuestas de clasificador bayesiano ingenuo para garantizar cuál de ellos tiene el mejor puntaje en la clasificación. Se recomienda separar los datos en $70\\%$ para entrenamiento y $30\\%$ para prueba."
      ]
    },
    {
      "cell_type": "code",
      "metadata": {
        "id": "E6Z35yocyo0E",
        "colab_type": "code",
        "colab": {
          "base_uri": "https://localhost:8080/",
          "height": 406
        },
        "outputId": "da5a6d90-89f3-4970-8061-cc819cd08334"
      },
      "source": [
        "import pandas as pd\n",
        "\n",
        "bananas = pd.read_table(\"local/data/banana.dat\", sep = \",\", names = None) # Lee los datos con separación con coma entre datos\n",
        "display(bananas)"
      ],
      "execution_count": null,
      "outputs": [
        {
          "output_type": "display_data",
          "data": {
            "text/html": [
              "<div>\n",
              "<style scoped>\n",
              "    .dataframe tbody tr th:only-of-type {\n",
              "        vertical-align: middle;\n",
              "    }\n",
              "\n",
              "    .dataframe tbody tr th {\n",
              "        vertical-align: top;\n",
              "    }\n",
              "\n",
              "    .dataframe thead th {\n",
              "        text-align: right;\n",
              "    }\n",
              "</style>\n",
              "<table border=\"1\" class=\"dataframe\">\n",
              "  <thead>\n",
              "    <tr style=\"text-align: right;\">\n",
              "      <th></th>\n",
              "      <th>At1</th>\n",
              "      <th>At2</th>\n",
              "      <th>Clases</th>\n",
              "    </tr>\n",
              "  </thead>\n",
              "  <tbody>\n",
              "    <tr>\n",
              "      <th>0</th>\n",
              "      <td>1.140</td>\n",
              "      <td>-0.114</td>\n",
              "      <td>-1.0</td>\n",
              "    </tr>\n",
              "    <tr>\n",
              "      <th>1</th>\n",
              "      <td>-1.520</td>\n",
              "      <td>-1.150</td>\n",
              "      <td>1.0</td>\n",
              "    </tr>\n",
              "    <tr>\n",
              "      <th>2</th>\n",
              "      <td>-1.050</td>\n",
              "      <td>0.720</td>\n",
              "      <td>-1.0</td>\n",
              "    </tr>\n",
              "    <tr>\n",
              "      <th>3</th>\n",
              "      <td>-0.916</td>\n",
              "      <td>0.397</td>\n",
              "      <td>1.0</td>\n",
              "    </tr>\n",
              "    <tr>\n",
              "      <th>4</th>\n",
              "      <td>-1.090</td>\n",
              "      <td>0.437</td>\n",
              "      <td>1.0</td>\n",
              "    </tr>\n",
              "    <tr>\n",
              "      <th>...</th>\n",
              "      <td>...</td>\n",
              "      <td>...</td>\n",
              "      <td>...</td>\n",
              "    </tr>\n",
              "    <tr>\n",
              "      <th>5295</th>\n",
              "      <td>0.335</td>\n",
              "      <td>1.390</td>\n",
              "      <td>1.0</td>\n",
              "    </tr>\n",
              "    <tr>\n",
              "      <th>5296</th>\n",
              "      <td>-1.700</td>\n",
              "      <td>-0.569</td>\n",
              "      <td>1.0</td>\n",
              "    </tr>\n",
              "    <tr>\n",
              "      <th>5297</th>\n",
              "      <td>2.640</td>\n",
              "      <td>1.140</td>\n",
              "      <td>1.0</td>\n",
              "    </tr>\n",
              "    <tr>\n",
              "      <th>5298</th>\n",
              "      <td>0.769</td>\n",
              "      <td>0.772</td>\n",
              "      <td>-1.0</td>\n",
              "    </tr>\n",
              "    <tr>\n",
              "      <th>5299</th>\n",
              "      <td>-0.255</td>\n",
              "      <td>-0.142</td>\n",
              "      <td>1.0</td>\n",
              "    </tr>\n",
              "  </tbody>\n",
              "</table>\n",
              "<p>5300 rows × 3 columns</p>\n",
              "</div>"
            ],
            "text/plain": [
              "        At1    At2   Clases\n",
              "0     1.140 -0.114     -1.0\n",
              "1    -1.520 -1.150      1.0\n",
              "2    -1.050  0.720     -1.0\n",
              "3    -0.916  0.397      1.0\n",
              "4    -1.090  0.437      1.0\n",
              "...     ...    ...      ...\n",
              "5295  0.335  1.390      1.0\n",
              "5296 -1.700 -0.569      1.0\n",
              "5297  2.640  1.140      1.0\n",
              "5298  0.769  0.772     -1.0\n",
              "5299 -0.255 -0.142      1.0\n",
              "\n",
              "[5300 rows x 3 columns]"
            ]
          },
          "metadata": {
            "tags": []
          }
        }
      ]
    },
    {
      "cell_type": "code",
      "metadata": {
        "id": "SmJf7Iy8zyYf",
        "colab_type": "code",
        "colab": {}
      },
      "source": [
        ""
      ],
      "execution_count": null,
      "outputs": []
    },
    {
      "cell_type": "markdown",
      "metadata": {
        "id": "bWj9rz0yypgy",
        "colab_type": "text"
      },
      "source": [
        "*Ingrese aquí las conclusiones*"
      ]
    },
    {
      "cell_type": "markdown",
      "metadata": {
        "id": "N4yQURCPU3qp",
        "colab_type": "text"
      },
      "source": [
        "#**PARTE D: Aplicación de la inferencia Bayesiana con la distribución Beta**"
      ]
    },
    {
      "cell_type": "markdown",
      "metadata": {
        "id": "9weBVV0maDq_",
        "colab_type": "text"
      },
      "source": [
        "La inferencia Bayesiana de una distribución Beta se puede definir debido al hecho que proporciona una familia de distribuciones conjugadas apriori para distribuciones binomiales e inclusive geométrica. Lo anterior se puede expresar mediante la siguiente regla Bayesiana:\n",
        "\n",
        "$$\\mathbb{P}(\\rho;\\alpha,\\beta) = \\frac{\\rho^{\\alpha - 1}(1-\\rho)^{\\beta - 1}}{B(\\alpha,\\beta)}$$\n",
        "\n",
        "donde $\\rho$ es un valor de probabilidad binomial. A partir de esta definición, Considere el siguiente problema:\n",
        "\n",
        "En una empresa de desarrollo de software, hay un equipo de ingenieros de sistemas dedicados a la calidad de software que ayudan a identificar anomalias en el funcionamiento de software para empresas de entretenimiento como Disney. Durante los ensayos, encontraron varias fallas en el frontend pero no sabían como pronosticar fallas a futuro. Entonces, se asesoraron de un estadístico que recomendo modelar tales fallas como una inferencia Bayesiana de una distribución beta. En este caso, los ensayos arrogaron los siguientes datos:\n",
        "\n",
        "*   $\\alpha = 2$, $\\beta = 5$ y $\\rho = 0.75$\n",
        "*   $\\alpha = 3$, $\\beta = 6$ y $\\rho = 0.69$\n",
        "*   $\\alpha = 2$, $\\beta = 9$ y $\\rho = 0.5$\n",
        "*   $\\alpha = 3$, $\\beta = 7$ y $\\rho = 0.71$\n",
        "*   $\\alpha = 2$, $\\beta = 10$ y $\\rho = 0.6$\n",
        "*   $\\alpha = 4$, $\\beta = 8$ y $\\rho = 0.59$\n",
        "*   $\\alpha = 3$, $\\beta = 8$ y $\\rho = 0.75$\n",
        "*   $\\alpha = 2$, $\\beta = 7$ y $\\rho = 0.77$\n",
        "*   $\\alpha = 3$, $\\beta = 5$ y $\\rho = 0.95$\n",
        "*   $\\alpha = 2$, $\\beta = 5$ y $\\rho = 0.89$\n",
        "*   $\\alpha = 4$, $\\beta = 6$ y $\\rho = 0.88$\n",
        "*   $\\alpha = 2$, $\\beta = 4$ y $\\rho = 0.7$\n",
        "\n",
        "A partir de estos ensayos, los valores $\\rho$ fueron suministrados por los propios ingenieros de sistemas de acuerdo a su experiencia del funcionamiento del software. El objetivo principal que desean encontrar los ingenieros de sistemas es determinar cuál de los ensayos hay mayor probabilidad aposteriori que ocurra una falla del software dado una probabilidad $\\rho$."
      ]
    },
    {
      "cell_type": "code",
      "metadata": {
        "id": "EzRokLULjNbC",
        "colab_type": "code",
        "colab": {}
      },
      "source": [
        "def Inf_Bay_Beta(a,b,beta_ab,p): # Crear una funcion que represente la inferencia Bayesiana de una distribución Beta\n"
      ],
      "execution_count": null,
      "outputs": []
    },
    {
      "cell_type": "code",
      "metadata": {
        "id": "fKm4KVrDjPA2",
        "colab_type": "code",
        "colab": {}
      },
      "source": [
        "from scipy.special import beta # Función Beta\n",
        "\n",
        "# alpha_value = \n",
        "# beta_value = \n",
        "# BETA_AB = beta(alpha_value,beta_value)\n"
      ],
      "execution_count": null,
      "outputs": []
    },
    {
      "cell_type": "markdown",
      "metadata": {
        "id": "Q9o9ch5vjPpC",
        "colab_type": "text"
      },
      "source": [
        "*Ingrese aquí las conclusiones*"
      ]
    },
    {
      "cell_type": "markdown",
      "metadata": {
        "id": "XvBuvLywmSXP",
        "colab_type": "text"
      },
      "source": [
        "#**PARTE E: Distribución Gaussiana Multivariada aplicado en espectros ópticos**"
      ]
    },
    {
      "cell_type": "markdown",
      "metadata": {
        "id": "GISP9bXbtRxc",
        "colab_type": "text"
      },
      "source": [
        "Considere el siguiente problema:\n",
        "\n",
        "En un laboratorio de comunicaciones ópticas, se esta realizando un experimento con un dispositivo llamado filtro óptico programable, que se encarga de mejorar la forma de espectros ópticos. Estos dispositivos son útiles para evitar que en la etapa de recepción de un sistema de comunicaciones ópticas, se genere errores en la conversión óptico-eléctrico o para mejorar la modulación óptica para transmitir información a una alta tasa de transmisión. Durante unos ensayos realizados, se obtuvieron los siguientes datos de diferentes espectros que fueron mejorados por el filtro óptico programable: "
      ]
    },
    {
      "cell_type": "code",
      "metadata": {
        "id": "MRW82YeDvttD",
        "colab_type": "code",
        "colab": {
          "base_uri": "https://localhost:8080/",
          "height": 654
        },
        "outputId": "0078824f-504c-4f16-dc86-aaa32018b32f"
      },
      "source": [
        "import pandas as pd\n",
        "from matplotlib import pyplot\n",
        "import matplotlib\n",
        "import numpy as np\n",
        "\n",
        "matplotlib.rcParams.update({'font.size': 18, 'font.family': 'STIXGeneral', 'mathtext.fontset': 'stix'})\n",
        "\n",
        "Peines = pd.read_excel(\"local/data/PeinesGaussianos.xlsx\", sep = \",\", names = None) # Lee los datos con separación con coma entre datos\n",
        "display(Peines)\n",
        "\n",
        "x = np.linspace(1549,1551,len(Peines))\n",
        "\n",
        "fig = pyplot.figure(figsize=(30,15))\n",
        "\n",
        "ax = fig.add_subplot(4, 4, 1)\n",
        "ax.plot(x, Peines['Espectro 1'], 'b')\n",
        "pyplot.xlabel('Longitud de onda (nm)') # Etiqueta del eje x\n",
        "pyplot.ylabel('Potencia (dBm)') # Etiqueta del eje y\n",
        "pyplot.title('Espectro óptico 1')\n",
        "\n",
        "ax = fig.add_subplot(4, 4, 2)\n",
        "ax.plot(x, Peines['Espectro 2'], 'r')\n",
        "pyplot.xlabel('Longitud de onda (nm)') # Etiqueta del eje x\n",
        "pyplot.ylabel('Potencia (dBm)') # Etiqueta del eje y\n",
        "pyplot.title('Espectro óptico 2')\n",
        "\n",
        "ax = fig.add_subplot(4, 4, 3)\n",
        "ax.plot(x, Peines['Espectro 3'], 'm')\n",
        "pyplot.xlabel('Longitud de onda (nm)') # Etiqueta del eje x\n",
        "pyplot.ylabel('Potencia (dBm)') # Etiqueta del eje y\n",
        "pyplot.title('Espectro óptico 3')\n",
        "\n",
        "ax = fig.add_subplot(4, 4, 4)\n",
        "ax.plot(x, Peines['Espectro 4'], 'c')\n",
        "pyplot.xlabel('Longitud de onda (nm)') # Etiqueta del eje x\n",
        "pyplot.ylabel('Potencia (dBm)') # Etiqueta del eje y\n",
        "pyplot.title('Espectro óptico 4')\n",
        "\n",
        "pyplot.show()"
      ],
      "execution_count": null,
      "outputs": [
        {
          "output_type": "display_data",
          "data": {
            "text/html": [
              "<div>\n",
              "<style scoped>\n",
              "    .dataframe tbody tr th:only-of-type {\n",
              "        vertical-align: middle;\n",
              "    }\n",
              "\n",
              "    .dataframe tbody tr th {\n",
              "        vertical-align: top;\n",
              "    }\n",
              "\n",
              "    .dataframe thead th {\n",
              "        text-align: right;\n",
              "    }\n",
              "</style>\n",
              "<table border=\"1\" class=\"dataframe\">\n",
              "  <thead>\n",
              "    <tr style=\"text-align: right;\">\n",
              "      <th></th>\n",
              "      <th>Espectro 1</th>\n",
              "      <th>Espectro 2</th>\n",
              "      <th>Espectro 3</th>\n",
              "      <th>Espectro 4</th>\n",
              "    </tr>\n",
              "  </thead>\n",
              "  <tbody>\n",
              "    <tr>\n",
              "      <th>0</th>\n",
              "      <td>-210.0</td>\n",
              "      <td>-210.0</td>\n",
              "      <td>-210.0</td>\n",
              "      <td>-210.0</td>\n",
              "    </tr>\n",
              "    <tr>\n",
              "      <th>1</th>\n",
              "      <td>-210.0</td>\n",
              "      <td>-210.0</td>\n",
              "      <td>-210.0</td>\n",
              "      <td>-210.0</td>\n",
              "    </tr>\n",
              "    <tr>\n",
              "      <th>2</th>\n",
              "      <td>-210.0</td>\n",
              "      <td>-210.0</td>\n",
              "      <td>-210.0</td>\n",
              "      <td>-210.0</td>\n",
              "    </tr>\n",
              "    <tr>\n",
              "      <th>3</th>\n",
              "      <td>-210.0</td>\n",
              "      <td>-210.0</td>\n",
              "      <td>-210.0</td>\n",
              "      <td>-210.0</td>\n",
              "    </tr>\n",
              "    <tr>\n",
              "      <th>4</th>\n",
              "      <td>-210.0</td>\n",
              "      <td>-210.0</td>\n",
              "      <td>-210.0</td>\n",
              "      <td>-210.0</td>\n",
              "    </tr>\n",
              "    <tr>\n",
              "      <th>...</th>\n",
              "      <td>...</td>\n",
              "      <td>...</td>\n",
              "      <td>...</td>\n",
              "      <td>...</td>\n",
              "    </tr>\n",
              "    <tr>\n",
              "      <th>2496</th>\n",
              "      <td>-210.0</td>\n",
              "      <td>-210.0</td>\n",
              "      <td>-210.0</td>\n",
              "      <td>-210.0</td>\n",
              "    </tr>\n",
              "    <tr>\n",
              "      <th>2497</th>\n",
              "      <td>-210.0</td>\n",
              "      <td>-210.0</td>\n",
              "      <td>-210.0</td>\n",
              "      <td>-210.0</td>\n",
              "    </tr>\n",
              "    <tr>\n",
              "      <th>2498</th>\n",
              "      <td>-210.0</td>\n",
              "      <td>-210.0</td>\n",
              "      <td>-210.0</td>\n",
              "      <td>-210.0</td>\n",
              "    </tr>\n",
              "    <tr>\n",
              "      <th>2499</th>\n",
              "      <td>-210.0</td>\n",
              "      <td>-210.0</td>\n",
              "      <td>-210.0</td>\n",
              "      <td>-210.0</td>\n",
              "    </tr>\n",
              "    <tr>\n",
              "      <th>2500</th>\n",
              "      <td>-210.0</td>\n",
              "      <td>-210.0</td>\n",
              "      <td>-210.0</td>\n",
              "      <td>-210.0</td>\n",
              "    </tr>\n",
              "  </tbody>\n",
              "</table>\n",
              "<p>2501 rows × 4 columns</p>\n",
              "</div>"
            ],
            "text/plain": [
              "      Espectro 1  Espectro 2  Espectro 3  Espectro 4\n",
              "0         -210.0      -210.0      -210.0      -210.0\n",
              "1         -210.0      -210.0      -210.0      -210.0\n",
              "2         -210.0      -210.0      -210.0      -210.0\n",
              "3         -210.0      -210.0      -210.0      -210.0\n",
              "4         -210.0      -210.0      -210.0      -210.0\n",
              "...          ...         ...         ...         ...\n",
              "2496      -210.0      -210.0      -210.0      -210.0\n",
              "2497      -210.0      -210.0      -210.0      -210.0\n",
              "2498      -210.0      -210.0      -210.0      -210.0\n",
              "2499      -210.0      -210.0      -210.0      -210.0\n",
              "2500      -210.0      -210.0      -210.0      -210.0\n",
              "\n",
              "[2501 rows x 4 columns]"
            ]
          },
          "metadata": {
            "tags": []
          }
        },
        {
          "output_type": "display_data",
          "data": {
            "image/png": "[encoded data removed]",
            "text/plain": [
              "<Figure size 2160x1080 with 4 Axes>"
            ]
          },
          "metadata": {
            "tags": [],
            "needs_background": "light"
          }
        }
      ]
    },
    {
      "cell_type": "markdown",
      "metadata": {
        "id": "pfaSU76Qkbwy",
        "colab_type": "text"
      },
      "source": [
        "A partir de la anterior base de datos, determinar:\n",
        "\n",
        "1.   Calcular la envolvente de cada espectro, por medio de una distribución Gaussiana, usando la siguiente libreria:\n",
        "\n",
        "from scipy.signal import find_peaks\n",
        "\n",
        "PE = Peines.values\n",
        "\n",
        "peaks, _ = find_peaks(Peines['Espectro 1'], distance = 10)\n",
        "\n",
        "pyplot.plot(x[peaks], PE[peaks,0:1], 'r')\n",
        "\n",
        "Variar el parámetro *distance* hasta obtener la mejor envolvente Gaussiana posible. Guarde cada espectro envolvente con un nombre diferente, por ejemplo, Envolvente_1 = PE[peaks,0:1], y cada vector de picos, por ejemplo, picos_1 = x[peaks]\n",
        "\n",
        "2.    A partir de las envolventes Gaussianas, calcule la media y la varianza de cada envolvente, a partir de la variable picos.\n",
        "\n",
        "3.   Graficar las distribuciones Gaussianas Multivariadas de cada envolvente con la media y la varianza calculado en el punto 2.\n",
        "\n",
        "4.   Comparar la forma de la envolvente con la distribución Gaussiana Multivariada. ¿Qué se puede concluir acerca del análisis?"
      ]
    },
    {
      "cell_type": "code",
      "metadata": {
        "id": "bL8UreqIR4aQ",
        "colab_type": "code",
        "colab": {}
      },
      "source": [
        ""
      ],
      "execution_count": null,
      "outputs": []
    },
    {
      "cell_type": "markdown",
      "metadata": {
        "id": "VNTwoyPOvude",
        "colab_type": "text"
      },
      "source": [
        "*Ingrese aquí las conclusiones*"
      ]
    },
    {
      "cell_type": "markdown",
      "metadata": {
        "id": "j2pFz2K6SHO9",
        "colab_type": "text"
      },
      "source": [
        "#**PARTE F: Distancia de Mahalanobis en distribuciones de probabilidad Gaussianas**"
      ]
    },
    {
      "cell_type": "markdown",
      "metadata": {
        "id": "JbuE-P6ajjkP",
        "colab_type": "text"
      },
      "source": [
        "La distancia de Mahalanobis para distribuciones de probabilidad Gaussiana se expresa como:\n",
        "\n",
        "$$d_M^2 (x_n,\\mu_i) = (x_n - \\mu_i)^T \\Sigma_i^{-1} (x_n - \\mu_i)$$\n",
        "\n",
        "siendo $\\Sigma_i^{-1}$ la inversa de la matriz de covarianza de una clase $i$, donde $\\Sigma$ esta dado por:\n",
        "\n",
        "$$\\Sigma_i = \\frac{1}{N - 1} \\sum_{n=1}^N (x_n - \\mu_i)(x_n - \\mu_i)^T$$\n",
        "\n",
        "donde $N$ es el número de muestras o observaciones de los datos y $D$ es el número de descriptores, variables, atributos o características.\n",
        "\n",
        "La siguiente función de Python representa el cálculo de la distancia de Mahalanobis:"
      ]
    },
    {
      "cell_type": "code",
      "metadata": {
        "id": "U_Xj80TPj-6m",
        "colab_type": "code",
        "colab": {}
      },
      "source": [
        "def f_dis_Mahalanobis(x, XX, media):\n",
        "  Mat_cov_Inversa = pinv(np.cov(x), rcond=1e-15)\n",
        "  A = (x - np.ones((x.shape[1], 1)).dot(np.atleast_2d(media)).T).T.dot(Mat_cov_Inversa)\n",
        "  Decisiones = np.prod([A, (x - np.ones((x.shape[1], 1)).dot(np.atleast_2d(media)).T).T], axis=0)\n",
        "  B = (XX - np.ones((XX.shape[1], 1)).dot(np.atleast_2d(media)).T).T.dot(Mat_cov_Inversa)\n",
        "  FE = np.prod([B, (XX - np.ones((XX.shape[1], 1)).dot(np.atleast_2d(media)).T).T], axis=0)\n",
        "  UMBRALES = np.array([FE[:,0], FE[:,1]]).T\n",
        "  CLASES_U = np.argmax(UMBRALES, axis = 1)\n",
        "  return Decisiones, CLASES_U"
      ],
      "execution_count": null,
      "outputs": []
    },
    {
      "cell_type": "markdown",
      "metadata": {
        "id": "V8GB8K-9YOen",
        "colab_type": "text"
      },
      "source": [
        "A partir de la anterior descripción, considere el siguiente problema de la parte A de esta unidad:\n",
        "\n",
        "Para esta etapa del taller, solo consideramos dos variables o características de la base de datos:"
      ]
    },
    {
      "cell_type": "code",
      "metadata": {
        "id": "iC34AWI7f-eM",
        "colab_type": "code",
        "colab": {
          "base_uri": "https://localhost:8080/",
          "height": 141
        },
        "outputId": "655055a9-e2f1-42ac-92c2-4c13d905f4d7"
      },
      "source": [
        "import pandas as pd\n",
        "import numpy as np\n",
        "\n",
        "datos = pd.read_table(\"local/data/twonorm.txt\", sep = \",\", names = None) # Lee los datos con separación con coma entre datos\n",
        "dd = datos.values\n",
        "datos_seleccionados = dd[:,0:2]\n",
        "clases = dd[:,20:21]\n",
        "\n",
        "media_conocida1 = datos_seleccionados[:,0:1].mean()\n",
        "std_conocida1 = np.std(datos_seleccionados[:,0:1])\n",
        "\n",
        "media_conocida2 = datos_seleccionados[:,1:2].mean()\n",
        "std_conocida2 = np.std(datos_seleccionados[:,1:2])\n",
        "\n",
        "print(datos_seleccionados)"
      ],
      "execution_count": null,
      "outputs": [
        {
          "output_type": "stream",
          "text": [
            "[[-1.2036 -2.624 ]\n",
            " [ 0.1713 -0.1669]\n",
            " [ 0.7743 -0.606 ]\n",
            " ...\n",
            " [ 0.4542 -0.8451]\n",
            " [-0.2055  0.6028]\n",
            " [ 1.943   1.7931]]\n"
          ],
          "name": "stdout"
        }
      ]
    },
    {
      "cell_type": "markdown",
      "metadata": {
        "id": "uIvBCejbiO1N",
        "colab_type": "text"
      },
      "source": [
        "Teniendo en cuenta los datos seleccionados, se enuncia los siguientes puntos a resolver:\n",
        "\n",
        "1.   Graficar los histogramas de cada característica.\n",
        "1.   Clasificar los datos con la función discriminante con distancia de Mahalanobis, considerando primero las clases originales y luego con las clases obtenidas desde la función discriminante.\n",
        "2.   Clasificar los datos con la función discriminante con distancia Euclidiana, considerando primero las clases originales y luego con las clases obtenidas desde la función discriminante.\n",
        "3.   Compáre los resultados obtenidos.\n",
        "\n",
        "**Pista:** Considere el número de muestras u observaciones en la base datos para determina las variables aleatorias con distribución normal. Además, considere solamente las medias y desviaciones estándar dados en el ejercicio para realizar el resto de cálculos."
      ]
    },
    {
      "cell_type": "code",
      "metadata": {
        "id": "7ospTeDm-9j3",
        "colab_type": "code",
        "colab": {}
      },
      "source": [
        ""
      ],
      "execution_count": null,
      "outputs": []
    },
    {
      "cell_type": "markdown",
      "metadata": {
        "id": "UahlA5-Do2-Z",
        "colab_type": "text"
      },
      "source": [
        "*Ingrese aquí las conclusiones*"
      ]
    }
  ]
}