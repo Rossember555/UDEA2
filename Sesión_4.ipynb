{
  "nbformat": 4,
  "nbformat_minor": 0,
  "metadata": {
    "colab": {
      "name": "Sesión 4",
      "provenance": [],
      "collapsed_sections": [],
      "authorship_tag": "ABX9TyOVb0zSTkblYomv8IDpE/Mi",
      "include_colab_link": true
    },
    "kernelspec": {
      "name": "python3",
      "display_name": "Python 3"
    }
  },
  "cells": [
    {
      "cell_type": "markdown",
      "metadata": {
        "id": "view-in-github",
        "colab_type": "text"
      },
      "source": [
        "<a href=\"https://colab.research.google.com/github/jotadram6/EACD-02-ESTADISTICA/blob/master/Sesi%C3%B3n_4.ipynb\" target=\"_parent\"><img src=\"https://colab.research.google.com/assets/colab-badge.svg\" alt=\"Open In Colab\"/></a>"
      ]
    },
    {
      "cell_type": "markdown",
      "metadata": {
        "id": "JLltq9Jzwl7g"
      },
      "source": [
        "# Curso Estadística y Análisis exploratorio\n",
        "Profesor: José David Ruiz Álvarez\n",
        "\n",
        "Correo: josed.ruiz@udea.edu.co\n",
        "\n",
        "## Sesión 4\n",
        "\n",
        "### Intervalos de confianza\n",
        "\n",
        "### Aplicación de conceptos y métodos del curso\n"
      ]
    },
    {
      "cell_type": "markdown",
      "metadata": {
        "id": "zFIP12YSdYwr"
      },
      "source": [
        "#Empecemos con Intervalos de confianza"
      ]
    },
    {
      "cell_type": "code",
      "metadata": {
        "id": "VIOFpIynwY2L"
      },
      "source": [
        "import numpy as np\n",
        "import matplotlib.pyplot as plt"
      ],
      "execution_count": 1,
      "outputs": []
    },
    {
      "cell_type": "code",
      "metadata": {
        "id": "pqU2bFSZJWZb"
      },
      "source": [
        "def RectaConVariabilidad(xmin,xmax,m,b,puntos,mu=0,sigma=0.2):\n",
        "  return np.linspace(xmin,xmax,puntos),m*np.linspace(xmin,xmax,puntos)+b+np.random.normal(mu,sigma,puntos)"
      ],
      "execution_count": 3,
      "outputs": []
    },
    {
      "cell_type": "code",
      "metadata": {
        "id": "K1nTlshdKKKI"
      },
      "source": [
        "def Line_chi2(Obs,x,m,b):\n",
        "  if len(Obs)!=len(x):\n",
        "    print(\"Debe haber la misma cantidad de puntos observados como de x\")\n",
        "    return\n",
        "  Chi2=((Obs-(m*x+b))**2)/(np.sqrt((m*x+b)**2))\n",
        "  return sum(Chi2)"
      ],
      "execution_count": 4,
      "outputs": []
    },
    {
      "cell_type": "code",
      "metadata": {
        "id": "uZ8RYbQTK6Fr"
      },
      "source": [
        "def mb_estimator(x,y,m_min,m_max,m_n,b_min,b_max,b_n,v=False):\n",
        "  m_scan=np.linspace(m_min,m_max,m_n)\n",
        "  b_scan=np.linspace(b_min,b_max,b_n)\n",
        "  chi2scan=[]\n",
        "  for i in m_scan:\n",
        "    for j in b_scan:\n",
        "      chi2scan.append([i,j,Line_chi2(y,x,i,j)])\n",
        "  OnlyChi2=np.array(chi2scan).take(indices=2,axis=1)\n",
        "  MinChi2=OnlyChi2.min()\n",
        "  ArgMinChi2=OnlyChi2.argmin()\n",
        "  if v: print(\"Chi2 mínimo encontrado:\",MinChi2)\n",
        "  bestm=np.array(chi2scan).take(indices=0,axis=1)[ArgMinChi2]\n",
        "  bestb=np.array(chi2scan).take(indices=1,axis=1)[ArgMinChi2]\n",
        "  if v: print(\"Parámetros m y b encontrados:\",bestm,bestb)\n",
        "  return MinChi2, bestm, bestb"
      ],
      "execution_count": 15,
      "outputs": []
    },
    {
      "cell_type": "code",
      "metadata": {
        "colab": {
          "base_uri": "https://localhost:8080/"
        },
        "id": "X-o2J_TmJcmy",
        "outputId": "966b816c-a488-4dba-8e75-f556e21fb71c"
      },
      "source": [
        "Pendiente=np.random.uniform(0.1,3)\n",
        "Intercepto=np.random.uniform(5,10)\n",
        "print(Pendiente,Intercepto)"
      ],
      "execution_count": 6,
      "outputs": [
        {
          "output_type": "stream",
          "text": [
            "2.553760688594244 9.603288153680356\n"
          ],
          "name": "stdout"
        }
      ]
    },
    {
      "cell_type": "code",
      "metadata": {
        "colab": {
          "base_uri": "https://localhost:8080/",
          "height": 282
        },
        "id": "Z7oUcxcXKG0I",
        "outputId": "e657e24a-a422-49fd-8eb4-4f1073799fc5"
      },
      "source": [
        "RectaPrincipal=RectaConVariabilidad(20,100,Pendiente,Intercepto,100,sigma=5)\n",
        "plt.plot(RectaPrincipal[0],RectaPrincipal[1],'r+')"
      ],
      "execution_count": 7,
      "outputs": [
        {
          "output_type": "execute_result",
          "data": {
            "text/plain": [
              "[<matplotlib.lines.Line2D at 0x7fd5e29aa190>]"
            ]
          },
          "metadata": {
            "tags": []
          },
          "execution_count": 7
        },
        {
          "output_type": "display_data",
          "data": {
            "image/png": "[encoded data removed]",
            "text/plain": [
              "<Figure size 432x288 with 1 Axes>"
            ]
          },
          "metadata": {
            "tags": [],
            "needs_background": "light"
          }
        }
      ]
    },
    {
      "cell_type": "code",
      "metadata": {
        "colab": {
          "base_uri": "https://localhost:8080/"
        },
        "id": "nh5onMKEKcSZ",
        "outputId": "87f5d8e0-8e93-49a7-e917-6c78b14c5b73"
      },
      "source": [
        "ResultadosEstimador=mb_estimator(RectaPrincipal[0],RectaPrincipal[1],0.1,3,100,5,10,100,v=True)"
      ],
      "execution_count": 16,
      "outputs": [
        {
          "output_type": "stream",
          "text": [
            "Chi2 mínimo encontrado: 20.51919630585109\n",
            "Parámetros m y b encontrados: 2.5606060606060606 9.595959595959595\n"
          ],
          "name": "stdout"
        }
      ]
    },
    {
      "cell_type": "markdown",
      "metadata": {
        "id": "AwZ7l5FQMZgA"
      },
      "source": [
        "## Muestreo del test estadístico y de los estimadores"
      ]
    },
    {
      "cell_type": "code",
      "metadata": {
        "id": "6wknOZobMgPQ"
      },
      "source": [
        "NSample=1000\n",
        "Chi2Sampling=[]\n",
        "bSampling=[]\n",
        "mSampling=[]\n",
        "for i in range(NSample):\n",
        "  RectaExperim=RectaConVariabilidad(20,100,Pendiente,Intercepto,100,sigma=5)\n",
        "  ResultadosEstimador=mb_estimator(RectaExperim[0],RectaExperim[1],0.1,3,100,5,10,100)\n",
        "  Chi2Sampling.append(ResultadosEstimador[0])\n",
        "  bSampling.append(ResultadosEstimador[2])\n",
        "  mSampling.append(ResultadosEstimador[1])"
      ],
      "execution_count": 19,
      "outputs": []
    },
    {
      "cell_type": "code",
      "metadata": {
        "colab": {
          "base_uri": "https://localhost:8080/",
          "height": 265
        },
        "id": "V5nuq6V2NhsV",
        "outputId": "b4b17057-f228-4884-9721-db45fba8b4b4"
      },
      "source": [
        "Chi2Histo=plt.hist(Chi2Sampling, bins=20)"
      ],
      "execution_count": 20,
      "outputs": [
        {
          "output_type": "display_data",
          "data": {
            "image/png": "[encoded data removed]",
            "text/plain": [
              "<Figure size 432x288 with 1 Axes>"
            ]
          },
          "metadata": {
            "tags": [],
            "needs_background": "light"
          }
        }
      ]
    },
    {
      "cell_type": "code",
      "metadata": {
        "colab": {
          "base_uri": "https://localhost:8080/",
          "height": 269
        },
        "id": "cYaGEvnnNkhz",
        "outputId": "a76ede8d-4b48-4eda-b13c-a1c72131ca10"
      },
      "source": [
        "bHisto=plt.hist(bSampling, bins=20)"
      ],
      "execution_count": 21,
      "outputs": [
        {
          "output_type": "display_data",
          "data": {
            "image/png": "[encoded data removed]",
            "text/plain": [
              "<Figure size 432x288 with 1 Axes>"
            ]
          },
          "metadata": {
            "tags": [],
            "needs_background": "light"
          }
        }
      ]
    },
    {
      "cell_type": "code",
      "metadata": {
        "colab": {
          "base_uri": "https://localhost:8080/",
          "height": 265
        },
        "id": "17oxsblSNplY",
        "outputId": "76d635c6-7339-4912-c1fd-e45d16b85891"
      },
      "source": [
        "mHisto=plt.hist(mSampling, bins=4)"
      ],
      "execution_count": 28,
      "outputs": [
        {
          "output_type": "display_data",
          "data": {
            "image/png": "[encoded data removed]",
            "text/plain": [
              "<Figure size 432x288 with 1 Axes>"
            ]
          },
          "metadata": {
            "tags": [],
            "needs_background": "light"
          }
        }
      ]
    },
    {
      "cell_type": "code",
      "metadata": {
        "colab": {
          "base_uri": "https://localhost:8080/"
        },
        "id": "kp_LeqaCQkk0",
        "outputId": "8a7b8bd4-9486-4ffa-c2b8-9786c80a7fca"
      },
      "source": [
        "MaskToIntegrate=np.array(Chi2Histo[1][:-1])>=ResultadosEstimador[0]\n",
        "pvalue_h0=sum(np.multiply(MaskToIntegrate,np.array(Chi2Histo[0])))/sum(Chi2Histo[0])\n",
        "print(\"El valor p para la hipótesis es:\", pvalue_h0)"
      ],
      "execution_count": 23,
      "outputs": [
        {
          "output_type": "stream",
          "text": [
            "El valor p para la hipótesis es: 0.77\n"
          ],
          "name": "stdout"
        }
      ]
    },
    {
      "cell_type": "markdown",
      "metadata": {
        "id": "3v-C_qCFRZHz"
      },
      "source": [
        "## Intervalos de confianza para ambos parámetros a diferentes niveles de confianza"
      ]
    },
    {
      "cell_type": "code",
      "metadata": {
        "colab": {
          "base_uri": "https://localhost:8080/"
        },
        "id": "rTu8Sn96RYvy",
        "outputId": "640546c3-a608-45f7-b74e-486ebba326e9"
      },
      "source": [
        "Beta68=0.16; Alpha68=Beta68+0.68\n",
        "m68min=np.quantile(mSampling,Beta68)\n",
        "m68max=np.quantile(mSampling,Alpha68)\n",
        "print(\"El intervalo de confianza a 68% CL para m es:\",m68min,m68max)"
      ],
      "execution_count": 25,
      "outputs": [
        {
          "output_type": "stream",
          "text": [
            "El intervalo de confianza a 68% CL para m es: 2.5606060606060606 2.58989898989899\n"
          ],
          "name": "stdout"
        }
      ]
    },
    {
      "cell_type": "code",
      "metadata": {
        "colab": {
          "base_uri": "https://localhost:8080/"
        },
        "id": "YNia0eIlT_DP",
        "outputId": "cba3b73e-64dc-4582-a4a2-517bee042e5f"
      },
      "source": [
        "Beta95=0.025; Alpha95=Beta95+0.95\n",
        "m95min=np.quantile(mSampling,Beta95)\n",
        "m95max=np.quantile(mSampling,Alpha95)\n",
        "print(\"El intervalo de confianza a 95% CL para m es:\",m95min,m95max)"
      ],
      "execution_count": 27,
      "outputs": [
        {
          "output_type": "stream",
          "text": [
            "El intervalo de confianza a 95% CL para m es: 2.5313131313131314 2.5898989898989897\n"
          ],
          "name": "stdout"
        }
      ]
    },
    {
      "cell_type": "code",
      "metadata": {
        "colab": {
          "base_uri": "https://localhost:8080/"
        },
        "id": "821SFsVZUel7",
        "outputId": "9f5c317a-48fb-48fe-9db3-7dcee8f9c8b9"
      },
      "source": [
        "b68min=np.quantile(bSampling,Beta68)\n",
        "b68max=np.quantile(bSampling,Alpha68)\n",
        "print(\"El intervalo de confianza a 68% CL para b es:\",b68min,b68max)"
      ],
      "execution_count": 29,
      "outputs": [
        {
          "output_type": "stream",
          "text": [
            "El intervalo de confianza a 68% CL para b es: 8.131313131313131 10.0\n"
          ],
          "name": "stdout"
        }
      ]
    },
    {
      "cell_type": "code",
      "metadata": {
        "colab": {
          "base_uri": "https://localhost:8080/"
        },
        "id": "SaZEZtNhUxNW",
        "outputId": "4aaadb9f-db99-4219-9852-05309ada857c"
      },
      "source": [
        "b95min=np.quantile(bSampling,Beta95)\n",
        "b95max=np.quantile(bSampling,Alpha95)\n",
        "print(\"El intervalo de confianza a 95% CL para b es:\",b95min,b95max)"
      ],
      "execution_count": 30,
      "outputs": [
        {
          "output_type": "stream",
          "text": [
            "El intervalo de confianza a 95% CL para b es: 6.767676767676768 10.0\n"
          ],
          "name": "stdout"
        }
      ]
    },
    {
      "cell_type": "code",
      "metadata": {
        "colab": {
          "base_uri": "https://localhost:8080/",
          "height": 305
        },
        "id": "ZkyVIHJBV1YW",
        "outputId": "948dbce6-7f4f-41a6-a653-dec14404ce6f"
      },
      "source": [
        "fig = plt.figure()\n",
        "ax = fig.add_subplot(111)\n",
        "ax.hlines(b68min,m68min,m68max,\"g\")\n",
        "ax.hlines(b68max,m68min,m68max,\"g\")\n",
        "ax.vlines(m68min,b68min,b68max,\"g\")\n",
        "ax.vlines(m68max,b68min,b68max,\"g\")\n",
        "ax.hlines(b95min,m95min,m95max,\"y\")\n",
        "ax.hlines(b95max,m95min,m95max,\"y\")\n",
        "ax.vlines(m95min,b95min,b95max,\"y\")\n",
        "ax.vlines(m95max,b95min,b95max,\"y\")\n",
        "ax.plot(Pendiente,Intercepto,\"r+\")\n",
        "ax.annotate('Valor verdadero', xy=(Pendiente,Intercepto), xytext=(2.54, 11),\n",
        "            arrowprops=dict(facecolor='red', shrink=0.1))\n",
        "ax.set_xlabel(\"$\\hat{m}$\")\n",
        "ax.set_ylabel(\"$\\hat{b}$\")\n",
        "ax.set(xlim=(2.5, 2.6), ylim=(5, 12))"
      ],
      "execution_count": 56,
      "outputs": [
        {
          "output_type": "execute_result",
          "data": {
            "text/plain": [
              "[(5.0, 12.0), (2.5, 2.6)]"
            ]
          },
          "metadata": {
            "tags": []
          },
          "execution_count": 56
        },
        {
          "output_type": "display_data",
          "data": {
            "image/png": "[encoded data removed]",
            "text/plain": [
              "<Figure size 432x288 with 1 Axes>"
            ]
          },
          "metadata": {
            "tags": [],
            "needs_background": "light"
          }
        }
      ]
    },
    {
      "cell_type": "markdown",
      "metadata": {
        "id": "T6b47LJSdoDs"
      },
      "source": [
        "##Ejercicio 1: \n",
        "Repita el mismo procedimiento pero para la estimación de los intervalos de confianza pero usando\n",
        "\n",
        "RectaConVariabilidad(50,100,Pendiente,Intercepto,100,sigma=15)"
      ]
    },
    {
      "cell_type": "markdown",
      "metadata": {
        "id": "oCMbpDMfeF77"
      },
      "source": [
        "##Ejercicio 2: \n",
        "Repita el mismo ejercicio pero utilizando la verosimilitud como test estadístico en lugar del chi2."
      ]
    },
    {
      "cell_type": "markdown",
      "metadata": {
        "id": "y6WPrEU5jEDr"
      },
      "source": [
        "##Ejercicio 3:\n",
        "Tome los datos del repositorio central llamados Xcsv y Y.csv y trate de modelarlos con las herramientas vistas:\n",
        "1. Haga una exploración gráfica.\n",
        "2. Plantee una hipótesis.\n",
        "3. Defina un test estadístico.\n",
        "4. Obtenga los parámetros que mejor ajustan los datos seún su hipótesis.\n",
        "5. Calcule qué tan bien se ajusta su modelo con el p-value.\n",
        "6. Obtenga el intervalo de confianza de sus parámetros para 68% y 95% CL."
      ]
    }
  ]
}