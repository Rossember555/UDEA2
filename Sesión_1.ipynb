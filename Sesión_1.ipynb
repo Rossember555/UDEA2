{
  "nbformat": 4,
  "nbformat_minor": 0,
  "metadata": {
    "colab": {
      "name": "Sesión 1",
      "provenance": [],
      "collapsed_sections": [],
      "authorship_tag": "ABX9TyPgo4L6CWNq8ROwtcyWxNXu",
      "include_colab_link": true
    },
    "kernelspec": {
      "name": "python3",
      "display_name": "Python 3"
    }
  },
  "cells": [
    {
      "cell_type": "markdown",
      "metadata": {
        "id": "view-in-github",
        "colab_type": "text"
      },
      "source": [
        "<a href=\"https://colab.research.google.com/github/jotadram6/EACD-02-ESTADISTICA/blob/master/Sesi%C3%B3n_1.ipynb\" target=\"_parent\"><img src=\"https://colab.research.google.com/assets/colab-badge.svg\" alt=\"Open In Colab\"/></a>"
      ]
    },
    {
      "cell_type": "markdown",
      "metadata": {
        "id": "JLltq9Jzwl7g"
      },
      "source": [
        "# Curso Estadística y Análisis exploratorio\n",
        "Profesor: José David Ruiz Álvarez\n",
        "\n",
        "Correo: josed.ruiz@udea.edu.co\n",
        "\n",
        "## Sesión 1\n",
        "\n",
        "### Bases de estadística:\n",
        "\n",
        "\n",
        "1.   Probabilidad\n",
        "2.   Teorema de Bayes\n",
        "3.   Ley de probabilidad total\n",
        "4.   Variables aleatorias\n",
        "5.   Funciones de densidad de probabilidad\n",
        "6.   Función acumulativa y de supervivencia\n",
        "7.   Cuantil\n",
        "8.   Valor esperado y desviación estándar\n",
        "9.   Momentos centrales\n",
        "10.  Funciones de distribución de probabilidad multivariada\n"
      ]
    },
    {
      "cell_type": "code",
      "metadata": {
        "id": "VIOFpIynwY2L"
      },
      "source": [
        "import numpy as np\n",
        "import matplotlib.pyplot as plt"
      ],
      "execution_count": null,
      "outputs": []
    },
    {
      "cell_type": "markdown",
      "metadata": {
        "id": "HlQ6WCaoISMB"
      },
      "source": [
        "# Probabilidad"
      ]
    },
    {
      "cell_type": "code",
      "metadata": {
        "id": "3MddEbfmyW25"
      },
      "source": [
        "Dado1 = np.random.randint(1,7,100)"
      ],
      "execution_count": null,
      "outputs": []
    },
    {
      "cell_type": "code",
      "metadata": {
        "colab": {
          "base_uri": "https://localhost:8080/",
          "height": 268
        },
        "id": "FrtK9od39d2V",
        "outputId": "bc3603b4-f299-41e4-eb2b-607c82116424"
      },
      "source": [
        "HistoDado1 = plt.hist(Dado1,bins=[1,2,3,4,5,6,7])"
      ],
      "execution_count": null,
      "outputs": [
        {
          "output_type": "display_data",
          "data": {
            "image/png": "[encoded data removed]",
            "text/plain": [
              "<Figure size 432x288 with 1 Axes>"
            ]
          },
          "metadata": {
            "tags": [],
            "needs_background": "light"
          }
        }
      ]
    },
    {
      "cell_type": "code",
      "metadata": {
        "colab": {
          "base_uri": "https://localhost:8080/"
        },
        "id": "RGgx2zDQ1na1",
        "outputId": "61577bf7-3200-4676-d8a9-1970a5d2bb05"
      },
      "source": [
        "HistoDado1[0].argmax()"
      ],
      "execution_count": null,
      "outputs": [
        {
          "output_type": "execute_result",
          "data": {
            "text/plain": [
              "4"
            ]
          },
          "metadata": {
            "tags": []
          },
          "execution_count": 72
        }
      ]
    },
    {
      "cell_type": "code",
      "metadata": {
        "colab": {
          "base_uri": "https://localhost:8080/"
        },
        "id": "6KZbVSXH9i2j",
        "outputId": "1401b792-dcb4-4153-8a78-e180aba6b77b"
      },
      "source": [
        "print(max(HistoDado1[0]))"
      ],
      "execution_count": null,
      "outputs": [
        {
          "output_type": "stream",
          "text": [
            "24.0\n"
          ],
          "name": "stdout"
        }
      ]
    },
    {
      "cell_type": "code",
      "metadata": {
        "id": "qxuet7D0-14Y"
      },
      "source": [
        "Dado2 = np.random.randint(1,7,100)"
      ],
      "execution_count": null,
      "outputs": []
    },
    {
      "cell_type": "code",
      "metadata": {
        "colab": {
          "base_uri": "https://localhost:8080/",
          "height": 285
        },
        "id": "_mZFjbMe_FbZ",
        "outputId": "5e0abe42-ee6f-488d-8acd-2dac8c328273"
      },
      "source": [
        "HistoDado2 = plt.hist(Dado2,bins=[1,2,3,4,5,6,7])\n",
        "print(max(HistoDado2[0]))"
      ],
      "execution_count": null,
      "outputs": [
        {
          "output_type": "stream",
          "text": [
            "24.0\n"
          ],
          "name": "stdout"
        },
        {
          "output_type": "display_data",
          "data": {
            "image/png": "[encoded data removed]",
            "text/plain": [
              "<Figure size 432x288 with 1 Axes>"
            ]
          },
          "metadata": {
            "tags": [],
            "needs_background": "light"
          }
        }
      ]
    },
    {
      "cell_type": "markdown",
      "metadata": {
        "id": "zg3Gbg_T_WRX"
      },
      "source": [
        "Definimos la probabilidad de ocurrencia de un valor de un dado de seis caras como el cociente de la ocurrencia de este en una muestra dada y la cantidad de datos en la muestra. Por ejemplo, la probabilidad de obtener un 2 de la tirada de un dado será:\n",
        "\n",
        "$P(2) = \\frac{N(2)}{N(1)+N(2)+N(3)+N(4)+N(5)+N(6)}$\n",
        "\n",
        "Si definimos como n al tamaño de la muestra entonces podemos definir la probabilidad de ocurrencia de A como:\n",
        "\n",
        "$$P(A) = \\lim_{n \\to \\infty} \\frac{N(A)}{n}$$"
      ]
    },
    {
      "cell_type": "markdown",
      "metadata": {
        "id": "XO0SaZb0B8uA"
      },
      "source": [
        "## Ejercicio 1\n",
        "\n",
        "Tome muestras de \n",
        "100, 200, 300, 400, 500, 600, 700, 800, 900, 1000, 5000, 10000, 100000\n",
        "\n",
        "Y grafique con cada muestreo:\n",
        "1. P(2)\n",
        "2. P(6)\n",
        "3. max(P)\n",
        "4. min(P)"
      ]
    },
    {
      "cell_type": "markdown",
      "metadata": {
        "id": "6BE6qDVWIWuS"
      },
      "source": [
        "# Probabilidad condicionada\n",
        "\n",
        "Probabilidad de ocurrencia dada una condición previa.\n",
        "\n",
        "Por ejemplo, probabilidad de que salga 3 en el dado 2 si en el dado 1 salió 4."
      ]
    },
    {
      "cell_type": "code",
      "metadata": {
        "id": "92Kex41y_RPA"
      },
      "source": [
        "BooleanMask = Dado1 == 4"
      ],
      "execution_count": null,
      "outputs": []
    },
    {
      "cell_type": "code",
      "metadata": {
        "colab": {
          "base_uri": "https://localhost:8080/"
        },
        "id": "nFzWsR0ZJLlh",
        "outputId": "b54baf45-0ac6-4d93-e905-00318f5928f7"
      },
      "source": [
        "BooleanMask"
      ],
      "execution_count": null,
      "outputs": [
        {
          "output_type": "execute_result",
          "data": {
            "text/plain": [
              "array([ True, False, False, False, False,  True, False, False, False,\n",
              "       False, False, False, False, False, False, False,  True, False,\n",
              "       False, False, False,  True, False, False, False, False, False,\n",
              "       False, False, False, False,  True, False, False, False, False,\n",
              "       False, False,  True, False, False, False, False,  True, False,\n",
              "       False, False,  True, False, False,  True, False, False, False,\n",
              "       False,  True, False, False, False, False, False,  True, False,\n",
              "       False, False, False, False,  True, False, False, False, False,\n",
              "        True, False, False, False, False,  True,  True, False, False,\n",
              "        True, False, False, False, False, False, False, False, False,\n",
              "       False, False,  True, False,  True, False, False, False, False,\n",
              "       False])"
            ]
          },
          "metadata": {
            "tags": []
          },
          "execution_count": 91
        }
      ]
    },
    {
      "cell_type": "code",
      "metadata": {
        "colab": {
          "base_uri": "https://localhost:8080/"
        },
        "id": "nWnJV8BZNI0z",
        "outputId": "c58e34e1-7737-4ca9-e7aa-64f7adadd9b4"
      },
      "source": [
        "Dado2"
      ],
      "execution_count": null,
      "outputs": [
        {
          "output_type": "execute_result",
          "data": {
            "text/plain": [
              "array([3, 4, 2, 4, 1, 2, 3, 4, 1, 2, 4, 5, 4, 4, 1, 6, 1, 3, 2, 1, 1, 6,\n",
              "       4, 6, 1, 4, 1, 6, 1, 4, 6, 1, 3, 3, 4, 1, 6, 2, 4, 5, 4, 3, 6, 4,\n",
              "       6, 4, 4, 3, 1, 3, 2, 4, 2, 5, 3, 5, 6, 5, 3, 1, 6, 3, 6, 2, 1, 2,\n",
              "       1, 2, 5, 4, 2, 2, 6, 4, 2, 4, 4, 4, 6, 6, 1, 4, 3, 2, 2, 2, 3, 5,\n",
              "       6, 5, 1, 2, 6, 5, 3, 4, 3, 5, 3, 4])"
            ]
          },
          "metadata": {
            "tags": []
          },
          "execution_count": 96
        }
      ]
    },
    {
      "cell_type": "code",
      "metadata": {
        "id": "CaDMBf-cJTsB"
      },
      "source": [
        "ProbabilidadCond = BooleanMask*Dado2"
      ],
      "execution_count": null,
      "outputs": []
    },
    {
      "cell_type": "code",
      "metadata": {
        "colab": {
          "base_uri": "https://localhost:8080/"
        },
        "id": "dYSvFLDoJYoi",
        "outputId": "4e7e3c5e-70d4-4414-f37a-1ea124fdcc42"
      },
      "source": [
        "ProbabilidadCond"
      ],
      "execution_count": null,
      "outputs": [
        {
          "output_type": "execute_result",
          "data": {
            "text/plain": [
              "array([3, 0, 0, 0, 0, 2, 0, 0, 0, 0, 0, 0, 0, 0, 0, 0, 1, 0, 0, 0, 0, 6,\n",
              "       0, 0, 0, 0, 0, 0, 0, 0, 0, 1, 0, 0, 0, 0, 0, 0, 4, 0, 0, 0, 0, 4,\n",
              "       0, 0, 0, 3, 0, 0, 2, 0, 0, 0, 0, 5, 0, 0, 0, 0, 0, 3, 0, 0, 0, 0,\n",
              "       0, 2, 0, 0, 0, 0, 6, 0, 0, 0, 0, 4, 6, 0, 0, 4, 0, 0, 0, 0, 0, 0,\n",
              "       0, 0, 0, 0, 6, 0, 3, 0, 0, 0, 0, 0])"
            ]
          },
          "metadata": {
            "tags": []
          },
          "execution_count": 93
        }
      ]
    },
    {
      "cell_type": "code",
      "metadata": {
        "colab": {
          "base_uri": "https://localhost:8080/",
          "height": 265
        },
        "id": "QUlDVjWbJhwZ",
        "outputId": "8bc87092-63f7-465f-bc76-2ea4805807bf"
      },
      "source": [
        "HistoCond = plt.hist(ProbabilidadCond, bins=[1,2,3,4,5,6,7])"
      ],
      "execution_count": null,
      "outputs": [
        {
          "output_type": "display_data",
          "data": {
            "image/png": "[encoded data removed]",
            "text/plain": [
              "<Figure size 432x288 with 1 Axes>"
            ]
          },
          "metadata": {
            "tags": [],
            "needs_background": "light"
          }
        }
      ]
    },
    {
      "cell_type": "code",
      "metadata": {
        "colab": {
          "base_uri": "https://localhost:8080/"
        },
        "id": "n3fed59eJsC5",
        "outputId": "dbb07d6d-f9df-46ee-a929-f9a3f694ca75"
      },
      "source": [
        "HistoCond[0]/sum(BooleanMask)"
      ],
      "execution_count": null,
      "outputs": [
        {
          "output_type": "execute_result",
          "data": {
            "text/plain": [
              "array([0.11111111, 0.16666667, 0.22222222, 0.22222222, 0.05555556,\n",
              "       0.22222222])"
            ]
          },
          "metadata": {
            "tags": []
          },
          "execution_count": 95
        }
      ]
    },
    {
      "cell_type": "markdown",
      "metadata": {
        "id": "AqMznDnIK0mt"
      },
      "source": [
        "Definimos la probabilidad condicionada como:\n",
        "\n",
        "$$P(A|B) = \\frac{P(A \\cap B)}{P(B)}$$"
      ]
    },
    {
      "cell_type": "markdown",
      "metadata": {
        "id": "h4hTi1aEMZXS"
      },
      "source": [
        "## Ejercicio 2:\n",
        "Con los mismos muestreos que en el ejercicio 1 calcule las siguientes probabilidades condicionadas y grafíquelas en función del tamaño de la muestra:\n",
        "\n",
        "1. $P(dado2=4|dado1=par)$\n",
        "2. $P(dado2=4|dado1=impar)$\n",
        "3. $P(dado2=par|dado1=par)$\n",
        "4. $P(dado2=par|dado1=impar)$\n",
        "5. $P(dado2=3|dado1+dado2=7)$"
      ]
    },
    {
      "cell_type": "code",
      "metadata": {
        "id": "yqB_rnnJQqeH"
      },
      "source": [
        ""
      ],
      "execution_count": null,
      "outputs": []
    },
    {
      "cell_type": "markdown",
      "metadata": {
        "id": "YB7SkbIvQXPu"
      },
      "source": [
        "#Teorema de Bayes\n",
        "Relaciona probabilidades condicionadas\n",
        "\n",
        "$$P(A|B)=\\frac{P(B|A)P(A)}{P(B)}$$\n",
        "\n",
        "#Ley de probabilidad total\n",
        "\n",
        "$$P(B)=\\sum_{i} P(B|A_{i})P(A_{i})$$\n",
        "\n",
        "#Teorema de Bayes con ley de probabilidad total\n",
        "\n",
        "$$P(A|B)=\\frac{P(B|A)P(A)}{\\sum_{i} P(B|A_{i})P(A_{i})}$$"
      ]
    },
    {
      "cell_type": "markdown",
      "metadata": {
        "id": "Oll32TOtUFRG"
      },
      "source": [
        "## Ejercicio 3\n",
        "\n",
        "Considere un conjunto de n monedas entre las cuales hay m que no tienen cara y sellos sino cara por ambos lados. Si cojo al azar una de las n monedas la lanzo y sale cara, ¿Cuál es la probabilidad de que la moneda que cojí sea una de las m monedas \"malas\"?\n",
        "\n",
        "Note que por definición $m\\leq n$\n",
        "\n",
        "Grafique la probabilidad para los siguientes casos:\n",
        "1. Probabilidad en función de n con $10\\leq n \\leq 100$ y $m=[n/10]$\n",
        "2. Probabilidad en función de n con $10\\leq n \\leq 100$ y $m=[n/5]$\n",
        "3. Probabilidad en función de n con $10\\leq n \\leq 100$ y $m=[n/2]$"
      ]
    },
    {
      "cell_type": "markdown",
      "metadata": {
        "id": "zN--6I6qXtdR"
      },
      "source": [
        "## Taller:\n",
        "\n",
        "Ejercicios 1, 2, 3 y 4.\n",
        "\n",
        "Definimos dos eventos como independientes cuando $P(A \\cap B)=P(A)*P(B)$\n",
        "\n",
        "Del ejercicio 2 demuestre si los eventos considerados son o no independientes."
      ]
    },
    {
      "cell_type": "markdown",
      "metadata": {
        "id": "kDIJSxWyYBuJ"
      },
      "source": [
        "#Variables aleatorias y funciones de distribución de probabilidad"
      ]
    },
    {
      "cell_type": "code",
      "metadata": {
        "colab": {
          "base_uri": "https://localhost:8080/",
          "height": 265
        },
        "id": "TOmje8ZoKCNJ",
        "outputId": "cb26e9a5-be8c-4945-92b0-664b0b8e4680"
      },
      "source": [
        "Dado = np.random.randint(1,7,100)\n",
        "HistoDado = plt.hist(Dado,bins=[1,2,3,4,5,6,7])"
      ],
      "execution_count": null,
      "outputs": [
        {
          "output_type": "display_data",
          "data": {
            "image/png": "[encoded data removed]",
            "text/plain": [
              "<Figure size 432x288 with 1 Axes>"
            ]
          },
          "metadata": {
            "tags": [],
            "needs_background": "light"
          }
        }
      ]
    },
    {
      "cell_type": "code",
      "metadata": {
        "id": "7awRK00cKeVx",
        "colab": {
          "base_uri": "https://localhost:8080/"
        },
        "outputId": "73add97e-baaf-4673-bc1c-4b34ef8fe161"
      },
      "source": [
        "Probabilidades = HistoDado[0]/sum(HistoDado[0])\n",
        "print(Probabilidades)"
      ],
      "execution_count": null,
      "outputs": [
        {
          "output_type": "stream",
          "text": [
            "[0.18 0.12 0.12 0.22 0.15 0.21]\n"
          ],
          "name": "stdout"
        }
      ]
    },
    {
      "cell_type": "code",
      "metadata": {
        "id": "x9IcxNTuZYZl"
      },
      "source": [
        "def FuncionDado(x):\n",
        "  if x<7 and x>0 and type(x)==int:\n",
        "    return Probabilidades[x-1]  \n",
        "  else:\n",
        "     print(\"x debe estar entre 1 y 6 y ser entero\")"
      ],
      "execution_count": null,
      "outputs": []
    },
    {
      "cell_type": "code",
      "metadata": {
        "colab": {
          "base_uri": "https://localhost:8080/"
        },
        "id": "03xAzG8HaEU3",
        "outputId": "a6afe438-f151-45dc-f66f-6f123b9678c3"
      },
      "source": [
        "FuncionDado(5)"
      ],
      "execution_count": null,
      "outputs": [
        {
          "output_type": "execute_result",
          "data": {
            "text/plain": [
              "0.15"
            ]
          },
          "metadata": {
            "tags": []
          },
          "execution_count": 57
        }
      ]
    },
    {
      "cell_type": "markdown",
      "metadata": {
        "id": "uvxzCRA9ZR2M"
      },
      "source": [
        "##La integral sobre todo el rango de la función debe ser igual a 1\n",
        "\n",
        "---\n",
        "\n"
      ]
    },
    {
      "cell_type": "code",
      "metadata": {
        "colab": {
          "base_uri": "https://localhost:8080/"
        },
        "id": "khm0rWk6ZCvF",
        "outputId": "dcade2ca-8f1c-45f0-a6b5-126f55f14a94"
      },
      "source": [
        "sum(Probabilidades)"
      ],
      "execution_count": null,
      "outputs": [
        {
          "output_type": "execute_result",
          "data": {
            "text/plain": [
              "1.0"
            ]
          },
          "metadata": {
            "tags": []
          },
          "execution_count": 58
        }
      ]
    },
    {
      "cell_type": "markdown",
      "metadata": {
        "id": "xsQFaZWXcQ_4"
      },
      "source": [
        "#Función de distribución acumulativa\n",
        "---\n",
        "\n"
      ]
    },
    {
      "cell_type": "code",
      "metadata": {
        "id": "osKX8l7HcCoR"
      },
      "source": [
        "def FuncionAcumulativaDado(x):\n",
        "  if x<7 and x>0  and type(x)==int:\n",
        "    return sum(Probabilidades[:x])\n",
        "  else:\n",
        "     print(\"x debe estar entre 1 y 6 y ser entero\")"
      ],
      "execution_count": null,
      "outputs": []
    },
    {
      "cell_type": "code",
      "metadata": {
        "colab": {
          "base_uri": "https://localhost:8080/"
        },
        "id": "N7botwl9chuo",
        "outputId": "055b4c02-15b6-41a8-bbf7-be9d2112903a"
      },
      "source": [
        "FuncionAcumulativaDado(3)"
      ],
      "execution_count": null,
      "outputs": [
        {
          "output_type": "execute_result",
          "data": {
            "text/plain": [
              "0.42"
            ]
          },
          "metadata": {
            "tags": []
          },
          "execution_count": 59
        }
      ]
    },
    {
      "cell_type": "code",
      "metadata": {
        "colab": {
          "base_uri": "https://localhost:8080/",
          "height": 282
        },
        "id": "K2qHHBmWclyX",
        "outputId": "63af3b5a-bdcf-4f7a-b10e-574f7009ee3d"
      },
      "source": [
        "ValoresDelDado=[1,2,3,4,5,6]\n",
        "FA=[FuncionAcumulativaDado(1),FuncionAcumulativaDado(2),\n",
        "    FuncionAcumulativaDado(3),FuncionAcumulativaDado(4),\n",
        "    FuncionAcumulativaDado(5),FuncionAcumulativaDado(6)]\n",
        "plt.plot(ValoresDelDado,FA)"
      ],
      "execution_count": null,
      "outputs": [
        {
          "output_type": "execute_result",
          "data": {
            "text/plain": [
              "[<matplotlib.lines.Line2D at 0x7ff70a35b410>]"
            ]
          },
          "metadata": {
            "tags": []
          },
          "execution_count": 31
        },
        {
          "output_type": "display_data",
          "data": {
            "image/png": "[encoded data removed]",
            "text/plain": [
              "<Figure size 432x288 with 1 Axes>"
            ]
          },
          "metadata": {
            "tags": [],
            "needs_background": "light"
          }
        }
      ]
    },
    {
      "cell_type": "markdown",
      "metadata": {
        "id": "SBLVoSZPdNdh"
      },
      "source": [
        "##Función de supervivencia\n",
        "---"
      ]
    },
    {
      "cell_type": "code",
      "metadata": {
        "id": "TsGqXAVjc8An"
      },
      "source": [
        "def FuncionSupervivenciaDado(x):\n",
        "  if x<7 and x>0  and type(x)==int:\n",
        "    return 1-FuncionAcumulativaDado(x)\n",
        "  else:\n",
        "     print(\"x debe estar entre 1 y 6 y ser entero\")"
      ],
      "execution_count": null,
      "outputs": []
    },
    {
      "cell_type": "code",
      "metadata": {
        "colab": {
          "base_uri": "https://localhost:8080/",
          "height": 282
        },
        "id": "bkDxA2qldlft",
        "outputId": "c28325c7-0b27-488d-d79f-18c5ee2e0bc6"
      },
      "source": [
        "FS=[FuncionSupervivenciaDado(1),FuncionSupervivenciaDado(2),\n",
        "    FuncionSupervivenciaDado(3),FuncionSupervivenciaDado(4),\n",
        "    FuncionSupervivenciaDado(5),FuncionSupervivenciaDado(6)]\n",
        "plt.plot(ValoresDelDado,FS)"
      ],
      "execution_count": null,
      "outputs": [
        {
          "output_type": "execute_result",
          "data": {
            "text/plain": [
              "[<matplotlib.lines.Line2D at 0x7ff70a3a08d0>]"
            ]
          },
          "metadata": {
            "tags": []
          },
          "execution_count": 33
        },
        {
          "output_type": "display_data",
          "data": {
            "image/png": "[encoded data removed]",
            "text/plain": [
              "<Figure size 432x288 with 1 Axes>"
            ]
          },
          "metadata": {
            "tags": [],
            "needs_background": "light"
          }
        }
      ]
    },
    {
      "cell_type": "code",
      "metadata": {
        "colab": {
          "base_uri": "https://localhost:8080/",
          "height": 282
        },
        "id": "cC6w1Q0VdyW9",
        "outputId": "b9d71361-78e2-406f-a6d2-ddf7bcaa1136"
      },
      "source": [
        "plt.plot(ValoresDelDado,np.array(FS)+np.array(FA))"
      ],
      "execution_count": null,
      "outputs": [
        {
          "output_type": "execute_result",
          "data": {
            "text/plain": [
              "[<matplotlib.lines.Line2D at 0x7ff70a2ecb90>]"
            ]
          },
          "metadata": {
            "tags": []
          },
          "execution_count": 34
        },
        {
          "output_type": "display_data",
          "data": {
            "image/png": "[encoded data removed]",
            "text/plain": [
              "<Figure size 432x288 with 1 Axes>"
            ]
          },
          "metadata": {
            "tags": [],
            "needs_background": "light"
          }
        }
      ]
    },
    {
      "cell_type": "markdown",
      "metadata": {
        "id": "Yxtu7iR0eyvH"
      },
      "source": [
        "##Al continuo"
      ]
    },
    {
      "cell_type": "code",
      "metadata": {
        "id": "RRHXKe1gd_RF"
      },
      "source": [
        "Gauss = np.random.normal(size=10000)"
      ],
      "execution_count": null,
      "outputs": []
    },
    {
      "cell_type": "code",
      "metadata": {
        "colab": {
          "base_uri": "https://localhost:8080/",
          "height": 265
        },
        "id": "1xkdYtCdfA0z",
        "outputId": "7d44a79d-1626-4551-c2be-70a5381be66d"
      },
      "source": [
        "HistoGauss = plt.hist(Gauss,bins=40)"
      ],
      "execution_count": null,
      "outputs": [
        {
          "output_type": "display_data",
          "data": {
            "image/png": "[encoded data removed]",
            "text/plain": [
              "<Figure size 432x288 with 1 Axes>"
            ]
          },
          "metadata": {
            "tags": [],
            "needs_background": "light"
          }
        }
      ]
    },
    {
      "cell_type": "code",
      "metadata": {
        "colab": {
          "base_uri": "https://localhost:8080/",
          "height": 265
        },
        "id": "KDXu-ebjf9Th",
        "outputId": "c5b363c6-2830-4831-b3c5-f8d306aa6bde"
      },
      "source": [
        "Gauss1=np.random.normal(loc=10., scale=2., size=10000)\n",
        "HistoGauss1 = plt.hist(Gauss1,bins=40)"
      ],
      "execution_count": null,
      "outputs": [
        {
          "output_type": "display_data",
          "data": {
            "image/png": "[encoded data removed]",
            "text/plain": [
              "<Figure size 432x288 with 1 Axes>"
            ]
          },
          "metadata": {
            "tags": [],
            "needs_background": "light"
          }
        }
      ]
    },
    {
      "cell_type": "markdown",
      "metadata": {
        "id": "a633Jy2zfdGA"
      },
      "source": [
        "##Ejercicio 4\n",
        "\n",
        "Construya funciones acumulativa y de supervivencia y grafíquelas para:\n",
        "1. La suma del resultado de tirar dos dados simultáneamente.\n",
        "2. La suma de dos gaussianas."
      ]
    },
    {
      "cell_type": "markdown",
      "metadata": {
        "id": "JJyQTzVfiVpK"
      },
      "source": [
        "#Valor esperado o esperanza\n",
        "$$ \\mu=E[x]=\\int_{-\\infty}^{+\\infty}x f(x)dx$$\n",
        "#Momentos\n",
        "$$ \\alpha^{n} = E[x^{n}]=\\int_{-\\infty}^{+\\infty}x^{n} f(x)dx$$\n",
        "#Momentos centrales\n",
        "$$  E[(x-\\mu)^{n}]=\\int_{-\\infty}^{+\\infty}(x-\\mu)^{n} f(x)dx$$\n",
        "#Varianza\n",
        "$$  V[x]=E[(x-\\mu)^{2}]=\\int_{-\\infty}^{+\\infty}(x-\\mu)^{2} f(x)dx$$\n",
        "\n",
        "$$V[x]=E[x^{2}]-E[x]^{2}=E[x^{2}]-\\mu^{2}$$\n",
        "##Desviación estándar\n",
        "$$\\sigma = \\sqrt{V[x]}$$\n"
      ]
    },
    {
      "cell_type": "markdown",
      "metadata": {
        "id": "pzR0i9YKqIK3"
      },
      "source": [
        "##Ejemplo con Gauss"
      ]
    },
    {
      "cell_type": "code",
      "metadata": {
        "id": "oKaRFoMjfESM"
      },
      "source": [
        "HistoProbGauss = np.array(HistoGauss1[0]/sum(HistoGauss1[0]))"
      ],
      "execution_count": null,
      "outputs": []
    },
    {
      "cell_type": "code",
      "metadata": {
        "colab": {
          "base_uri": "https://localhost:8080/"
        },
        "id": "gWars-RJmdwl",
        "outputId": "b62aacaa-8b4f-4b9b-a6ac-d7a6751f3c6c"
      },
      "source": [
        "print(HistoProbGauss)"
      ],
      "execution_count": null,
      "outputs": [
        {
          "output_type": "stream",
          "text": [
            "[0.0001 0.0002 0.0003 0.0003 0.0011 0.0008 0.0013 0.003  0.0053 0.0083\n",
            " 0.0112 0.0166 0.0208 0.0284 0.0367 0.0433 0.0531 0.0553 0.0626 0.0683\n",
            " 0.0777 0.072  0.0765 0.0697 0.0573 0.0532 0.0444 0.0348 0.0286 0.0206\n",
            " 0.0137 0.0129 0.0077 0.006  0.0032 0.0023 0.0017 0.0004 0.0001 0.0002]\n"
          ],
          "name": "stdout"
        }
      ]
    },
    {
      "cell_type": "markdown",
      "metadata": {
        "id": "dWktnNpdnCuJ"
      },
      "source": [
        "##Valor esperado"
      ]
    },
    {
      "cell_type": "code",
      "metadata": {
        "colab": {
          "base_uri": "https://localhost:8080/"
        },
        "id": "BeLYOyAQmkSs",
        "outputId": "b864788a-5884-4ad0-91a4-98267def4fa6"
      },
      "source": [
        "Mu = sum(HistoProbGauss*np.array(HistoGauss1[1][:-1]))\n",
        "print(Mu)"
      ],
      "execution_count": null,
      "outputs": [
        {
          "output_type": "stream",
          "text": [
            "9.791679634052883\n"
          ],
          "name": "stdout"
        }
      ]
    },
    {
      "cell_type": "markdown",
      "metadata": {
        "id": "b1yanf1_nFVZ"
      },
      "source": [
        "##Varianza"
      ]
    },
    {
      "cell_type": "code",
      "metadata": {
        "colab": {
          "base_uri": "https://localhost:8080/"
        },
        "id": "L87hnLYXmxpN",
        "outputId": "52cd42d3-f423-40a8-db30-af34f1a53dae"
      },
      "source": [
        "Var = sum(HistoProbGauss*(np.array(HistoGauss1[1][:-1])**2))-Mu**2\n",
        "print(Var)"
      ],
      "execution_count": null,
      "outputs": [
        {
          "output_type": "stream",
          "text": [
            "3.957609969286338\n"
          ],
          "name": "stdout"
        }
      ]
    },
    {
      "cell_type": "markdown",
      "metadata": {
        "id": "OYdByHHfnYhw"
      },
      "source": [
        "#Desviación estándar"
      ]
    },
    {
      "cell_type": "code",
      "metadata": {
        "colab": {
          "base_uri": "https://localhost:8080/"
        },
        "id": "cNlrr4aQnTes",
        "outputId": "3a726dab-0bc9-4068-da42-ba54547959e0"
      },
      "source": [
        "Sigma = np.sqrt(Var)\n",
        "print(Sigma)"
      ],
      "execution_count": null,
      "outputs": [
        {
          "output_type": "stream",
          "text": [
            "1.989374265764574\n"
          ],
          "name": "stdout"
        }
      ]
    },
    {
      "cell_type": "code",
      "metadata": {
        "id": "kkb3oxw2nWv8"
      },
      "source": [
        ""
      ],
      "execution_count": null,
      "outputs": []
    }
  ]
}