{
  "nbformat": 4,
  "nbformat_minor": 0,
  "metadata": {
    "colab": {
      "name": "Sesión 3",
      "provenance": [],
      "collapsed_sections": [],
      "authorship_tag": "ABX9TyPRCid7Fxn75bK70wlsucwL",
      "include_colab_link": true
    },
    "kernelspec": {
      "name": "python3",
      "display_name": "Python 3"
    }
  },
  "cells": [
    {
      "cell_type": "markdown",
      "metadata": {
        "id": "view-in-github",
        "colab_type": "text"
      },
      "source": [
        "<a href=\"https://colab.research.google.com/github/jotadram6/EACD-02-ESTADISTICA/blob/master/Sesi%C3%B3n_3.ipynb\" target=\"_parent\"><img src=\"https://colab.research.google.com/assets/colab-badge.svg\" alt=\"Open In Colab\"/></a>"
      ]
    },
    {
      "cell_type": "markdown",
      "metadata": {
        "id": "JLltq9Jzwl7g"
      },
      "source": [
        "# Curso Estadística y Análisis exploratorio\n",
        "Profesor: José David Ruiz Álvarez\n",
        "\n",
        "Correo: josed.ruiz@udea.edu.co\n",
        "\n",
        "## Sesión 3\n",
        "\n",
        "### Test estadísticos:\n",
        "\n",
        "\n",
        "1.   Estimadores\n",
        "2.   Ajustes lineales\n",
        "3.   Propagación de errores \n",
        "4.   Test de hipótesis\n",
        "5.   Bondad de ajuste\n",
        "6.   Intervalos de confianza\n"
      ]
    },
    {
      "cell_type": "code",
      "metadata": {
        "id": "VIOFpIynwY2L"
      },
      "source": [
        "import numpy as np\n",
        "import matplotlib.pyplot as plt"
      ],
      "execution_count": 1,
      "outputs": []
    },
    {
      "cell_type": "code",
      "metadata": {
        "id": "OHWB6WRs5bQq"
      },
      "source": [
        "def RectaConVariabilidad(xmin,xmax,m,b,puntos,mu=0,sigma=0.2):\n",
        "  return np.linspace(xmin,xmax,puntos),m*np.linspace(xmin,xmax,puntos)+b+np.random.normal(mu,sigma,puntos)"
      ],
      "execution_count": null,
      "outputs": []
    },
    {
      "cell_type": "code",
      "metadata": {
        "colab": {
          "base_uri": "https://localhost:8080/"
        },
        "id": "IwL60gCNeruI",
        "outputId": "5daf1e28-1905-4939-fcac-a5ccc8648c41"
      },
      "source": [
        "Pendiente=np.random.uniform(0.1,3)\n",
        "Intercepto=np.random.uniform(0.1,10)\n",
        "print(Pendiente,Intercepto)"
      ],
      "execution_count": null,
      "outputs": [
        {
          "output_type": "stream",
          "text": [
            "0.8469997473980426 5.119173064526562\n"
          ],
          "name": "stdout"
        }
      ]
    },
    {
      "cell_type": "code",
      "metadata": {
        "colab": {
          "base_uri": "https://localhost:8080/",
          "height": 283
        },
        "id": "SgdcspCo7rSo",
        "outputId": "2dd9c94c-fd06-4ab5-fd19-ec8b1894a89b"
      },
      "source": [
        "MiRectaConVar=RectaConVariabilidad(0.1,100,Pendiente,Intercepto,100,sigma=2.5)\n",
        "plt.plot(MiRectaConVar[0],MiRectaConVar[1],'r+')"
      ],
      "execution_count": null,
      "outputs": [
        {
          "output_type": "execute_result",
          "data": {
            "text/plain": [
              "[<matplotlib.lines.Line2D at 0x7f19e5988650>]"
            ]
          },
          "metadata": {
            "tags": []
          },
          "execution_count": 5
        },
        {
          "output_type": "display_data",
          "data": {
            "image/png": "[encoded data removed]",
            "text/plain": [
              "<Figure size 432x288 with 1 Axes>"
            ]
          },
          "metadata": {
            "tags": [],
            "needs_background": "light"
          }
        }
      ]
    },
    {
      "cell_type": "code",
      "metadata": {
        "id": "rZQjK0Lk75vk"
      },
      "source": [
        "def Line_chi2(Obs,x,m,b):\n",
        "  if len(Obs)!=len(x):\n",
        "    print(\"Debe haber la misma cantidad de puntos observados como de x\")\n",
        "    return\n",
        "  Chi2=((Obs-(m*x+b))**2)/(np.sqrt((m*x+b)**2))\n",
        "  return sum(Chi2)"
      ],
      "execution_count": null,
      "outputs": []
    },
    {
      "cell_type": "code",
      "metadata": {
        "id": "h52UDQSmEnG-"
      },
      "source": [
        "m_scan=np.linspace(0.1,3,100)\n",
        "b_scan=np.linspace(0.1,10,100)\n",
        "chi2scan=[]\n",
        "for i in m_scan:\n",
        "  for j in b_scan:\n",
        "    chi2scan.append([i,j,Line_chi2(MiRectaConVar[1],MiRectaConVar[0],i,j)])"
      ],
      "execution_count": null,
      "outputs": []
    },
    {
      "cell_type": "code",
      "metadata": {
        "colab": {
          "base_uri": "https://localhost:8080/"
        },
        "id": "v-KaHZaYIsB0",
        "outputId": "18dc971b-3786-4d46-fafa-7c019be64ef6"
      },
      "source": [
        "OnlyChi2=np.array(chi2scan).take(indices=2,axis=1)\n",
        "MinChi2=OnlyChi2.min()\n",
        "ArgMinChi2=OnlyChi2.argmin()\n",
        "print(MinChi2,ArgMinChi2)"
      ],
      "execution_count": null,
      "outputs": [
        {
          "output_type": "stream",
          "text": [
            "25.039149314664105 2559\n"
          ],
          "name": "stdout"
        }
      ]
    },
    {
      "cell_type": "code",
      "metadata": {
        "colab": {
          "base_uri": "https://localhost:8080/"
        },
        "id": "T08TJo8DKK1z",
        "outputId": "038e3d54-8e6c-4bd5-f1bd-01cb37ad887f"
      },
      "source": [
        "bestm=np.array(chi2scan).take(indices=0,axis=1)[ArgMinChi2]\n",
        "bestb=np.array(chi2scan).take(indices=1,axis=1)[ArgMinChi2]\n",
        "print(bestm,bestb)"
      ],
      "execution_count": null,
      "outputs": [
        {
          "output_type": "stream",
          "text": [
            "0.8323232323232322 6.0\n"
          ],
          "name": "stdout"
        }
      ]
    },
    {
      "cell_type": "markdown",
      "metadata": {
        "id": "XO0SaZb0B8uA"
      },
      "source": [
        "## Ejercicio 1\n",
        "\n",
        "Utilice el ejemplo para encontrar el intercepto y la pendiente tilizando las siguientes definiciones:\n",
        "\n",
        "1. $\\chi^{2}=\\sum_{i=1}^{n}\\frac{(N_{i}-\\nu_{i})^{2}}{\\nu_{i}^{2}}$\n",
        "2. $\\chi^{2}=\\sum_{i=1}^{n}\\frac{(N_{i}-\\nu_{i})^{2}}{N_{i}^{2}}$\n",
        "3. $\\chi^{2}=\\sum_{i=1}^{n}\\frac{(N_{i}-\\nu_{i})^{2}}{\\sigma^{2}}$ con $\\sigma=(x_{max}-x_{min})/n$"
      ]
    },
    {
      "cell_type": "markdown",
      "metadata": {
        "id": "7-niDdjib-K6"
      },
      "source": [
        "## Algunos posibles errores\n",
        "\n",
        "Dispersión en x: $\\sigma_{x}=(x_{max}-x_{min})/n$\n",
        "\n",
        "Dispersión en y: $\\sigma_{y}=(1/n)\\sum_{i=i}^{n}|y_{i}-(\\hat{m}x_{i}+\\hat{b})|$\n",
        "\n",
        "Covarianza: $\\sigma_{xy}=(1/n)\\sum_{i=i}^{n}|(y_{i}+\\sigma_{y})-(\\hat{m}(x_{i}+\\sigma_{x})+\\hat{b})|$\n",
        "\n",
        "Error sobre estimadores: $\\sigma_{m}\\propto\\sigma_{xy}$ y $\\sigma_{b}\\propto\\sigma_{y}$"
      ]
    },
    {
      "cell_type": "code",
      "metadata": {
        "colab": {
          "base_uri": "https://localhost:8080/",
          "height": 283
        },
        "id": "-e8_OQHEb9oI",
        "outputId": "7881218a-4c08-4f4d-cfe9-c6fabe04d65d"
      },
      "source": [
        "BestFit=bestm*MiRectaConVar[0]+bestb\n",
        "plt.plot(MiRectaConVar[0],MiRectaConVar[1],'r+')\n",
        "plt.plot(MiRectaConVar[0],BestFit,'b')"
      ],
      "execution_count": null,
      "outputs": [
        {
          "output_type": "execute_result",
          "data": {
            "text/plain": [
              "[<matplotlib.lines.Line2D at 0x7f19e526d050>]"
            ]
          },
          "metadata": {
            "tags": []
          },
          "execution_count": 11
        },
        {
          "output_type": "display_data",
          "data": {
            "image/png": "[encoded data removed]",
            "text/plain": [
              "<Figure size 432x288 with 1 Axes>"
            ]
          },
          "metadata": {
            "tags": [],
            "needs_background": "light"
          }
        }
      ]
    },
    {
      "cell_type": "code",
      "metadata": {
        "colab": {
          "base_uri": "https://localhost:8080/",
          "height": 283
        },
        "id": "v5jt2vgega-v",
        "outputId": "09e53311-93b0-4476-cdba-77898d188605"
      },
      "source": [
        "sigma_y=sum(np.abs(MiRectaConVar[1]-BestFit))/len(BestFit)\n",
        "plt.plot(MiRectaConVar[0],MiRectaConVar[1],'r+')\n",
        "plt.plot(MiRectaConVar[0],BestFit,'b')\n",
        "plt.plot(MiRectaConVar[0],BestFit+sigma_y,'g')\n",
        "plt.plot(MiRectaConVar[0],BestFit-sigma_y,'g')"
      ],
      "execution_count": null,
      "outputs": [
        {
          "output_type": "execute_result",
          "data": {
            "text/plain": [
              "[<matplotlib.lines.Line2D at 0x7f19e4f972d0>]"
            ]
          },
          "metadata": {
            "tags": []
          },
          "execution_count": 14
        },
        {
          "output_type": "display_data",
          "data": {
            "image/png": "[encoded data removed]",
            "text/plain": [
              "<Figure size 432x288 with 1 Axes>"
            ]
          },
          "metadata": {
            "tags": [],
            "needs_background": "light"
          }
        }
      ]
    },
    {
      "cell_type": "markdown",
      "metadata": {
        "id": "EIZqHdxmi_BV"
      },
      "source": [
        "## Método aleatorio de estimación de error sobre los estimadores"
      ]
    },
    {
      "cell_type": "code",
      "metadata": {
        "colab": {
          "base_uri": "https://localhost:8080/",
          "height": 283
        },
        "id": "GhbwX7Qdh1Jq",
        "outputId": "37dc1690-3103-461a-8f28-8f62abea0e82"
      },
      "source": [
        "RectaVariada=MiRectaConVar[1]+(np.multiply(sigma_y,np.random.randint(-1,2,len(MiRectaConVar[1]))))\n",
        "plt.plot(MiRectaConVar[0],MiRectaConVar[1],'r+')\n",
        "plt.plot(MiRectaConVar[0],RectaVariada,'k.')"
      ],
      "execution_count": null,
      "outputs": [
        {
          "output_type": "execute_result",
          "data": {
            "text/plain": [
              "[<matplotlib.lines.Line2D at 0x7f19e4b2df50>]"
            ]
          },
          "metadata": {
            "tags": []
          },
          "execution_count": 25
        },
        {
          "output_type": "display_data",
          "data": {
            "image/png": "[encoded data removed]",
            "text/plain": [
              "<Figure size 432x288 with 1 Axes>"
            ]
          },
          "metadata": {
            "tags": [],
            "needs_background": "light"
          }
        }
      ]
    },
    {
      "cell_type": "code",
      "metadata": {
        "colab": {
          "base_uri": "https://localhost:8080/"
        },
        "id": "Bx8e3ZvLkg2Z",
        "outputId": "4237a51b-7764-4e46-b858-3255efdcdfd9"
      },
      "source": [
        "chi2scanvar=[]\n",
        "for i in m_scan:\n",
        "  for j in b_scan:\n",
        "    chi2scanvar.append([i,j,Line_chi2(RectaVariada,MiRectaConVar[0],i,j)])\n",
        "OnlyChi2Var=np.array(chi2scanvar).take(indices=2,axis=1)\n",
        "MinChi2Var=OnlyChi2Var.min()\n",
        "ArgMinChi2Var=OnlyChi2Var.argmin()\n",
        "print(MinChi2Var,ArgMinChi2Var)\n",
        "bestmvar=np.array(chi2scanvar).take(indices=0,axis=1)[ArgMinChi2Var]\n",
        "bestbvar=np.array(chi2scanvar).take(indices=1,axis=1)[ArgMinChi2Var]\n",
        "print(bestmvar,bestbvar)\n",
        "print(abs(bestmvar-bestm),abs(bestbvar-bestb))"
      ],
      "execution_count": null,
      "outputs": [
        {
          "output_type": "stream",
          "text": [
            "41.09604559957364 2647\n",
            "0.8616161616161615 4.8\n",
            "0.02929292929292926 1.2000000000000002\n"
          ],
          "name": "stdout"
        }
      ]
    },
    {
      "cell_type": "markdown",
      "metadata": {
        "id": "SpCKVu64daTB"
      },
      "source": [
        "## Ejercicio 2\n",
        "\n",
        "Siguiendo el mismo ejemplo estime los errores para las definiciones alternativas del $\\chi_{2}$ del ejercicio 1 y compárelos con los obtenidos en la celda anterior."
      ]
    },
    {
      "cell_type": "markdown",
      "metadata": {
        "id": "zZVJ0Zdllt9V"
      },
      "source": [
        "## Ejercicio 3\n",
        "Estime el error en los estimadores como:\n",
        "\n",
        "$\\sigma_{b}$ como el máximo de variar por un $\\sigma_{y}$ el ajuste ideal.\n",
        "\n",
        "$\\sigma_{m}$ como el máximo de variar punto a punto simultáneamente $\\sigma_{x}$ y $\\sigma_{y}$."
      ]
    },
    {
      "cell_type": "markdown",
      "metadata": {
        "id": "X6HR5yVvmnd1"
      },
      "source": [
        "## Ejercicio 4\n",
        "\n",
        "Determine $\\sigma_{m}$ y $\\sigma_{b}$ como el máximo cambio en los estimadores con la mínima variación en $\\chi_{2}$ desde el mínimo. Compare con los resultados obtenidos en el ejemplo y en el ejercicio 3.\n"
      ]
    },
    {
      "cell_type": "markdown",
      "metadata": {
        "id": "oQDhJzqYf0eG"
      },
      "source": [
        "## Ajuste con función de verosimilitud\n",
        "\n",
        "Defina:\n",
        "$$L(m,b)=\\prod_{i=1}^{n}\\frac{1}{\\sqrt{2\\pi\\sigma_{x}^{2}}}e^{-\\frac{(y_{i}-(mx_{i}+b))^{2}}{2\\sigma_{x}^{2}}}$$\n",
        "\n"
      ]
    },
    {
      "cell_type": "markdown",
      "metadata": {
        "id": "yPZPDnXpoF6R"
      },
      "source": [
        "## Ejercicio 5:\n",
        "Utilice la definición de la función de verosimilitud para encontrar la pendiente y el intercepto que mejor se ajusten a los datos. Compare sus resultados con los obtenidos mediante el método de $\\chi_{2}$. ¿Son los resultados compatibles? Para responder debe comparar dentro de los errores asociados a los estimadores."
      ]
    },
    {
      "cell_type": "markdown",
      "metadata": {
        "id": "TC-ZqKI8W4p-"
      },
      "source": [
        "#Propagación de errores\n",
        "\n",
        "Considere dos variables aleatorias distribuídas de manera uniforme y considere una nueva variable aleatoria que sea función de ambas. ¿Cómo será la media y desviación estándar de la nueva variable aleatoria?"
      ]
    },
    {
      "cell_type": "markdown",
      "metadata": {
        "id": "acOdjBN6aEBf"
      },
      "source": [
        "## Variables independientes"
      ]
    },
    {
      "cell_type": "code",
      "metadata": {
        "id": "_epAqvNwW4Cr"
      },
      "source": [
        "X1 = np.random.normal(5,2,1000)\n",
        "X2 = np.random.normal(20,1,1000)\n",
        "Y = X1+X2"
      ],
      "execution_count": 2,
      "outputs": []
    },
    {
      "cell_type": "code",
      "metadata": {
        "colab": {
          "base_uri": "https://localhost:8080/",
          "height": 265
        },
        "id": "wb5kv8r1YDNO",
        "outputId": "cb85aacc-dcd3-456f-b076-67884434a364"
      },
      "source": [
        "HistoX1 = plt.hist(X1,bins=30)"
      ],
      "execution_count": 3,
      "outputs": [
        {
          "output_type": "display_data",
          "data": {
            "image/png": "[encoded data removed]",
            "text/plain": [
              "<Figure size 432x288 with 1 Axes>"
            ]
          },
          "metadata": {
            "tags": [],
            "needs_background": "light"
          }
        }
      ]
    },
    {
      "cell_type": "code",
      "metadata": {
        "colab": {
          "base_uri": "https://localhost:8080/",
          "height": 265
        },
        "id": "J8sD_rkHYJ0V",
        "outputId": "17d07ded-1f99-4ba6-c052-a4afe0f83cf2"
      },
      "source": [
        "HistoX2 = plt.hist(X2,bins=30)"
      ],
      "execution_count": 4,
      "outputs": [
        {
          "output_type": "display_data",
          "data": {
            "image/png": "[encoded data removed]",
            "text/plain": [
              "<Figure size 432x288 with 1 Axes>"
            ]
          },
          "metadata": {
            "tags": [],
            "needs_background": "light"
          }
        }
      ]
    },
    {
      "cell_type": "code",
      "metadata": {
        "colab": {
          "base_uri": "https://localhost:8080/",
          "height": 265
        },
        "id": "qw79JPo_YMc9",
        "outputId": "bfe094b9-f9c4-428d-aba1-96052932efc4"
      },
      "source": [
        "HistoY = plt.hist(Y,bins=30)"
      ],
      "execution_count": 5,
      "outputs": [
        {
          "output_type": "display_data",
          "data": {
            "image/png": "[encoded data removed]",
            "text/plain": [
              "<Figure size 432x288 with 1 Axes>"
            ]
          },
          "metadata": {
            "tags": [],
            "needs_background": "light"
          }
        }
      ]
    },
    {
      "cell_type": "code",
      "metadata": {
        "colab": {
          "base_uri": "https://localhost:8080/"
        },
        "id": "Jv_P8TrLYP51",
        "outputId": "c2409282-e3b4-4985-f540-dff2a05e0ec0"
      },
      "source": [
        "print(\"Las medias muestrales de las muestras son:\",np.mean(X1),np.mean(X2),np.mean(Y))"
      ],
      "execution_count": 6,
      "outputs": [
        {
          "output_type": "stream",
          "text": [
            "Las medias muestrales de las muestras son: 5.069940355896171 19.946992928639673 25.016933284535845\n"
          ],
          "name": "stdout"
        }
      ]
    },
    {
      "cell_type": "code",
      "metadata": {
        "colab": {
          "base_uri": "https://localhost:8080/"
        },
        "id": "W-8lwz7oZQSU",
        "outputId": "8b2f6057-9f3b-498b-d055-e48818dc4adc"
      },
      "source": [
        "print(\"Las desviaciones estándar de las muestras son:\",np.std(X1),np.std(X2),np.std(Y))"
      ],
      "execution_count": 7,
      "outputs": [
        {
          "output_type": "stream",
          "text": [
            "Las desviaciones estándar de las muestras son: 1.9568041753142607 1.046144029453229 2.2130538774306383\n"
          ],
          "name": "stdout"
        }
      ]
    },
    {
      "cell_type": "code",
      "metadata": {
        "colab": {
          "base_uri": "https://localhost:8080/"
        },
        "id": "g_HMiogFZoru",
        "outputId": "d1a59f38-f2c3-4d57-bc8f-a9bb2e72609b"
      },
      "source": [
        "print(\"Las desviación estándar de la suma sería teóricamente:\",np.sqrt(np.std(X1)**2+np.std(X2)**2))"
      ],
      "execution_count": 8,
      "outputs": [
        {
          "output_type": "stream",
          "text": [
            "Las desviaciones estándar de la suma sería teóricamente: 2.218896101868666\n"
          ],
          "name": "stdout"
        }
      ]
    },
    {
      "cell_type": "code",
      "metadata": {
        "colab": {
          "base_uri": "https://localhost:8080/",
          "height": 265
        },
        "id": "KwZJWC2ob9eD",
        "outputId": "1abcdc81-50bd-4494-bb48-25b1896ca126"
      },
      "source": [
        "Histo2D1 = plt.hist2d(X1,X2)"
      ],
      "execution_count": 26,
      "outputs": [
        {
          "output_type": "display_data",
          "data": {
            "image/png": "[encoded data removed]",
            "text/plain": [
              "<Figure size 432x288 with 1 Axes>"
            ]
          },
          "metadata": {
            "tags": [],
            "needs_background": "light"
          }
        }
      ]
    },
    {
      "cell_type": "markdown",
      "metadata": {
        "id": "V196vxcBeOyf"
      },
      "source": [
        "## Variables correlacionadas"
      ]
    },
    {
      "cell_type": "code",
      "metadata": {
        "id": "_PnSVBcrZ5NM"
      },
      "source": [
        "Z = np.multiply(Y,X1)"
      ],
      "execution_count": 19,
      "outputs": []
    },
    {
      "cell_type": "code",
      "metadata": {
        "colab": {
          "base_uri": "https://localhost:8080/",
          "height": 265
        },
        "id": "kbcC3ZpnbiD6",
        "outputId": "9157f21e-6e3b-421f-b99a-d197a311282e"
      },
      "source": [
        "HistoZ = plt.hist(Z,bins=30)"
      ],
      "execution_count": 20,
      "outputs": [
        {
          "output_type": "display_data",
          "data": {
            "image/png": "[encoded data removed]",
            "text/plain": [
              "<Figure size 432x288 with 1 Axes>"
            ]
          },
          "metadata": {
            "tags": [],
            "needs_background": "light"
          }
        }
      ]
    },
    {
      "cell_type": "code",
      "metadata": {
        "colab": {
          "base_uri": "https://localhost:8080/"
        },
        "id": "yXg6bQ0Kblsq",
        "outputId": "ec29434f-9dfb-44fd-bbe5-b3bd9ada8eee"
      },
      "source": [
        "print(\"La media y desviación estándar de la nueva variable aleatoria son:\",np.mean(Z),np.std(Z))\n",
        "print(\"Las desviación estándar de la suma sería teóricamente, sin covarianza:\",np.sqrt(np.std(X1)**2+np.std(Y)**2))"
      ],
      "execution_count": 21,
      "outputs": [
        {
          "output_type": "stream",
          "text": [
            "La media y desviación estándar de la nueva variable aleatoria son: 130.65049599731918 59.66550767788863\n",
            "Las desviación estándar de la suma sería teóricamente, sin covarianza: 2.954097162406495\n"
          ],
          "name": "stdout"
        }
      ]
    },
    {
      "cell_type": "code",
      "metadata": {
        "colab": {
          "base_uri": "https://localhost:8080/",
          "height": 265
        },
        "id": "ts0p2ES6dttH",
        "outputId": "90014a06-16ff-4493-b929-4987c44424c9"
      },
      "source": [
        "Histo2D2 = plt.hist2d(Y,X1)"
      ],
      "execution_count": 27,
      "outputs": [
        {
          "output_type": "display_data",
          "data": {
            "image/png": "[encoded data removed]",
            "text/plain": [
              "<Figure size 432x288 with 1 Axes>"
            ]
          },
          "metadata": {
            "tags": [],
            "needs_background": "light"
          }
        }
      ]
    },
    {
      "cell_type": "code",
      "metadata": {
        "id": "jL2OHkf5eFbI"
      },
      "source": [
        "CovMatrix = np.cov(np.array([Y,X1]))"
      ],
      "execution_count": 29,
      "outputs": []
    },
    {
      "cell_type": "code",
      "metadata": {
        "colab": {
          "base_uri": "https://localhost:8080/"
        },
        "id": "7-S5iu8Te9Bp",
        "outputId": "669f10ee-b880-4976-aebe-ee6c848032f9"
      },
      "source": [
        "np.sqrt(CovMatrix)"
      ],
      "execution_count": 31,
      "outputs": [
        {
          "output_type": "execute_result",
          "data": {
            "text/plain": [
              "array([[2.21416123, 1.95447085],\n",
              "       [1.95447085, 1.95778331]])"
            ]
          },
          "metadata": {
            "tags": []
          },
          "execution_count": 31
        }
      ]
    },
    {
      "cell_type": "code",
      "metadata": {
        "id": "yA58ikmAfBHe"
      },
      "source": [
        ""
      ],
      "execution_count": null,
      "outputs": []
    }
  ]
}