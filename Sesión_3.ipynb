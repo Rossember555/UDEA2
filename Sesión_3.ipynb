{
  "nbformat": 4,
  "nbformat_minor": 0,
  "metadata": {
    "colab": {
      "name": "Sesión 3",
      "provenance": [],
      "collapsed_sections": [],
      "authorship_tag": "ABX9TyPiTJhw5+Ikljapo4HipDqN",
      "include_colab_link": true
    },
    "kernelspec": {
      "name": "python3",
      "display_name": "Python 3"
    }
  },
  "cells": [
    {
      "cell_type": "markdown",
      "metadata": {
        "id": "view-in-github",
        "colab_type": "text"
      },
      "source": [
        "<a href=\"https://colab.research.google.com/github/jotadram6/EACD-02-ESTADISTICA/blob/master/Sesi%C3%B3n_3.ipynb\" target=\"_parent\"><img src=\"https://colab.research.google.com/assets/colab-badge.svg\" alt=\"Open In Colab\"/></a>"
      ]
    },
    {
      "cell_type": "markdown",
      "metadata": {
        "id": "JLltq9Jzwl7g"
      },
      "source": [
        "# Curso Estadística y Análisis exploratorio\n",
        "Profesor: José David Ruiz Álvarez\n",
        "\n",
        "Correo: josed.ruiz@udea.edu.co\n",
        "\n",
        "## Sesión 3\n",
        "\n",
        "### Test estadísticos:\n",
        "\n",
        "\n",
        "1.   Estimadores\n",
        "2.   Ajustes lineales\n",
        "3.   Propagación de errores \n",
        "4.   Test de hipótesis\n",
        "5.   Bondad de ajuste\n",
        "6.   Intervalos de confianza\n"
      ]
    },
    {
      "cell_type": "code",
      "metadata": {
        "id": "VIOFpIynwY2L"
      },
      "source": [
        "import numpy as np\n",
        "import matplotlib.pyplot as plt"
      ],
      "execution_count": 2,
      "outputs": []
    },
    {
      "cell_type": "code",
      "metadata": {
        "id": "OHWB6WRs5bQq"
      },
      "source": [
        "def RectaConVariabilidad(xmin,xmax,m,b,puntos,mu=0,sigma=0.2):\n",
        "  return np.linspace(xmin,xmax,puntos),m*np.linspace(xmin,xmax,puntos)+b+np.random.normal(mu,sigma,puntos)"
      ],
      "execution_count": 3,
      "outputs": []
    },
    {
      "cell_type": "code",
      "metadata": {
        "colab": {
          "base_uri": "https://localhost:8080/"
        },
        "id": "IwL60gCNeruI",
        "outputId": "5daf1e28-1905-4939-fcac-a5ccc8648c41"
      },
      "source": [
        "Pendiente=np.random.uniform(0.1,3)\n",
        "Intercepto=np.random.uniform(0.1,10)\n",
        "print(Pendiente,Intercepto)"
      ],
      "execution_count": 4,
      "outputs": [
        {
          "output_type": "stream",
          "text": [
            "0.8469997473980426 5.119173064526562\n"
          ],
          "name": "stdout"
        }
      ]
    },
    {
      "cell_type": "code",
      "metadata": {
        "colab": {
          "base_uri": "https://localhost:8080/",
          "height": 283
        },
        "id": "SgdcspCo7rSo",
        "outputId": "2dd9c94c-fd06-4ab5-fd19-ec8b1894a89b"
      },
      "source": [
        "MiRectaConVar=RectaConVariabilidad(0.1,100,Pendiente,Intercepto,100,sigma=2.5)\n",
        "plt.plot(MiRectaConVar[0],MiRectaConVar[1],'r+')"
      ],
      "execution_count": 5,
      "outputs": [
        {
          "output_type": "execute_result",
          "data": {
            "text/plain": [
              "[<matplotlib.lines.Line2D at 0x7f19e5988650>]"
            ]
          },
          "metadata": {
            "tags": []
          },
          "execution_count": 5
        },
        {
          "output_type": "display_data",
          "data": {
            "image/png": "[encoded data removed]",
            "text/plain": [
              "<Figure size 432x288 with 1 Axes>"
            ]
          },
          "metadata": {
            "tags": [],
            "needs_background": "light"
          }
        }
      ]
    },
    {
      "cell_type": "code",
      "metadata": {
        "id": "rZQjK0Lk75vk"
      },
      "source": [
        "def Line_chi2(Obs,x,m,b):\n",
        "  if len(Obs)!=len(x):\n",
        "    print(\"Debe haber la misma cantidad de puntos observados como de x\")\n",
        "    return\n",
        "  Chi2=((Obs-(m*x+b))**2)/(np.sqrt((m*x+b)**2))\n",
        "  return sum(Chi2)"
      ],
      "execution_count": 6,
      "outputs": []
    },
    {
      "cell_type": "code",
      "metadata": {
        "id": "h52UDQSmEnG-"
      },
      "source": [
        "m_scan=np.linspace(0.1,3,100)\n",
        "b_scan=np.linspace(0.1,10,100)\n",
        "chi2scan=[]\n",
        "for i in m_scan:\n",
        "  for j in b_scan:\n",
        "    chi2scan.append([i,j,Line_chi2(MiRectaConVar[1],MiRectaConVar[0],i,j)])"
      ],
      "execution_count": 7,
      "outputs": []
    },
    {
      "cell_type": "code",
      "metadata": {
        "colab": {
          "base_uri": "https://localhost:8080/"
        },
        "id": "v-KaHZaYIsB0",
        "outputId": "18dc971b-3786-4d46-fafa-7c019be64ef6"
      },
      "source": [
        "OnlyChi2=np.array(chi2scan).take(indices=2,axis=1)\n",
        "MinChi2=OnlyChi2.min()\n",
        "ArgMinChi2=OnlyChi2.argmin()\n",
        "print(MinChi2,ArgMinChi2)"
      ],
      "execution_count": 8,
      "outputs": [
        {
          "output_type": "stream",
          "text": [
            "25.039149314664105 2559\n"
          ],
          "name": "stdout"
        }
      ]
    },
    {
      "cell_type": "code",
      "metadata": {
        "colab": {
          "base_uri": "https://localhost:8080/"
        },
        "id": "T08TJo8DKK1z",
        "outputId": "038e3d54-8e6c-4bd5-f1bd-01cb37ad887f"
      },
      "source": [
        "bestm=np.array(chi2scan).take(indices=0,axis=1)[ArgMinChi2]\n",
        "bestb=np.array(chi2scan).take(indices=1,axis=1)[ArgMinChi2]\n",
        "print(bestm,bestb)"
      ],
      "execution_count": 9,
      "outputs": [
        {
          "output_type": "stream",
          "text": [
            "0.8323232323232322 6.0\n"
          ],
          "name": "stdout"
        }
      ]
    },
    {
      "cell_type": "markdown",
      "metadata": {
        "id": "XO0SaZb0B8uA"
      },
      "source": [
        "## Ejercicio 1\n",
        "\n",
        "Utilice el ejemplo para encontrar el intercepto y la pendiente tilizando las siguientes definiciones:\n",
        "\n",
        "1. $\\chi^{2}=\\sum_{i=1}^{n}\\frac{(N_{i}-\\nu_{i})^{2}}{\\nu_{i}^{2}}$\n",
        "2. $\\chi^{2}=\\sum_{i=1}^{n}\\frac{(N_{i}-\\nu_{i})^{2}}{N_{i}^{2}}$\n",
        "3. $\\chi^{2}=\\sum_{i=1}^{n}\\frac{(N_{i}-\\nu_{i})^{2}}{\\sigma^{2}}$ con $\\sigma=(x_{max}-x_{min})/n$"
      ]
    },
    {
      "cell_type": "markdown",
      "metadata": {
        "id": "7-niDdjib-K6"
      },
      "source": [
        "## Algunos posibles errores\n",
        "\n",
        "Dispersión en x: $\\sigma_{x}=(x_{max}-x_{min})/n$\n",
        "\n",
        "Dispersión en y: $\\sigma_{y}=(1/n)\\sum_{i=i}^{n}|y_{i}-(\\hat{m}x_{i}+\\hat{b})|$\n",
        "\n",
        "Covarianza: $\\sigma_{xy}=(1/n)\\sum_{i=i}^{n}|(y_{i}+\\sigma_{y})-(\\hat{m}(x_{i}+\\sigma_{x})+\\hat{b})|$\n",
        "\n",
        "Error sobre estimadores: $\\sigma_{m}\\propto\\sigma_{xy}$ y $\\sigma_{b}\\propto\\sigma_{y}$"
      ]
    },
    {
      "cell_type": "code",
      "metadata": {
        "colab": {
          "base_uri": "https://localhost:8080/",
          "height": 283
        },
        "id": "-e8_OQHEb9oI",
        "outputId": "7881218a-4c08-4f4d-cfe9-c6fabe04d65d"
      },
      "source": [
        "BestFit=bestm*MiRectaConVar[0]+bestb\n",
        "plt.plot(MiRectaConVar[0],MiRectaConVar[1],'r+')\n",
        "plt.plot(MiRectaConVar[0],BestFit,'b')"
      ],
      "execution_count": 11,
      "outputs": [
        {
          "output_type": "execute_result",
          "data": {
            "text/plain": [
              "[<matplotlib.lines.Line2D at 0x7f19e526d050>]"
            ]
          },
          "metadata": {
            "tags": []
          },
          "execution_count": 11
        },
        {
          "output_type": "display_data",
          "data": {
            "image/png": "[encoded data removed]",
            "text/plain": [
              "<Figure size 432x288 with 1 Axes>"
            ]
          },
          "metadata": {
            "tags": [],
            "needs_background": "light"
          }
        }
      ]
    },
    {
      "cell_type": "code",
      "metadata": {
        "colab": {
          "base_uri": "https://localhost:8080/",
          "height": 283
        },
        "id": "v5jt2vgega-v",
        "outputId": "09e53311-93b0-4476-cdba-77898d188605"
      },
      "source": [
        "sigma_y=sum(np.abs(MiRectaConVar[1]-BestFit))/len(BestFit)\n",
        "plt.plot(MiRectaConVar[0],MiRectaConVar[1],'r+')\n",
        "plt.plot(MiRectaConVar[0],BestFit,'b')\n",
        "plt.plot(MiRectaConVar[0],BestFit+sigma_y,'g')\n",
        "plt.plot(MiRectaConVar[0],BestFit-sigma_y,'g')"
      ],
      "execution_count": 14,
      "outputs": [
        {
          "output_type": "execute_result",
          "data": {
            "text/plain": [
              "[<matplotlib.lines.Line2D at 0x7f19e4f972d0>]"
            ]
          },
          "metadata": {
            "tags": []
          },
          "execution_count": 14
        },
        {
          "output_type": "display_data",
          "data": {
            "image/png": "[encoded data removed]",
            "text/plain": [
              "<Figure size 432x288 with 1 Axes>"
            ]
          },
          "metadata": {
            "tags": [],
            "needs_background": "light"
          }
        }
      ]
    },
    {
      "cell_type": "markdown",
      "metadata": {
        "id": "EIZqHdxmi_BV"
      },
      "source": [
        "## Método aleatorio de estimación de error sobre los estimadores"
      ]
    },
    {
      "cell_type": "code",
      "metadata": {
        "colab": {
          "base_uri": "https://localhost:8080/",
          "height": 283
        },
        "id": "GhbwX7Qdh1Jq",
        "outputId": "37dc1690-3103-461a-8f28-8f62abea0e82"
      },
      "source": [
        "RectaVariada=MiRectaConVar[1]+(np.multiply(sigma_y,np.random.randint(-1,2,len(MiRectaConVar[1]))))\n",
        "plt.plot(MiRectaConVar[0],MiRectaConVar[1],'r+')\n",
        "plt.plot(MiRectaConVar[0],RectaVariada,'k.')"
      ],
      "execution_count": 25,
      "outputs": [
        {
          "output_type": "execute_result",
          "data": {
            "text/plain": [
              "[<matplotlib.lines.Line2D at 0x7f19e4b2df50>]"
            ]
          },
          "metadata": {
            "tags": []
          },
          "execution_count": 25
        },
        {
          "output_type": "display_data",
          "data": {
            "image/png": "[encoded data removed]",
            "text/plain": [
              "<Figure size 432x288 with 1 Axes>"
            ]
          },
          "metadata": {
            "tags": [],
            "needs_background": "light"
          }
        }
      ]
    },
    {
      "cell_type": "code",
      "metadata": {
        "colab": {
          "base_uri": "https://localhost:8080/"
        },
        "id": "Bx8e3ZvLkg2Z",
        "outputId": "4237a51b-7764-4e46-b858-3255efdcdfd9"
      },
      "source": [
        "chi2scanvar=[]\n",
        "for i in m_scan:\n",
        "  for j in b_scan:\n",
        "    chi2scanvar.append([i,j,Line_chi2(RectaVariada,MiRectaConVar[0],i,j)])\n",
        "OnlyChi2Var=np.array(chi2scanvar).take(indices=2,axis=1)\n",
        "MinChi2Var=OnlyChi2Var.min()\n",
        "ArgMinChi2Var=OnlyChi2Var.argmin()\n",
        "print(MinChi2Var,ArgMinChi2Var)\n",
        "bestmvar=np.array(chi2scanvar).take(indices=0,axis=1)[ArgMinChi2Var]\n",
        "bestbvar=np.array(chi2scanvar).take(indices=1,axis=1)[ArgMinChi2Var]\n",
        "print(bestmvar,bestbvar)\n",
        "print(abs(bestmvar-bestm),abs(bestbvar-bestb))"
      ],
      "execution_count": 26,
      "outputs": [
        {
          "output_type": "stream",
          "text": [
            "41.09604559957364 2647\n",
            "0.8616161616161615 4.8\n",
            "0.02929292929292926 1.2000000000000002\n"
          ],
          "name": "stdout"
        }
      ]
    },
    {
      "cell_type": "markdown",
      "metadata": {
        "id": "SpCKVu64daTB"
      },
      "source": [
        "## Ejercicio 2\n",
        "\n",
        "Siguiendo el mismo ejemplo estime los errores para las definiciones alternativas del $\\chi_{2}$ del ejercicio 1 y compárelos con los obtenidos en la celda anterior."
      ]
    },
    {
      "cell_type": "markdown",
      "metadata": {
        "id": "zZVJ0Zdllt9V"
      },
      "source": [
        "## Ejercicio 3\n",
        "Estime el error en los estimadores como:\n",
        "\n",
        "$\\sigma_{b}$ como el máximo de variar por un $\\sigma_{y}$ el ajuste ideal.\n",
        "\n",
        "$\\sigma_{m}$ como el máximo de variar punto a punto simultáneamente $\\sigma_{x}$ y $\\sigma_{y}$."
      ]
    },
    {
      "cell_type": "markdown",
      "metadata": {
        "id": "X6HR5yVvmnd1"
      },
      "source": [
        "## Ejercicio 4\n",
        "\n",
        "Determine $\\sigma_{m}$ y $\\sigma_{b}$ como el máximo cambio en los estimadores con la mínima variación en $\\chi_{2}$ desde el mínimo. Compare con los resultados obtenidos en el ejemplo y en el ejercicio 3.\n"
      ]
    },
    {
      "cell_type": "markdown",
      "metadata": {
        "id": "oQDhJzqYf0eG"
      },
      "source": [
        "## Ajuste con función de verosimilitud\n",
        "\n",
        "Defina:\n",
        "$$L(m,b)=\\prod_{i=1}^{n}\\frac{1}{\\sqrt{2\\pi\\sigma_{x}^{2}}}e^{-\\frac{(y_{i}-(mx_{i}+b))^{2}}{2\\sigma_{x}^{2}}}$$\n",
        "\n"
      ]
    },
    {
      "cell_type": "markdown",
      "metadata": {
        "id": "yPZPDnXpoF6R"
      },
      "source": [
        "## Ejercicio 5:\n",
        "Utilice la definición de la función de verosimilitud para encontrar la pendiente y el intercepto que mejor se ajusten a los datos. Compare sus resultados con los obtenidos mediante el método de $\\chi_{2}$. ¿Son los resultados compatibles? Para responder debe comparar dentro de los errores asociados a los estimadores."
      ]
    }
  ]
}